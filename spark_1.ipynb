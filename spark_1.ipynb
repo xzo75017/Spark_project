{
 "cells": [
  {
   "cell_type": "markdown",
   "id": "f00df014",
   "metadata": {},
   "source": [
    "<h1> How to create RDDs </h1>\n",
    "\n",
    "<h2> Methods of RDDs </h2>\n",
    "\n",
    "1.from variable\n",
    "2.from RDD\n",
    "3.from External Datasets"
   ]
  },
  {
   "cell_type": "code",
   "execution_count": 19,
   "id": "aea6421c",
   "metadata": {},
   "outputs": [],
   "source": [
    "import os\n",
    "import sys\n",
    "from pyspark import SparkContext\n",
    "os.environ['PYSPARK_PYTHON'] = sys.executable\n",
    "os.environ['PYSPARK_DRIVER_PYTHON'] = sys.executable"
   ]
  },
  {
   "cell_type": "code",
   "execution_count": 22,
   "id": "3914ebe8",
   "metadata": {},
   "outputs": [],
   "source": [
    "sc = SparkContext()"
   ]
  },
  {
   "cell_type": "code",
   "execution_count": 21,
   "id": "7f30b7b7",
   "metadata": {},
   "outputs": [],
   "source": [
    "sc.stop()"
   ]
  },
  {
   "cell_type": "code",
   "execution_count": 23,
   "id": "2f3e8402",
   "metadata": {},
   "outputs": [],
   "source": [
    "a1 = [\"b\", \"a\", \"c\"]\n",
    "x = sc.parallelize(a1)"
   ]
  },
  {
   "cell_type": "markdown",
   "id": "f40f24b5",
   "metadata": {},
   "source": [
    "<h1> map() </h1>"
   ]
  },
  {
   "cell_type": "code",
   "execution_count": 24,
   "id": "985ec129",
   "metadata": {},
   "outputs": [],
   "source": [
    "y2 = x.map(lambda z: (z, 1))"
   ]
  },
  {
   "cell_type": "code",
   "execution_count": 25,
   "id": "9c53fff7",
   "metadata": {},
   "outputs": [
    {
     "data": {
      "text/plain": [
       "[('b', 1), ('a', 1), ('c', 1)]"
      ]
     },
     "execution_count": 25,
     "metadata": {},
     "output_type": "execute_result"
    }
   ],
   "source": [
    "y2.collect()"
   ]
  },
  {
   "cell_type": "markdown",
   "id": "de1edf5b",
   "metadata": {},
   "source": [
    "<h1> flatMap() </h1>"
   ]
  },
  {
   "cell_type": "code",
   "execution_count": null,
   "id": "1ba589fd",
   "metadata": {},
   "outputs": [],
   "source": [
    "# It applies to each element of RDD and it returns the result as new RDD\n",
    "#It is similar to Map but FlatMap allows returning 0, 1 or more elements from map function "
   ]
  },
  {
   "cell_type": "code",
   "execution_count": 30,
   "id": "687afc6c",
   "metadata": {},
   "outputs": [],
   "source": [
    "x = sc.parallelize([1, 2, 3])"
   ]
  },
  {
   "cell_type": "code",
   "execution_count": 31,
   "id": "e9bf1480",
   "metadata": {},
   "outputs": [],
   "source": [
    "y = x.flatMap(lambda x: (x, x*100, 42))"
   ]
  },
  {
   "cell_type": "code",
   "execution_count": 32,
   "id": "26ae8be3",
   "metadata": {},
   "outputs": [
    {
     "data": {
      "text/plain": [
       "[1, 100, 42, 2, 200, 42, 3, 300, 42]"
      ]
     },
     "execution_count": 32,
     "metadata": {},
     "output_type": "execute_result"
    }
   ],
   "source": [
    "y.collect()"
   ]
  },
  {
   "cell_type": "code",
   "execution_count": 33,
   "id": "f6769c7c",
   "metadata": {},
   "outputs": [],
   "source": [
    "d1 = [\"This is a flatMap operation in Pyspark\"]\n",
    "rdd1 = sc.parallelize(d1)\n",
    "rdd2 = rdd1.flatMap(lambda x: x.split(\" \"))"
   ]
  },
  {
   "cell_type": "code",
   "execution_count": 34,
   "id": "e24f0681",
   "metadata": {},
   "outputs": [
    {
     "data": {
      "text/plain": [
       "['This', 'is', 'a', 'flatMap', 'operation', 'in', 'Pyspark']"
      ]
     },
     "execution_count": 34,
     "metadata": {},
     "output_type": "execute_result"
    }
   ],
   "source": [
    "rdd2.collect()"
   ]
  },
  {
   "cell_type": "code",
   "execution_count": 35,
   "id": "232ac393",
   "metadata": {},
   "outputs": [],
   "source": [
    "y = rdd2.map(lambda z: (z, 1))"
   ]
  },
  {
   "cell_type": "code",
   "execution_count": 36,
   "id": "28481b3b",
   "metadata": {},
   "outputs": [
    {
     "data": {
      "text/plain": [
       "[('This', 1),\n",
       " ('is', 1),\n",
       " ('a', 1),\n",
       " ('flatMap', 1),\n",
       " ('operation', 1),\n",
       " ('in', 1),\n",
       " ('Pyspark', 1)]"
      ]
     },
     "execution_count": 36,
     "metadata": {},
     "output_type": "execute_result"
    }
   ],
   "source": [
    "y.collect()"
   ]
  },
  {
   "cell_type": "markdown",
   "id": "2cfa0a65",
   "metadata": {},
   "source": [
    "<h1> filter() </h1>"
   ]
  },
  {
   "cell_type": "code",
   "execution_count": 37,
   "id": "6e9e814d",
   "metadata": {},
   "outputs": [],
   "source": [
    "#It returns an RDD that only has element that pass the condition"
   ]
  },
  {
   "cell_type": "code",
   "execution_count": 43,
   "id": "78775aad",
   "metadata": {},
   "outputs": [],
   "source": [
    "x = sc.parallelize([1, 2, 3, 4, 5, 6, 7, 8, 9, 10])\n",
    "y = x.filter(lambda x: x%2 == 1) #keep odd values"
   ]
  },
  {
   "cell_type": "code",
   "execution_count": 44,
   "id": "89107cfa",
   "metadata": {},
   "outputs": [
    {
     "data": {
      "text/plain": [
       "[1, 3, 5, 7, 9]"
      ]
     },
     "execution_count": 44,
     "metadata": {},
     "output_type": "execute_result"
    }
   ],
   "source": [
    "y.collect()"
   ]
  },
  {
   "cell_type": "code",
   "execution_count": 40,
   "id": "c457ffc0",
   "metadata": {},
   "outputs": [
    {
     "data": {
      "text/plain": [
       "['This', 'is', 'a', 'flatMap', 'operation', 'in', 'Pyspark']"
      ]
     },
     "execution_count": 40,
     "metadata": {},
     "output_type": "execute_result"
    }
   ],
   "source": [
    "rdd2.collect()"
   ]
  },
  {
   "cell_type": "code",
   "execution_count": 45,
   "id": "86352170",
   "metadata": {},
   "outputs": [],
   "source": [
    "y = rdd2.filter(lambda x: x == 'operation')"
   ]
  },
  {
   "cell_type": "code",
   "execution_count": 46,
   "id": "769c271a",
   "metadata": {},
   "outputs": [
    {
     "data": {
      "text/plain": [
       "['operation']"
      ]
     },
     "execution_count": 46,
     "metadata": {},
     "output_type": "execute_result"
    }
   ],
   "source": [
    "y.collect()"
   ]
  },
  {
   "cell_type": "markdown",
   "id": "c8d86dcc",
   "metadata": {},
   "source": [
    "<h1> distinct() </h1>"
   ]
  },
  {
   "cell_type": "code",
   "execution_count": 47,
   "id": "bd720e6e",
   "metadata": {},
   "outputs": [],
   "source": [
    "#It returns a new dataset that contains the distinct elements of the source dataset. It is helpful to remove duplicate data \n",
    "#For example, if RDD has eements (Spark, Spark, Hadoop, Flink), then rdd.distinct() will five elements (Spark, Hadoop, Flink)"
   ]
  },
  {
   "cell_type": "code",
   "execution_count": 48,
   "id": "c483cd11",
   "metadata": {},
   "outputs": [
    {
     "data": {
      "text/plain": [
       "['r', 'a', 'h']"
      ]
     },
     "execution_count": 48,
     "metadata": {},
     "output_type": "execute_result"
    }
   ],
   "source": [
    "sc.parallelize(('a','r','a','h','h')).distinct().collect()"
   ]
  },
  {
   "cell_type": "markdown",
   "id": "4da17449",
   "metadata": {},
   "source": [
    "<h1> Actions Functions </h1>\n",
    "\n",
    "<h1> count() </h1>"
   ]
  },
  {
   "cell_type": "code",
   "execution_count": 49,
   "id": "9445b15a",
   "metadata": {},
   "outputs": [
    {
     "data": {
      "text/plain": [
       "4"
      ]
     },
     "execution_count": 49,
     "metadata": {},
     "output_type": "execute_result"
    }
   ],
   "source": [
    "#Action count() return the number of elements in RDD. \n",
    "sc.parallelize((1, 2, 3, 4)).count()"
   ]
  },
  {
   "cell_type": "markdown",
   "id": "fcc4216b",
   "metadata": {},
   "source": [
    "<h1> sum() </h1>"
   ]
  },
  {
   "cell_type": "code",
   "execution_count": 50,
   "id": "5a307781",
   "metadata": {},
   "outputs": [
    {
     "data": {
      "text/plain": [
       "10"
      ]
     },
     "execution_count": 50,
     "metadata": {},
     "output_type": "execute_result"
    }
   ],
   "source": [
    "#It adds up the value in an RDD.\n",
    "sc.parallelize((1, 2, 3, 4)).sum()"
   ]
  },
  {
   "cell_type": "markdown",
   "id": "a0d627e9",
   "metadata": {},
   "source": [
    "<h1> max() </h1>"
   ]
  },
  {
   "cell_type": "code",
   "execution_count": 51,
   "id": "b8ffc64d",
   "metadata": {},
   "outputs": [],
   "source": [
    "#Return the maximum value from the dataset.\n",
    "x = sc.parallelize((2, 4, 1))"
   ]
  },
  {
   "cell_type": "code",
   "execution_count": 52,
   "id": "04dd9e46",
   "metadata": {},
   "outputs": [
    {
     "data": {
      "text/plain": [
       "4"
      ]
     },
     "execution_count": 52,
     "metadata": {},
     "output_type": "execute_result"
    }
   ],
   "source": [
    "x.max()"
   ]
  },
  {
   "cell_type": "code",
   "execution_count": 53,
   "id": "8ea432b3",
   "metadata": {},
   "outputs": [
    {
     "data": {
      "text/plain": [
       "1"
      ]
     },
     "execution_count": 53,
     "metadata": {},
     "output_type": "execute_result"
    }
   ],
   "source": [
    "x.min()"
   ]
  },
  {
   "cell_type": "markdown",
   "id": "ca5403e9",
   "metadata": {},
   "source": [
    "<h1> mean() </h1>"
   ]
  },
  {
   "cell_type": "code",
   "execution_count": 55,
   "id": "643ff04d",
   "metadata": {},
   "outputs": [
    {
     "data": {
      "text/plain": [
       "2.3333333333333335"
      ]
     },
     "execution_count": 55,
     "metadata": {},
     "output_type": "execute_result"
    }
   ],
   "source": [
    "#Alias for Avg. Return the average of the values in a colum.\n",
    "x = sc.parallelize([2, 4, 1])\n",
    "x.mean()"
   ]
  },
  {
   "cell_type": "code",
   "execution_count": 56,
   "id": "e9a7a6d1",
   "metadata": {},
   "outputs": [],
   "source": [
    "sc.stop()"
   ]
  },
  {
   "cell_type": "code",
   "execution_count": null,
   "id": "368ecc55",
   "metadata": {},
   "outputs": [],
   "source": []
  }
 ],
 "metadata": {
  "kernelspec": {
   "display_name": "Python 3 (ipykernel)",
   "language": "python",
   "name": "python3"
  },
  "language_info": {
   "codemirror_mode": {
    "name": "ipython",
    "version": 3
   },
   "file_extension": ".py",
   "mimetype": "text/x-python",
   "name": "python",
   "nbconvert_exporter": "python",
   "pygments_lexer": "ipython3",
   "version": "3.9.7"
  }
 },
 "nbformat": 4,
 "nbformat_minor": 5
}
