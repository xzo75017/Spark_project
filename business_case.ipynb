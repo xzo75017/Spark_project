{
 "cells": [
  {
   "cell_type": "code",
   "execution_count": 17,
   "id": "9ccedbf9",
   "metadata": {},
   "outputs": [],
   "source": [
    "#importing pyspark\n",
    "import pyspark"
   ]
  },
  {
   "cell_type": "code",
   "execution_count": 18,
   "id": "c569f0e8",
   "metadata": {},
   "outputs": [],
   "source": [
    "#importing sparksession\n",
    "from pyspark.sql import SparkSession"
   ]
  },
  {
   "cell_type": "code",
   "execution_count": 19,
   "id": "482331e8",
   "metadata": {},
   "outputs": [],
   "source": [
    "#creating a sparksession object and providing appName\n",
    "spark=SparkSession.builder.appName(\"business_case\").getOrCreate()"
   ]
  },
  {
   "cell_type": "code",
   "execution_count": 16,
   "id": "34b3f9fe",
   "metadata": {},
   "outputs": [],
   "source": [
    "spark.stop()"
   ]
  },
  {
   "cell_type": "code",
   "execution_count": 20,
   "id": "4b3c2a4d",
   "metadata": {},
   "outputs": [],
   "source": [
    "#To create dataframe form external Datasets\n",
    "AirlineDF = spark.read.option(\"header\",\"true\").csv(\"airlines1.csv\")"
   ]
  },
  {
   "cell_type": "code",
   "execution_count": 12,
   "id": "2f597cd9",
   "metadata": {},
   "outputs": [
    {
     "name": "stdout",
     "output_type": "stream",
     "text": [
      "+---+----+-------+-----+----------+---------+----------+-----------------+------------------------+---------------------------+-----------+-------------------------------+---------------+------------------+------------------+------+--------------------+-----------+---------------+---------------+---------+-------------+----------------+----------------+----+--------------------+---------+-------------+--------------+-------+----------+-------+--------+---------------+--------+--------------------+----------+-------+---------+--------+------+----------+-------+--------+---------------+--------+------------------+----------+---------+----------------+--------+--------------+-----------------+-------+-------+--------+-------------+------------+------------+--------+-------------+-----------------+------------+-------------+---------------+------------------+--------------+--------------------+-----------+-----------+-----------+-------------+----------------+------------+--------------+----------------+-------------+-----------+-----------+-------------+----------------+------------+--------------+----------------+-------------+-----------+-----------+-------------+----------------+------------+--------------+----------------+-------------+-----------+-----------+-------------+----------------+------------+--------------+----------------+-------------+-----------+-----------+-------------+----------------+------------+--------------+----------------+-------------+-----------+\n",
      "|_c0|Year|Quarter|Month|DayofMonth|DayOfWeek|FlightDate|Reporting_Airline|DOT_ID_Reporting_Airline|IATA_CODE_Reporting_Airline|Tail_Number|Flight_Number_Reporting_Airline|OriginAirportID|OriginAirportSeqID|OriginCityMarketID|Origin|      OriginCityName|OriginState|OriginStateFips|OriginStateName|OriginWac|DestAirportID|DestAirportSeqID|DestCityMarketID|Dest|        DestCityName|DestState|DestStateFips| DestStateName|DestWac|CRSDepTime|DepTime|DepDelay|DepDelayMinutes|DepDel15|DepartureDelayGroups|DepTimeBlk|TaxiOut|WheelsOff|WheelsOn|TaxiIn|CRSArrTime|ArrTime|ArrDelay|ArrDelayMinutes|ArrDel15|ArrivalDelayGroups|ArrTimeBlk|Cancelled|CancellationCode|Diverted|CRSElapsedTime|ActualElapsedTime|AirTime|Flights|Distance|DistanceGroup|CarrierDelay|WeatherDelay|NASDelay|SecurityDelay|LateAircraftDelay|FirstDepTime|TotalAddGTime|LongestAddGTime|DivAirportLandings|DivReachedDest|DivActualElapsedTime|DivArrDelay|DivDistance|Div1Airport|Div1AirportID|Div1AirportSeqID|Div1WheelsOn|Div1TotalGTime|Div1LongestGTime|Div1WheelsOff|Div1TailNum|Div2Airport|Div2AirportID|Div2AirportSeqID|Div2WheelsOn|Div2TotalGTime|Div2LongestGTime|Div2WheelsOff|Div2TailNum|Div3Airport|Div3AirportID|Div3AirportSeqID|Div3WheelsOn|Div3TotalGTime|Div3LongestGTime|Div3WheelsOff|Div3TailNum|Div4Airport|Div4AirportID|Div4AirportSeqID|Div4WheelsOn|Div4TotalGTime|Div4LongestGTime|Div4WheelsOff|Div4TailNum|Div5Airport|Div5AirportID|Div5AirportSeqID|Div5WheelsOn|Div5TotalGTime|Div5LongestGTime|Div5WheelsOff|Div5TailNum|\n",
      "+---+----+-------+-----+----------+---------+----------+-----------------+------------------------+---------------------------+-----------+-------------------------------+---------------+------------------+------------------+------+--------------------+-----------+---------------+---------------+---------+-------------+----------------+----------------+----+--------------------+---------+-------------+--------------+-------+----------+-------+--------+---------------+--------+--------------------+----------+-------+---------+--------+------+----------+-------+--------+---------------+--------+------------------+----------+---------+----------------+--------+--------------+-----------------+-------+-------+--------+-------------+------------+------------+--------+-------------+-----------------+------------+-------------+---------------+------------------+--------------+--------------------+-----------+-----------+-----------+-------------+----------------+------------+--------------+----------------+-------------+-----------+-----------+-------------+----------------+------------+--------------+----------------+-------------+-----------+-----------+-------------+----------------+------------+--------------+----------------+-------------+-----------+-----------+-------------+----------------+------------+--------------+----------------+-------------+-----------+-----------+-------------+----------------+------------+--------------+----------------+-------------+-----------+\n",
      "|  0|1998|      1|    1|         2|        5|1998-01-02|               NW|                   19386|                         NW|     N297US|                            675|          13487|           1348701|             31650|   MSP|     Minneapolis, MN|         MN|           27.0|      Minnesota|       63|        14869|         1486902|           34614| SLC|  Salt Lake City, UT|       UT|         49.0|          Utah|     87|      1640| 1659.0|    19.0|           19.0|     1.0|                 1.0| 1600-1659|   24.0|   1723.0|  1856.0|   3.0|      1836| 1859.0|    23.0|           23.0|     1.0|               1.0| 1800-1859|      0.0|            null|     0.0|         176.0|            180.0|  153.0|    1.0|   991.0|            4|        null|        null|    null|         null|             null|        null|         null|           null|              null|          null|                null|       null|       null|       null|         null|            null|        null|          null|            null|         null|       null|       null|         null|            null|        null|          null|            null|         null|       null|       null|         null|            null|        null|          null|            null|         null|       null|       null|         null|            null|        null|          null|            null|         null|       null|       null|         null|            null|        null|          null|            null|         null|       null|\n",
      "|  1|2009|      2|    5|        28|        4|2009-05-28|               FL|                   20437|                         FL|     N946AT|                            671|          13342|           1334202|             33342|   MKE|       Milwaukee, WI|         WI|           55.0|      Wisconsin|       45|        13204|         1320401|           31454| MCO|         Orlando, FL|       FL|         12.0|       Florida|     33|      1204| 1202.0|    -2.0|            0.0|     0.0|                -1.0| 1200-1259|   10.0|   1212.0|  1533.0|   8.0|      1541| 1541.0|     0.0|            0.0|     0.0|               0.0| 1500-1559|      0.0|            null|     0.0|         157.0|            159.0|  141.0|    1.0|  1066.0|            5|        null|        null|    null|         null|             null|        null|         null|           null|               0.0|          null|                null|       null|       null|       null|         null|            null|        null|          null|            null|         null|       null|       null|         null|            null|        null|          null|            null|         null|       null|       null|         null|            null|        null|          null|            null|         null|       null|       null|         null|            null|        null|          null|            null|         null|       null|       null|         null|            null|        null|          null|            null|         null|       null|\n",
      "|  2|2013|      2|    6|        29|        6|2013-06-29|               MQ|                   20398|                         MQ|     N665MQ|                           3297|          11921|           1192102|             31921|   GJT|  Grand Junction, CO|         CO|            8.0|       Colorado|       82|        11298|         1129803|           30194| DFW|Dallas/Fort Worth...|       TX|         48.0|         Texas|     74|      1630| 1644.0|    14.0|           14.0|     0.0|                 0.0| 1600-1659|    9.0|   1653.0|  1936.0|   6.0|      1945| 1942.0|    -3.0|            0.0|     0.0|              -1.0| 1900-1959|      0.0|            null|     0.0|         135.0|            118.0|  103.0|    1.0|   773.0|            4|        null|        null|    null|         null|             null|        null|         null|           null|               0.0|          null|                null|       null|       null|       null|         null|            null|        null|          null|            null|         null|       null|       null|         null|            null|        null|          null|            null|         null|       null|       null|         null|            null|        null|          null|            null|         null|       null|       null|         null|            null|        null|          null|            null|         null|       null|       null|         null|            null|        null|          null|            null|         null|       null|\n",
      "|  3|2010|      3|    8|        31|        2|2010-08-31|               DL|                   19790|                         DL|     N6705Y|                           1806|          12892|           1289201|             32575|   LAX|     Los Angeles, CA|         CA|            6.0|     California|       91|        11433|         1143301|           31295| DTW|         Detroit, MI|       MI|         26.0|      Michigan|     43|      1305| 1305.0|     0.0|            0.0|     0.0|                 0.0| 1300-1359|   23.0|   1328.0|  2008.0|   7.0|      2035| 2015.0|   -20.0|            0.0|     0.0|              -2.0| 2000-2059|      0.0|            null|     0.0|         270.0|            250.0|  220.0|    1.0|  1979.0|            8|        null|        null|    null|         null|             null|        null|         null|           null|               0.0|          null|                null|       null|       null|       null|         null|            null|        null|          null|            null|         null|       null|       null|         null|            null|        null|          null|            null|         null|       null|       null|         null|            null|        null|          null|            null|         null|       null|       null|         null|            null|        null|          null|            null|         null|       null|       null|         null|            null|        null|          null|            null|         null|       null|\n",
      "|  4|2006|      1|    1|        15|        7|2006-01-15|               US|                   20355|                         US|     N504AU|                            465|          11618|           1161801|             31703|   EWR|          Newark, NJ|         NJ|           34.0|     New Jersey|       21|        11057|         1105702|           31057| CLT|       Charlotte, NC|       NC|         37.0|North Carolina|     36|      1820| 1911.0|    51.0|           51.0|     1.0|                 3.0| 1800-1859|   19.0|   1930.0|  2050.0|   8.0|      2026| 2058.0|    32.0|           32.0|     1.0|               2.0| 2000-2059|      0.0|            null|     0.0|         126.0|            107.0|   80.0|    1.0|   529.0|            3|         0.0|         0.0|     0.0|          0.0|             32.0|        null|         null|           null|              null|          null|                null|       null|       null|       null|         null|            null|        null|          null|            null|         null|       null|       null|         null|            null|        null|          null|            null|         null|       null|       null|         null|            null|        null|          null|            null|         null|       null|       null|         null|            null|        null|          null|            null|         null|       null|       null|         null|            null|        null|          null|            null|         null|       null|\n",
      "|  5|1995|      4|   11|        29|        3|1995-11-29|               DL|                   19790|                         DL|     N925DL|                           1198|          11298|           1129802|             30194|   DFW|Dallas/Fort Worth...|         TX|           48.0|          Texas|       74|        14814|         1481401|           30476| SHV|      Shreveport, LA|       LA|         22.0|     Louisiana|     72|       639|  639.0|     0.0|            0.0|     0.0|                 0.0| 0600-0659|   29.0|    708.0|   736.0|   5.0|       730|  741.0|    11.0|           11.0|     0.0|               0.0| 0700-0759|      0.0|            null|     0.0|          51.0|             62.0|   28.0|    1.0|   190.0|            1|        null|        null|    null|         null|             null|        null|         null|           null|              null|          null|                null|       null|       null|       null|         null|            null|        null|          null|            null|         null|       null|       null|         null|            null|        null|          null|            null|         null|       null|       null|         null|            null|        null|          null|            null|         null|       null|       null|         null|            null|        null|          null|            null|         null|       null|       null|         null|            null|        null|          null|            null|         null|       null|\n",
      "|  6|2006|      3|    8|         7|        1|2006-08-07|               CO|                   19704|                         CO|     N27724|                           1431|          10721|           1072101|             30721|   BOS|          Boston, MA|         MA|           25.0|  Massachusetts|       13|        11042|         1104201|           30647| CLE|       Cleveland, OH|       OH|         39.0|          Ohio|     44|      1755| 1751.0|    -4.0|            0.0|     0.0|                -1.0| 1700-1759|   33.0|   1824.0|  1958.0|   4.0|      2000| 2002.0|     2.0|            2.0|     0.0|               0.0| 2000-2059|      0.0|            null|     0.0|         125.0|            131.0|   94.0|    1.0|   563.0|            3|        null|        null|    null|         null|             null|        null|         null|           null|              null|          null|                null|       null|       null|       null|         null|            null|        null|          null|            null|         null|       null|       null|         null|            null|        null|          null|            null|         null|       null|       null|         null|            null|        null|          null|            null|         null|       null|       null|         null|            null|        null|          null|            null|         null|       null|       null|         null|            null|        null|          null|            null|         null|       null|\n",
      "|  7|2019|      2|    6|        11|        2|2019-06-11|               9E|                   20363|                         9E|     N927XJ|                           3459|          10397|           1039707|             30397|   ATL|         Atlanta, GA|         GA|           13.0|        Georgia|       34|        10868|         1086803|           30868| CAE|        Columbia, SC|       SC|         45.0|South Carolina|     37|      1950| 2331.0|   221.0|          221.0|     1.0|                12.0| 1900-1959|   19.0|   2350.0|    25.0|   6.0|      2057|   31.0|   214.0|          214.0|     1.0|              12.0| 2000-2059|      0.0|            null|     0.0|          67.0|             60.0|   35.0|    1.0|   192.0|            1|         0.0|         0.0|     0.0|          0.0|            214.0|        null|         null|           null|               0.0|          null|                null|       null|       null|       null|         null|            null|        null|          null|            null|         null|       null|       null|         null|            null|        null|          null|            null|         null|       null|       null|         null|            null|        null|          null|            null|         null|       null|       null|         null|            null|        null|          null|            null|         null|       null|       null|         null|            null|        null|          null|            null|         null|       null|\n",
      "|  8|2008|      3|    8|         3|        7|2008-08-03|               YV|                   20378|                         YV|     N522LR|                           7233|          13930|           1393001|             30977|   ORD|         Chicago, IL|         IL|           17.0|       Illinois|       41|        11042|         1104201|           30647| CLE|       Cleveland, OH|       OH|         39.0|          Ohio|     44|      1550| 1552.0|     2.0|            2.0|     0.0|                 0.0| 1500-1559|   26.0|   1618.0|  1817.0|   3.0|      1810| 1820.0|    10.0|           10.0|     0.0|               0.0| 1800-1859|      0.0|            null|     0.0|          80.0|             88.0|   59.0|    1.0|   316.0|            2|        null|        null|    null|         null|             null|        null|         null|           null|              null|          null|                null|       null|       null|       null|         null|            null|        null|          null|            null|         null|       null|       null|         null|            null|        null|          null|            null|         null|       null|       null|         null|            null|        null|          null|            null|         null|       null|       null|         null|            null|        null|          null|            null|         null|       null|       null|         null|            null|        null|          null|            null|         null|       null|\n",
      "|  9|2018|      1|    2|         8|        4|2018-02-08|               WN|                   19393|                         WN|     N8688J|                           5932|          13232|           1323202|             30977|   MDW|         Chicago, IL|         IL|           17.0|       Illinois|       41|        11259|         1125903|           30194| DAL|          Dallas, TX|       TX|         48.0|         Texas|     74|      2030| 2046.0|    16.0|           16.0|     1.0|                 1.0| 2000-2059|   34.0|   2120.0|  2314.0|   5.0|      2250| 2319.0|    29.0|           29.0|     1.0|               1.0| 2200-2259|      0.0|            null|     0.0|         140.0|            153.0|  114.0|    1.0|   793.0|            4|         0.0|         0.0|    13.0|          0.0|             16.0|        null|         null|           null|               0.0|          null|                null|       null|       null|       null|         null|            null|        null|          null|            null|         null|       null|       null|         null|            null|        null|          null|            null|         null|       null|       null|         null|            null|        null|          null|            null|         null|       null|       null|         null|            null|        null|          null|            null|         null|       null|       null|         null|            null|        null|          null|            null|         null|       null|\n",
      "| 10|1991|      4|   11|        21|        4|1991-11-21|               US|                   20355|                         US|       null|                           2135|          14679|           1467902|             33570|   SAN|       San Diego, CA|         CA|            6.0|     California|       91|        12892|         1289201|           32575| LAX|     Los Angeles, CA|       CA|          6.0|    California|     91|      1245| 1247.0|     2.0|            2.0|     0.0|                 0.0| 1200-1259|   null|     null|    null|  null|      1325| 1331.0|     6.0|            6.0|     0.0|               0.0| 1300-1359|      0.0|            null|     0.0|          40.0|             44.0|   null|    1.0|   109.0|            1|        null|        null|    null|         null|             null|        null|         null|           null|              null|          null|                null|       null|       null|       null|         null|            null|        null|          null|            null|         null|       null|       null|         null|            null|        null|          null|            null|         null|       null|       null|         null|            null|        null|          null|            null|         null|       null|       null|         null|            null|        null|          null|            null|         null|       null|       null|         null|            null|        null|          null|            null|         null|       null|\n",
      "| 11|2014|      2|    4|         3|        4|2014-04-03|               WN|                   19393|                         WN|     N374SW|                           1463|          11540|           1154003|             30615|   ELP|         El Paso, TX|         TX|           48.0|          Texas|       74|        11259|         1125903|           30194| DAL|          Dallas, TX|       TX|         48.0|         Texas|     74|      1025| 1025.0|     0.0|            0.0|     0.0|                 0.0| 1000-1059|   10.0|   1035.0|  1252.0|   3.0|      1300| 1255.0|    -5.0|            0.0|     0.0|              -1.0| 1300-1359|      0.0|            null|     0.0|          95.0|             90.0|   77.0|    1.0|   562.0|            3|        null|        null|    null|         null|             null|        null|         null|           null|               0.0|          null|                null|       null|       null|       null|         null|            null|        null|          null|            null|         null|       null|       null|         null|            null|        null|          null|            null|         null|       null|       null|         null|            null|        null|          null|            null|         null|       null|       null|         null|            null|        null|          null|            null|         null|       null|       null|         null|            null|        null|          null|            null|         null|       null|\n",
      "| 12|1994|      3|    7|        24|        7|1994-07-24|               AA|                   19805|                         AA|       null|                            830|          14843|           1484302|             34819|   SJU|        San Juan, PR|         PR|           72.0|    Puerto Rico|        3|        13303|         1330302|           32467| MIA|           Miami, FL|       FL|         12.0|       Florida|     33|      1245| 1242.0|    -3.0|            0.0|     0.0|                -1.0| 1200-1259|   null|     null|    null|  null|      1521| 1511.0|   -10.0|            0.0|     0.0|              -1.0| 1500-1559|      0.0|            null|     0.0|         156.0|            149.0|   null|    1.0|  1045.0|            5|        null|        null|    null|         null|             null|        null|         null|           null|              null|          null|                null|       null|       null|       null|         null|            null|        null|          null|            null|         null|       null|       null|         null|            null|        null|          null|            null|         null|       null|       null|         null|            null|        null|          null|            null|         null|       null|       null|         null|            null|        null|          null|            null|         null|       null|       null|         null|            null|        null|          null|            null|         null|       null|\n",
      "| 13|2013|      2|    6|        30|        7|2013-06-30|               OO|                   20304|                         OO|     N947SW|                           6474|          10140|           1014002|             30140|   ABQ|     Albuquerque, NM|         NM|           35.0|     New Mexico|       86|        12892|         1289203|           32575| LAX|     Los Angeles, CA|       CA|          6.0|    California|     91|      1601| 1557.0|    -4.0|            0.0|     0.0|                -1.0| 1600-1659|    6.0|   1603.0|  1638.0|   8.0|      1705| 1646.0|   -19.0|            0.0|     0.0|              -2.0| 1700-1759|      0.0|            null|     0.0|         124.0|            109.0|   95.0|    1.0|   677.0|            3|        null|        null|    null|         null|             null|        null|         null|           null|               0.0|          null|                null|       null|       null|       null|         null|            null|        null|          null|            null|         null|       null|       null|         null|            null|        null|          null|            null|         null|       null|       null|         null|            null|        null|          null|            null|         null|       null|       null|         null|            null|        null|          null|            null|         null|       null|       null|         null|            null|        null|          null|            null|         null|       null|\n",
      "| 14|2003|      4|   11|        21|        5|2003-11-21|               UA|                   19977|                         UA|     N308UA|                            674|          13930|           1393001|             30977|   ORD|         Chicago, IL|         IL|           17.0|       Illinois|       41|        12953|         1295301|           31703| LGA|        New York, NY|       NY|         36.0|      New York|     22|       900|  855.0|    -5.0|            0.0|     0.0|                -1.0| 0900-0959|   14.0|    909.0|  1148.0|   2.0|      1206| 1150.0|   -16.0|            0.0|     0.0|              -2.0| 1200-1259|      0.0|            null|     0.0|         126.0|            115.0|   99.0|    1.0|   733.0|            3|        null|        null|    null|         null|             null|        null|         null|           null|              null|          null|                null|       null|       null|       null|         null|            null|        null|          null|            null|         null|       null|       null|         null|            null|        null|          null|            null|         null|       null|       null|         null|            null|        null|          null|            null|         null|       null|       null|         null|            null|        null|          null|            null|         null|       null|       null|         null|            null|        null|          null|            null|         null|       null|\n",
      "| 15|1988|      2|    4|         4|        1|1988-04-04|               PI|                   19822|                         PI|       null|                            362|          11995|           1199501|             31995|   GSO|Greensboro/High P...|         NC|           37.0| North Carolina|       36|        10821|         1082102|           30852| BWI|       Baltimore, MD|       MD|         24.0|      Maryland|     35|       630|  631.0|     1.0|            1.0|     0.0|                 0.0| 0600-0659|   null|     null|    null|  null|       728|  737.0|     9.0|            9.0|     0.0|               0.0| 0700-0759|      0.0|            null|     0.0|          58.0|             66.0|   null|    1.0|   278.0|            2|        null|        null|    null|         null|             null|        null|         null|           null|              null|          null|                null|       null|       null|       null|         null|            null|        null|          null|            null|         null|       null|       null|         null|            null|        null|          null|            null|         null|       null|       null|         null|            null|        null|          null|            null|         null|       null|       null|         null|            null|        null|          null|            null|         null|       null|       null|         null|            null|        null|          null|            null|         null|       null|\n",
      "| 16|2007|      3|    9|         5|        3|2007-09-05|               NW|                   19386|                         NW|     N8928E|                           1678|          11433|           1143301|             31295|   DTW|         Detroit, MI|         MI|           26.0|       Michigan|       43|        13184|         1318402|           33184| MBS|Saginaw/Bay City/...|       MI|         26.0|      Michigan|     43|      1201| 1150.0|   -11.0|            0.0|     0.0|                -1.0| 1200-1259|   20.0|   1210.0|  1234.0|   5.0|      1246| 1239.0|    -7.0|            0.0|     0.0|              -1.0| 1200-1259|      0.0|            null|     0.0|          45.0|             49.0|   24.0|    1.0|    98.0|            1|        null|        null|    null|         null|             null|        null|         null|           null|              null|          null|                null|       null|       null|       null|         null|            null|        null|          null|            null|         null|       null|       null|         null|            null|        null|          null|            null|         null|       null|       null|         null|            null|        null|          null|            null|         null|       null|       null|         null|            null|        null|          null|            null|         null|       null|       null|         null|            null|        null|          null|            null|         null|       null|\n",
      "| 17|2015|      3|    9|         5|        6|2015-09-05|               AS|                   19930|                         AS|     N589AS|                            413|          14869|           1486903|             34614|   SLC|  Salt Lake City, UT|         UT|           49.0|           Utah|       87|        14747|         1474703|           30559| SEA|         Seattle, WA|       WA|         53.0|    Washington|     93|      1745| 1733.0|   -12.0|            0.0|     0.0|                -1.0| 1700-1759|    9.0|   1742.0|  1824.0|   8.0|      1855| 1832.0|   -23.0|            0.0|     0.0|              -2.0| 1800-1859|      0.0|            null|     0.0|         130.0|            119.0|  102.0|    1.0|   689.0|            3|        null|        null|    null|         null|             null|        null|         null|           null|               0.0|          null|                null|       null|       null|       null|         null|            null|        null|          null|            null|         null|       null|       null|         null|            null|        null|          null|            null|         null|       null|       null|         null|            null|        null|          null|            null|         null|       null|       null|         null|            null|        null|          null|            null|         null|       null|       null|         null|            null|        null|          null|            null|         null|       null|\n",
      "| 18|2006|      1|    1|        28|        6|2006-01-28|               UA|                   19977|                         UA|     N426UA|                            210|          12892|           1289201|             32575|   LAX|     Los Angeles, CA|         CA|            6.0|     California|       91|        12264|         1226401|           30852| IAD|      Washington, DC|       VA|         51.0|      Virginia|     38|      1545| 1542.0|    -3.0|            0.0|     0.0|                -1.0| 1500-1559|   11.0|   1553.0|  2308.0|   5.0|      2327| 2313.0|   -14.0|            0.0|     0.0|              -1.0| 2300-2359|      0.0|            null|     0.0|         282.0|            271.0|  255.0|    1.0|  2288.0|           10|        null|        null|    null|         null|             null|        null|         null|           null|              null|          null|                null|       null|       null|       null|         null|            null|        null|          null|            null|         null|       null|       null|         null|            null|        null|          null|            null|         null|       null|       null|         null|            null|        null|          null|            null|         null|       null|       null|         null|            null|        null|          null|            null|         null|       null|       null|         null|            null|        null|          null|            null|         null|       null|\n",
      "| 19|2017|      3|    7|        26|        3|2017-07-26|               WN|                   19393|                         WN|     N252WN|                            995|          14893|           1489302|             33192|   SMF|      Sacramento, CA|         CA|            6.0|     California|       91|        12892|         1289205|           32575| LAX|     Los Angeles, CA|       CA|          6.0|    California|     91|      1535|   null|    null|           null|    null|                null| 1500-1559|   null|     null|    null|  null|      1700|   null|    null|           null|    null|              null| 1700-1759|      1.0|               A|     0.0|          85.0|             null|   null|    1.0|   373.0|            2|        null|        null|    null|         null|             null|        null|         null|           null|               0.0|          null|                null|       null|       null|       null|         null|            null|        null|          null|            null|         null|       null|       null|         null|            null|        null|          null|            null|         null|       null|       null|         null|            null|        null|          null|            null|         null|       null|       null|         null|            null|        null|          null|            null|         null|       null|       null|         null|            null|        null|          null|            null|         null|       null|\n",
      "+---+----+-------+-----+----------+---------+----------+-----------------+------------------------+---------------------------+-----------+-------------------------------+---------------+------------------+------------------+------+--------------------+-----------+---------------+---------------+---------+-------------+----------------+----------------+----+--------------------+---------+-------------+--------------+-------+----------+-------+--------+---------------+--------+--------------------+----------+-------+---------+--------+------+----------+-------+--------+---------------+--------+------------------+----------+---------+----------------+--------+--------------+-----------------+-------+-------+--------+-------------+------------+------------+--------+-------------+-----------------+------------+-------------+---------------+------------------+--------------+--------------------+-----------+-----------+-----------+-------------+----------------+------------+--------------+----------------+-------------+-----------+-----------+-------------+----------------+------------+--------------+----------------+-------------+-----------+-----------+-------------+----------------+------------+--------------+----------------+-------------+-----------+-----------+-------------+----------------+------------+--------------+----------------+-------------+-----------+-----------+-------------+----------------+------------+--------------+----------------+-------------+-----------+\n",
      "only showing top 20 rows\n",
      "\n"
     ]
    }
   ],
   "source": [
    "AirlineDF.show()"
   ]
  },
  {
   "cell_type": "code",
   "execution_count": 21,
   "id": "229293e8",
   "metadata": {},
   "outputs": [
    {
     "data": {
      "text/plain": [
       "['_c0',\n",
       " 'Year',\n",
       " 'Quarter',\n",
       " 'Month',\n",
       " 'DayofMonth',\n",
       " 'DayOfWeek',\n",
       " 'FlightDate',\n",
       " 'Reporting_Airline',\n",
       " 'DOT_ID_Reporting_Airline',\n",
       " 'IATA_CODE_Reporting_Airline',\n",
       " 'Tail_Number',\n",
       " 'Flight_Number_Reporting_Airline',\n",
       " 'OriginAirportID',\n",
       " 'OriginAirportSeqID',\n",
       " 'OriginCityMarketID',\n",
       " 'Origin',\n",
       " 'OriginCityName',\n",
       " 'OriginState',\n",
       " 'OriginStateFips',\n",
       " 'OriginStateName',\n",
       " 'OriginWac',\n",
       " 'DestAirportID',\n",
       " 'DestAirportSeqID',\n",
       " 'DestCityMarketID',\n",
       " 'Dest',\n",
       " 'DestCityName',\n",
       " 'DestState',\n",
       " 'DestStateFips',\n",
       " 'DestStateName',\n",
       " 'DestWac',\n",
       " 'CRSDepTime',\n",
       " 'DepTime',\n",
       " 'DepDelay',\n",
       " 'DepDelayMinutes',\n",
       " 'DepDel15',\n",
       " 'DepartureDelayGroups',\n",
       " 'DepTimeBlk',\n",
       " 'TaxiOut',\n",
       " 'WheelsOff',\n",
       " 'WheelsOn',\n",
       " 'TaxiIn',\n",
       " 'CRSArrTime',\n",
       " 'ArrTime',\n",
       " 'ArrDelay',\n",
       " 'ArrDelayMinutes',\n",
       " 'ArrDel15',\n",
       " 'ArrivalDelayGroups',\n",
       " 'ArrTimeBlk',\n",
       " 'Cancelled',\n",
       " 'CancellationCode',\n",
       " 'Diverted',\n",
       " 'CRSElapsedTime',\n",
       " 'ActualElapsedTime',\n",
       " 'AirTime',\n",
       " 'Flights',\n",
       " 'Distance',\n",
       " 'DistanceGroup',\n",
       " 'CarrierDelay',\n",
       " 'WeatherDelay',\n",
       " 'NASDelay',\n",
       " 'SecurityDelay',\n",
       " 'LateAircraftDelay',\n",
       " 'FirstDepTime',\n",
       " 'TotalAddGTime',\n",
       " 'LongestAddGTime',\n",
       " 'DivAirportLandings',\n",
       " 'DivReachedDest',\n",
       " 'DivActualElapsedTime',\n",
       " 'DivArrDelay',\n",
       " 'DivDistance',\n",
       " 'Div1Airport',\n",
       " 'Div1AirportID',\n",
       " 'Div1AirportSeqID',\n",
       " 'Div1WheelsOn',\n",
       " 'Div1TotalGTime',\n",
       " 'Div1LongestGTime',\n",
       " 'Div1WheelsOff',\n",
       " 'Div1TailNum',\n",
       " 'Div2Airport',\n",
       " 'Div2AirportID',\n",
       " 'Div2AirportSeqID',\n",
       " 'Div2WheelsOn',\n",
       " 'Div2TotalGTime',\n",
       " 'Div2LongestGTime',\n",
       " 'Div2WheelsOff',\n",
       " 'Div2TailNum',\n",
       " 'Div3Airport',\n",
       " 'Div3AirportID',\n",
       " 'Div3AirportSeqID',\n",
       " 'Div3WheelsOn',\n",
       " 'Div3TotalGTime',\n",
       " 'Div3LongestGTime',\n",
       " 'Div3WheelsOff',\n",
       " 'Div3TailNum',\n",
       " 'Div4Airport',\n",
       " 'Div4AirportID',\n",
       " 'Div4AirportSeqID',\n",
       " 'Div4WheelsOn',\n",
       " 'Div4TotalGTime',\n",
       " 'Div4LongestGTime',\n",
       " 'Div4WheelsOff',\n",
       " 'Div4TailNum',\n",
       " 'Div5Airport',\n",
       " 'Div5AirportID',\n",
       " 'Div5AirportSeqID',\n",
       " 'Div5WheelsOn',\n",
       " 'Div5TotalGTime',\n",
       " 'Div5LongestGTime',\n",
       " 'Div5WheelsOff',\n",
       " 'Div5TailNum']"
      ]
     },
     "execution_count": 21,
     "metadata": {},
     "output_type": "execute_result"
    }
   ],
   "source": [
    "#for all columns \n",
    "AirlineDF.columns"
   ]
  },
  {
   "cell_type": "markdown",
   "id": "b8a465a5",
   "metadata": {},
   "source": [
    "<h1> create multiple dataframes as per data information </h1>"
   ]
  },
  {
   "cell_type": "code",
   "execution_count": 22,
   "id": "80197523",
   "metadata": {},
   "outputs": [],
   "source": [
    "AirlineTimeInfo = AirlineDF.select(\"_c0\",\"Year\",\"Quarter\",\"Month\",\"DayofMonth\",\"DayofWeek\",\"FlightDate\")\n",
    "AirlineInfo = AirlineDF.select(\"_c0\",\"Reporting_Airline\",\"DOT_ID_Reporting_Airline\",\"IATA_CODE_Reporting_Airline\",\"Tail_Number\",\"Flight_Number_Reporting_Airline\")\n",
    "AirlineOriginInfo = AirlineDF.select(\"_c0\",\"OriginAirportID\",\"OriginAirportSeqID\", \"OriginCityMarketID\", \"Origin\", \"OriginCityName\" , \"OriginState\", \"OriginStateFips\", \"OriginStateName\", \"OriginWac\" )\n",
    "AirlineDestinationInfo = AirlineDF.select(\"_c0\",\"DestAirportID\",\"DestAirportSeqID\", \"DestCityMarketID\", \"Dest\", \"DestCityName\" , \"DestState\", \"DestStateFips\", \"DestStateName\", \"DestWac\" )\n",
    "AirlineDepartureInfo = AirlineDF.select(\"_c0\",\"CRSDepTime\",\"DepTime\", \"DepDelay\", \"DepDelayMinutes\", \"DepDel15\" , \"DepartureDelayGroups\", \"DepTimeBlk\", \"TaxiOut\", \"WheelsOff\" )\n",
    "AirlineArrivalInfo = AirlineDF.select(\"_c0\",\"WheelsOn\",\"TaxiIn\", \"CRSArrTime\", \"ArrTime\", \"ArrDelay\" , \"ArrDelayMinutes\", \"ArrDel15\", \"ArrivalDelayGroups\", \"ArrTimeBlk\" )\n",
    "AirlineCanDivInfo = AirlineDF.select(\"_c0\",\"Cancelled\",\"CancellationCode\", \"Diverted\" )\n",
    "AirlineSummry = AirlineDF.select(\"_c0\",\"CRSElapsedTime\",\"ActualElapsedTime\", \"AirTime\", \"Flights\", \"Distance\" , \"DistanceGroup\" )\n",
    "AirlineDelayInfo = AirlineDF.select(\"_c0\",\"CarrierDelay\",\"WeatherDelay\", \"NASDelay\", \"SecurityDelay\", \"LateAircraftDelay\" ) "
   ]
  },
  {
   "cell_type": "code",
   "execution_count": 15,
   "id": "215770e4",
   "metadata": {},
   "outputs": [
    {
     "name": "stdout",
     "output_type": "stream",
     "text": [
      "+---+----+-------+-----+----------+---------+----------+\n",
      "|_c0|Year|Quarter|Month|DayofMonth|DayofWeek|FlightDate|\n",
      "+---+----+-------+-----+----------+---------+----------+\n",
      "|  0|1998|      1|    1|         2|        5|1998-01-02|\n",
      "|  1|2009|      2|    5|        28|        4|2009-05-28|\n",
      "|  2|2013|      2|    6|        29|        6|2013-06-29|\n",
      "|  3|2010|      3|    8|        31|        2|2010-08-31|\n",
      "|  4|2006|      1|    1|        15|        7|2006-01-15|\n",
      "|  5|1995|      4|   11|        29|        3|1995-11-29|\n",
      "|  6|2006|      3|    8|         7|        1|2006-08-07|\n",
      "|  7|2019|      2|    6|        11|        2|2019-06-11|\n",
      "|  8|2008|      3|    8|         3|        7|2008-08-03|\n",
      "|  9|2018|      1|    2|         8|        4|2018-02-08|\n",
      "| 10|1991|      4|   11|        21|        4|1991-11-21|\n",
      "| 11|2014|      2|    4|         3|        4|2014-04-03|\n",
      "| 12|1994|      3|    7|        24|        7|1994-07-24|\n",
      "| 13|2013|      2|    6|        30|        7|2013-06-30|\n",
      "| 14|2003|      4|   11|        21|        5|2003-11-21|\n",
      "| 15|1988|      2|    4|         4|        1|1988-04-04|\n",
      "| 16|2007|      3|    9|         5|        3|2007-09-05|\n",
      "| 17|2015|      3|    9|         5|        6|2015-09-05|\n",
      "| 18|2006|      1|    1|        28|        6|2006-01-28|\n",
      "| 19|2017|      3|    7|        26|        3|2017-07-26|\n",
      "+---+----+-------+-----+----------+---------+----------+\n",
      "only showing top 20 rows\n",
      "\n"
     ]
    }
   ],
   "source": [
    "#AirlineTimeInfo.summary().show()\n",
    "AirlineTimeInfo.show()"
   ]
  },
  {
   "cell_type": "code",
   "execution_count": 23,
   "id": "4c9b4af7",
   "metadata": {},
   "outputs": [
    {
     "data": {
      "text/plain": [
       "50001"
      ]
     },
     "execution_count": 23,
     "metadata": {},
     "output_type": "execute_result"
    }
   ],
   "source": [
    "#Calculate total no of flights\n",
    "AirlineTimeInfo.select('_c0').count()"
   ]
  },
  {
   "cell_type": "code",
   "execution_count": 24,
   "id": "81c385fc",
   "metadata": {},
   "outputs": [
    {
     "name": "stdout",
     "output_type": "stream",
     "text": [
      "+----+----------+\n",
      "|Year|FlightDate|\n",
      "+----+----------+\n",
      "|2019|2019-06-11|\n",
      "|2018|2018-02-08|\n",
      "|2015|2015-09-05|\n",
      "|2017|2017-07-26|\n",
      "|2020|2020-03-24|\n",
      "|2019|2019-09-02|\n",
      "|2019|2019-03-27|\n",
      "|2016|2016-03-09|\n",
      "|2018|2018-06-25|\n",
      "|2015|2015-03-12|\n",
      "|2017|2017-05-05|\n",
      "|2017|2017-03-10|\n",
      "|2019|2019-02-13|\n",
      "|2015|2015-03-17|\n",
      "|2016|2016-05-25|\n",
      "|2016|2016-05-04|\n",
      "|2016|2016-08-12|\n",
      "|2017|2017-03-09|\n",
      "|2016|2016-06-13|\n",
      "|2019|2019-05-08|\n",
      "+----+----------+\n",
      "only showing top 20 rows\n",
      "\n"
     ]
    }
   ],
   "source": [
    "#select year form 2015 to 2020\n",
    "AirlineTimeInfo.select('Year','FlightDate').filter((AirlineTimeInfo.Year >= 2015) & (AirlineTimeInfo.Year <=2020)).show()"
   ]
  },
  {
   "cell_type": "code",
   "execution_count": 25,
   "id": "60c40625",
   "metadata": {},
   "outputs": [
    {
     "name": "stdout",
     "output_type": "stream",
     "text": [
      "+---+-----------------+------------------------+---------------------------+-----------+-------------------------------+\n",
      "|_c0|Reporting_Airline|DOT_ID_Reporting_Airline|IATA_CODE_Reporting_Airline|Tail_Number|Flight_Number_Reporting_Airline|\n",
      "+---+-----------------+------------------------+---------------------------+-----------+-------------------------------+\n",
      "|  0|               NW|                   19386|                         NW|     N297US|                            675|\n",
      "|  1|               FL|                   20437|                         FL|     N946AT|                            671|\n",
      "|  2|               MQ|                   20398|                         MQ|     N665MQ|                           3297|\n",
      "|  3|               DL|                   19790|                         DL|     N6705Y|                           1806|\n",
      "|  4|               US|                   20355|                         US|     N504AU|                            465|\n",
      "|  5|               DL|                   19790|                         DL|     N925DL|                           1198|\n",
      "|  6|               CO|                   19704|                         CO|     N27724|                           1431|\n",
      "|  7|               9E|                   20363|                         9E|     N927XJ|                           3459|\n",
      "|  8|               YV|                   20378|                         YV|     N522LR|                           7233|\n",
      "|  9|               WN|                   19393|                         WN|     N8688J|                           5932|\n",
      "| 10|               US|                   20355|                         US|       null|                           2135|\n",
      "| 11|               WN|                   19393|                         WN|     N374SW|                           1463|\n",
      "| 12|               AA|                   19805|                         AA|       null|                            830|\n",
      "| 13|               OO|                   20304|                         OO|     N947SW|                           6474|\n",
      "| 14|               UA|                   19977|                         UA|     N308UA|                            674|\n",
      "| 15|               PI|                   19822|                         PI|       null|                            362|\n",
      "| 16|               NW|                   19386|                         NW|     N8928E|                           1678|\n",
      "| 17|               AS|                   19930|                         AS|     N589AS|                            413|\n",
      "| 18|               UA|                   19977|                         UA|     N426UA|                            210|\n",
      "| 19|               WN|                   19393|                         WN|     N252WN|                            995|\n",
      "+---+-----------------+------------------------+---------------------------+-----------+-------------------------------+\n",
      "only showing top 20 rows\n",
      "\n"
     ]
    }
   ],
   "source": [
    "AirlineInfo.show()"
   ]
  },
  {
   "cell_type": "code",
   "execution_count": 26,
   "id": "6e6e99e7",
   "metadata": {},
   "outputs": [
    {
     "name": "stdout",
     "output_type": "stream",
     "text": [
      "+-----------------+-----+\n",
      "|Reporting_Airline|count|\n",
      "+-----------------+-----+\n",
      "|               UA| 4830|\n",
      "|               EA|  237|\n",
      "|               PI|  238|\n",
      "|               NK|  213|\n",
      "|               PS|   16|\n",
      "|               AA| 5834|\n",
      "|               NW| 2792|\n",
      "|               EV| 1749|\n",
      "|               B6|  905|\n",
      "|               HP|  899|\n",
      "|               TW|  949|\n",
      "|               DL| 6691|\n",
      "|               OO| 2719|\n",
      "|               F9|  372|\n",
      "|               YV|  562|\n",
      "|               TZ|   54|\n",
      "|               US| 4230|\n",
      "|               MQ| 2015|\n",
      "|               OH|  607|\n",
      "|               HA|  304|\n",
      "+-----------------+-----+\n",
      "only showing top 20 rows\n",
      "\n"
     ]
    }
   ],
   "source": [
    "#AirlineInfo.select('IATA_CODE_Reporting_Airline').groupBy('IATA_CODE_Reporting_Airline').count().show()'\n",
    "##Group data by Carrier which is Reporting Airline\n",
    "AirlineInfo.select('Reporting_Airline').groupBy('Reporting_Airline').count().show()"
   ]
  },
  {
   "cell_type": "code",
   "execution_count": 27,
   "id": "7f20e36a",
   "metadata": {},
   "outputs": [],
   "source": [
    "CarrierDF = spark.read.option(\"header\",\"true\").csv(\"carriers.csv\")"
   ]
  },
  {
   "cell_type": "code",
   "execution_count": 28,
   "id": "b05eb532",
   "metadata": {},
   "outputs": [
    {
     "name": "stdout",
     "output_type": "stream",
     "text": [
      "+------+--------------------+\n",
      "|  Code|         Description|\n",
      "+------+--------------------+\n",
      "|   02Q|       Titan Airways|\n",
      "|   04Q|  Tradewind Aviation|\n",
      "|   05Q| Comlux Aviation, AG|\n",
      "|   06Q|Master Top Linhas...|\n",
      "|   07Q| Flair Airlines Ltd.|\n",
      "|   09Q|      Swift Air, LLC|\n",
      "|   0BQ|                 DCA|\n",
      "|   0CQ|ACM AIR CHARTER GmbH|\n",
      "|   0FQ|Maine Aviation Ai...|\n",
      "|   0GQ|Inter Island Airw...|\n",
      "|   0HQ|Polar Airlines de...|\n",
      "|    0J|          JetClub AG|\n",
      "|   0JQ|     Vision Airlines|\n",
      "|   0KQ|Mokulele Flight S...|\n",
      "|   0LQ|   Metropix UK, LLP.|\n",
      "|   0MQ|Multi-Aero, Inc. ...|\n",
      "|    0Q| Flying Service N.V.|\n",
      "|    16|   PSA Airlines Inc.|\n",
      "|    17|   Piedmont Airlines|\n",
      "|    1I|Sky Trek Int'l Ai...|\n",
      "|    2E| Smokey Bay Air Inc.|\n",
      "|    2F|Frontier Flying S...|\n",
      "|    2M|Midway Express Ai...|\n",
      "|    2O|  Island Air Service|\n",
      "|    2R|           Regal Air|\n",
      "|    2T|Canada 3000 Airli...|\n",
      "|    2U|Valley Air Expres...|\n",
      "|    37|            Zeal 320|\n",
      "|    3C|   Regions Air, Inc.|\n",
      "|    3F|Pacific Airways, ...|\n",
      "|    3M|      Gulfstream Int|\n",
      "|    3Z|Tatonduk Flying S...|\n",
      "|    4B|   Olson Air Service|\n",
      "|    4E|  Tanana Air Service|\n",
      "|4E (1)|British Airtours ...|\n",
      "|    4H|    Belize Trans Air|\n",
      "|    4M|       LAN Argentina|\n",
      "|4M (1)|        Lan Dominica|\n",
      "|    4N|           Air North|\n",
      "|    4R|Regent Air Corpor...|\n",
      "|    4S|Sol Air (Aero Hun...|\n",
      "|4S (1)|Conner Air Lines ...|\n",
      "|    4T|Belair Airlines Ltd.|\n",
      "|    4W|            Warbelow|\n",
      "|    4Y|Yute Air Aka Flig...|\n",
      "|    5B|        Bellair Inc.|\n",
      "|    5C|C.A.L Cargo Airlines|\n",
      "|    5D|         Aerolitoral|\n",
      "|    5F|Arctic Circle Air...|\n",
      "|    5G|Skyservice Airlin...|\n",
      "|5G (1)|           Queen Air|\n",
      "|    5J|Private Jet Exped...|\n",
      "|    5X|United Parcel Ser...|\n",
      "|    5Y|      Atlas Air Inc.|\n",
      "|    6A|    Aviacsa Airlines|\n",
      "|    6B|Britannia Airways...|\n",
      "|    6C|Cape Smythe Air S...|\n",
      "|    6F|  Laker Airways Inc.|\n",
      "|    6H|     Israir Airlines|\n",
      "|    6P|Pacific East Air ...|\n",
      "|    6R|Aerounion Aerotra...|\n",
      "|    6U|         Air Ukraine|\n",
      "|    6Y|Nicaraguense De A...|\n",
      "|    7B|             Krasair|\n",
      "|    7F|           First Air|\n",
      "|    7G|    MK Airlines Ltd.|\n",
      "|7G (1)|    Bellair Inc. (1)|\n",
      "|    7H|        Era Aviation|\n",
      "|    7M|  Aeromonterrey S.A.|\n",
      "|    7N|Inland Aviation S...|\n",
      "|    7P|Apa International...|\n",
      "|    7S|Arctic Transporta...|\n",
      "|7S (1)|Skystar Internati...|\n",
      "|    7Z|          Lb Limited|\n",
      "|    8C|Air Transport Int...|\n",
      "|    8D|    Servant Air Inc.|\n",
      "|    8E|     Bering Air Inc.|\n",
      "|    8F|        Wilburs Inc.|\n",
      "|    8J|      Jetall Airways|\n",
      "|    8L|Servicio Aereo Le...|\n",
      "|    8N|Flagship Airlines...|\n",
      "|    8Q| Baker Aviation Inc.|\n",
      "|    8R|    Edelweiss Air Ag|\n",
      "|    8V|  Wright Air Service|\n",
      "|    9E|Pinnacle Airlines...|\n",
      "|    9J|Pacific Island Av...|\n",
      "|    9K|            Cape Air|\n",
      "|    9L|          Colgan Air|\n",
      "|    9M|Central Mountain Air|\n",
      "|    9N|ANA & JP Express ...|\n",
      "|    9R|Flagship Express ...|\n",
      "|    9S|   Southern Air Inc.|\n",
      "|    9T|TravelspanGT, Inc...|\n",
      "|    9V|Avior Airlines, C.A.|\n",
      "|    9W|Jet Airways (Indi...|\n",
      "|    A0|Elysair d/b/a L'A...|\n",
      "|    A2|      Cielos De Peru|\n",
      "|    A4|Southern Wind Air...|\n",
      "|    A7|      Air Comet S.A.|\n",
      "|A7 (1)|              Air 21|\n",
      "|    AA|American Airlines...|\n",
      "|   AAA|Associated Aviati...|\n",
      "|   AAB|Antilles Air Boat...|\n",
      "|   AAE|        AAA Airlines|\n",
      "|   AAI|       Audi Air Inc.|\n",
      "|   AAL|Argosy Air Lines ...|\n",
      "|   AAP|Armstrong Air Ser...|\n",
      "|   AAQ|Advance Air Charters|\n",
      "|   AAR|Altair Airlines Inc.|\n",
      "|   AAT|   Air Sunshine Inc.|\n",
      "|   AAV|          Alpine Air|\n",
      "|   AAZ|Alaska Aeronautic...|\n",
      "|   ABH|           Air Bahia|\n",
      "|   ABI|Airbama Incorporated|\n",
      "|   ABO|Aeronaves Boringu...|\n",
      "|   ABX|       Abx Air, Inc.|\n",
      "|    AC|          Air Canada|\n",
      "|   ACA|Alaska Central Ai...|\n",
      "|   ACD|    Academy Airlines|\n",
      "|   ACG|Air Cargo Express...|\n",
      "|   ACH|Island Airlines H...|\n",
      "|   ACI|AAA-Action Air Ca...|\n",
      "|   ACJ|Atlantic Coast Je...|\n",
      "|   ACK|    Air Central Inc.|\n",
      "|   ACL|      Check-Air Inc.|\n",
      "|   ACN|   Alliance Airlines|\n",
      "|   ACO|Air Cargo Enterpr...|\n",
      "|   ACP|  Air Chaparral Inc.|\n",
      "|   ACQ|Aeronautica De Ca...|\n",
      "|   ACS|Alamo Commuter Ai...|\n",
      "|   ACT|Air Central Inc. (1)|\n",
      "|   ACW|Transwest Air Exp...|\n",
      "|    AD|Avia Leasing Company|\n",
      "|   ADQ|  Aeronaves Del Peru|\n",
      "|   ADR| Adirondack Airlines|\n",
      "|   ADV|  Advantage Airlines|\n",
      "|    AE|  Air Europe Limited|\n",
      "|   AEC| Astec Air East Inc.|\n",
      "|   AED|Air East Of Delaw...|\n",
      "|   AEF|        Aero Freight|\n",
      "|   AEO|          Aero Coach|\n",
      "|   AEQ|   Air Caravane Inc.|\n",
      "|   AEX|  Air Excursions LLC|\n",
      "|    AF|Compagnie Nat'l A...|\n",
      "|   AFA|American Flag Air...|\n",
      "|   AFE| Air Florida Express|\n",
      "|   AFG|American Flight G...|\n",
      "|   AFQ|Aero B Venezuela ...|\n",
      "|   AFS|Arcata Flying Ser...|\n",
      "|   AGA|Air Cargo America...|\n",
      "|   AGQ|          Argo S. A.|\n",
      "|   AHA|           Air Alpha|\n",
      "|   AHC|          Air Hawaii|\n",
      "|   AHQ|        Air National|\n",
      "|    AI|           Air-India|\n",
      "|   AIA|      All Island Air|\n",
      "|   AIC|       Air Caribbean|\n",
      "|   AIE|    Air Express Inc.|\n",
      "|   AIG|          Airgo Inc.|\n",
      "|   AIK|Air Ketchum Idaho...|\n",
      "|   AIM|      Air Mont. Inc.|\n",
      "|   AIN|         Air Indiana|\n",
      "|   AIQ|           Norontair|\n",
      "|   AIT|Airways Internati...|\n",
      "|   AIY|        Alliance Air|\n",
      "|    AJ| Air Micronesia Inc.|\n",
      "|   AJQ|   Aerodynamics Inc.|\n",
      "|   AKQ|Airmark Airlines ...|\n",
      "|    AL|     Skyway Airlines|\n",
      "|   ALD|     Allied Airlines|\n",
      "|   ALE|Air-Lift Associat...|\n",
      "|   ALI|          Brandt Air|\n",
      "|   ALK|    Air Link Airways|\n",
      "|   ALL|All Seasons Air P...|\n",
      "|   ALQ|Alberta Northern ...|\n",
      "|   ALS|            Air L.A.|\n",
      "|   ALT|      Altus Airlines|\n",
      "|   ALU|        Aleutian Air|\n",
      "|   ALX|     Atlanta Express|\n",
      "|    AM|          Aeromexico|\n",
      "|   AMA|North American Ai...|\n",
      "|   AME|      Americair Inc.|\n",
      "|   AMI|American Inter-Is...|\n",
      "|   AMQ| Ameristar Air Cargo|\n",
      "|   AMR|               AvAir|\n",
      "|   AMT|American Air Tran...|\n",
      "|   ANB|   Air Nebraska Inc.|\n",
      "|   ANC|        Atlantic Air|\n",
      "|   AND|Southcentral Air ...|\n",
      "|   ANI|Dash Air Corporation|\n",
      "|   ANM|Airways Of New Me...|\n",
      "|   ANO|Metro Air Northea...|\n",
      "|   ANT|    Air North/Nenana|\n",
      "|    AO|Aviacion Y Comerc...|\n",
      "|   AOI|      Trans New York|\n",
      "|   AON|     Action Airlines|\n",
      "|   AOQ|       Aerovias S.A.|\n",
      "|   AOR|     Air New Orleans|\n",
      "|   APE|            Air Cape|\n",
      "|   APH|           Alpha Air|\n",
      "+------+--------------------+\n",
      "only showing top 200 rows\n",
      "\n"
     ]
    }
   ],
   "source": [
    "CarrierDF.show(200)"
   ]
  },
  {
   "cell_type": "code",
   "execution_count": 29,
   "id": "5612150a",
   "metadata": {},
   "outputs": [
    {
     "name": "stdout",
     "output_type": "stream",
     "text": [
      "+---+---------------+------------------+------------------+------+------------------+-----------+---------------+---------------+---------+\n",
      "|_c0|OriginAirportID|OriginAirportSeqID|OriginCityMarketID|Origin|    OriginCityName|OriginState|OriginStateFips|OriginStateName|OriginWac|\n",
      "+---+---------------+------------------+------------------+------+------------------+-----------+---------------+---------------+---------+\n",
      "|  0|          13487|           1348701|             31650|   MSP|   Minneapolis, MN|         MN|           27.0|      Minnesota|       63|\n",
      "|  1|          13342|           1334202|             33342|   MKE|     Milwaukee, WI|         WI|           55.0|      Wisconsin|       45|\n",
      "|  2|          11921|           1192102|             31921|   GJT|Grand Junction, CO|         CO|            8.0|       Colorado|       82|\n",
      "|  3|          12892|           1289201|             32575|   LAX|   Los Angeles, CA|         CA|            6.0|     California|       91|\n",
      "|  4|          11618|           1161801|             31703|   EWR|        Newark, NJ|         NJ|           34.0|     New Jersey|       21|\n",
      "+---+---------------+------------------+------------------+------+------------------+-----------+---------------+---------------+---------+\n",
      "only showing top 5 rows\n",
      "\n"
     ]
    }
   ],
   "source": [
    "AirlineOriginInfo.show(5)"
   ]
  },
  {
   "cell_type": "code",
   "execution_count": 30,
   "id": "ee70c81d",
   "metadata": {},
   "outputs": [
    {
     "name": "stdout",
     "output_type": "stream",
     "text": [
      "+---+-------------+----------------+----------------+----+--------------------+---------+-------------+--------------+-------+\n",
      "|_c0|DestAirportID|DestAirportSeqID|DestCityMarketID|Dest|        DestCityName|DestState|DestStateFips| DestStateName|DestWac|\n",
      "+---+-------------+----------------+----------------+----+--------------------+---------+-------------+--------------+-------+\n",
      "|  0|        14869|         1486902|           34614| SLC|  Salt Lake City, UT|       UT|         49.0|          Utah|     87|\n",
      "|  1|        13204|         1320401|           31454| MCO|         Orlando, FL|       FL|         12.0|       Florida|     33|\n",
      "|  2|        11298|         1129803|           30194| DFW|Dallas/Fort Worth...|       TX|         48.0|         Texas|     74|\n",
      "|  3|        11433|         1143301|           31295| DTW|         Detroit, MI|       MI|         26.0|      Michigan|     43|\n",
      "|  4|        11057|         1105702|           31057| CLT|       Charlotte, NC|       NC|         37.0|North Carolina|     36|\n",
      "+---+-------------+----------------+----------------+----+--------------------+---------+-------------+--------------+-------+\n",
      "only showing top 5 rows\n",
      "\n"
     ]
    }
   ],
   "source": [
    "AirlineDestinationInfo.show(5)"
   ]
  },
  {
   "cell_type": "code",
   "execution_count": 31,
   "id": "69e84f73",
   "metadata": {},
   "outputs": [
    {
     "name": "stdout",
     "output_type": "stream",
     "text": [
      "+---+----------+-------+--------+---------------+--------+--------------------+----------+-------+---------+\n",
      "|_c0|CRSDepTime|DepTime|DepDelay|DepDelayMinutes|DepDel15|DepartureDelayGroups|DepTimeBlk|TaxiOut|WheelsOff|\n",
      "+---+----------+-------+--------+---------------+--------+--------------------+----------+-------+---------+\n",
      "|  0|      1640| 1659.0|    19.0|           19.0|     1.0|                 1.0| 1600-1659|   24.0|   1723.0|\n",
      "|  1|      1204| 1202.0|    -2.0|            0.0|     0.0|                -1.0| 1200-1259|   10.0|   1212.0|\n",
      "|  2|      1630| 1644.0|    14.0|           14.0|     0.0|                 0.0| 1600-1659|    9.0|   1653.0|\n",
      "|  3|      1305| 1305.0|     0.0|            0.0|     0.0|                 0.0| 1300-1359|   23.0|   1328.0|\n",
      "|  4|      1820| 1911.0|    51.0|           51.0|     1.0|                 3.0| 1800-1859|   19.0|   1930.0|\n",
      "+---+----------+-------+--------+---------------+--------+--------------------+----------+-------+---------+\n",
      "only showing top 5 rows\n",
      "\n"
     ]
    }
   ],
   "source": [
    "AirlineDepartureInfo.show(5)"
   ]
  },
  {
   "cell_type": "code",
   "execution_count": 32,
   "id": "4ddee7ef",
   "metadata": {},
   "outputs": [
    {
     "name": "stdout",
     "output_type": "stream",
     "text": [
      "+---+---------------+\n",
      "|_c0|DepDelayMinutes|\n",
      "+---+---------------+\n",
      "|  0|           19.0|\n",
      "|  4|           51.0|\n",
      "|  7|          221.0|\n",
      "|  9|           16.0|\n",
      "| 23|           52.0|\n",
      "| 44|           38.0|\n",
      "| 45|          129.0|\n",
      "| 49|           25.0|\n",
      "| 50|           32.0|\n",
      "| 60|           21.0|\n",
      "| 65|          215.0|\n",
      "| 74|           39.0|\n",
      "| 80|           30.0|\n",
      "| 82|           84.0|\n",
      "| 97|           37.0|\n",
      "|102|           24.0|\n",
      "|103|           16.0|\n",
      "|104|           18.0|\n",
      "|107|          116.0|\n",
      "|114|           33.0|\n",
      "+---+---------------+\n",
      "only showing top 20 rows\n",
      "\n"
     ]
    }
   ],
   "source": [
    "#Find flights 15 min or more than 15 min delay departure\n",
    "AirlineDepartureInfo.select('_c0','DepDelayMinutes').filter('DepDelayMinutes >= 15').show()"
   ]
  },
  {
   "cell_type": "code",
   "execution_count": 33,
   "id": "75208c70",
   "metadata": {},
   "outputs": [
    {
     "data": {
      "text/plain": [
       "8438"
      ]
     },
     "execution_count": 33,
     "metadata": {},
     "output_type": "execute_result"
    }
   ],
   "source": [
    "#Calculate total no of departure delay flights (15min or more than 15min delay)\n",
    "AirlineDepartureInfo.select('DepDelayMinutes').filter('DepDelayMinutes>= 15').count()"
   ]
  },
  {
   "cell_type": "code",
   "execution_count": 34,
   "id": "855128ce",
   "metadata": {},
   "outputs": [
    {
     "name": "stdout",
     "output_type": "stream",
     "text": [
      "+---+--------+------+----------+-------+--------+---------------+--------+------------------+----------+\n",
      "|_c0|WheelsOn|TaxiIn|CRSArrTime|ArrTime|ArrDelay|ArrDelayMinutes|ArrDel15|ArrivalDelayGroups|ArrTimeBlk|\n",
      "+---+--------+------+----------+-------+--------+---------------+--------+------------------+----------+\n",
      "|  0|  1856.0|   3.0|      1836| 1859.0|    23.0|           23.0|     1.0|               1.0| 1800-1859|\n",
      "|  1|  1533.0|   8.0|      1541| 1541.0|     0.0|            0.0|     0.0|               0.0| 1500-1559|\n",
      "|  2|  1936.0|   6.0|      1945| 1942.0|    -3.0|            0.0|     0.0|              -1.0| 1900-1959|\n",
      "|  3|  2008.0|   7.0|      2035| 2015.0|   -20.0|            0.0|     0.0|              -2.0| 2000-2059|\n",
      "|  4|  2050.0|   8.0|      2026| 2058.0|    32.0|           32.0|     1.0|               2.0| 2000-2059|\n",
      "+---+--------+------+----------+-------+--------+---------------+--------+------------------+----------+\n",
      "only showing top 5 rows\n",
      "\n"
     ]
    }
   ],
   "source": [
    "AirlineArrivalInfo.show(5)"
   ]
  },
  {
   "cell_type": "code",
   "execution_count": 35,
   "id": "7bbcdee8",
   "metadata": {},
   "outputs": [
    {
     "name": "stdout",
     "output_type": "stream",
     "text": [
      "+---+---------------+\n",
      "|_c0|ArrDelayMinutes|\n",
      "+---+---------------+\n",
      "|  0|           23.0|\n",
      "|  4|           32.0|\n",
      "|  7|          214.0|\n",
      "|  9|           29.0|\n",
      "| 23|           44.0|\n",
      "| 24|           17.0|\n",
      "| 29|           39.0|\n",
      "| 41|           84.0|\n",
      "| 44|           22.0|\n",
      "| 45|          119.0|\n",
      "| 47|           18.0|\n",
      "| 49|           19.0|\n",
      "| 50|           35.0|\n",
      "| 55|           24.0|\n",
      "| 60|           21.0|\n",
      "| 65|          221.0|\n",
      "| 74|           26.0|\n",
      "| 77|           22.0|\n",
      "| 82|           89.0|\n",
      "| 90|           16.0|\n",
      "+---+---------------+\n",
      "only showing top 20 rows\n",
      "\n"
     ]
    }
   ],
   "source": [
    "#Find flights 15 min or more than 15 min delay Arrive \n",
    "AirlineArrivalInfo.select('_c0','ArrDelayMinutes').filter('ArrDelayMinutes >= 15').show()"
   ]
  },
  {
   "cell_type": "code",
   "execution_count": 36,
   "id": "cd7cd887",
   "metadata": {},
   "outputs": [
    {
     "data": {
      "text/plain": [
       "9775"
      ]
     },
     "execution_count": 36,
     "metadata": {},
     "output_type": "execute_result"
    }
   ],
   "source": [
    "#Calculate total no of Arrival delay flights (15min or more than 15min delay)\n",
    "AirlineArrivalInfo.select('ArrDelayMinutes').filter('ArrDelayMinutes >=15').count()"
   ]
  },
  {
   "cell_type": "code",
   "execution_count": 37,
   "id": "e33669b0",
   "metadata": {},
   "outputs": [
    {
     "name": "stdout",
     "output_type": "stream",
     "text": [
      "+---+---------+----------------+--------+\n",
      "|_c0|Cancelled|CancellationCode|Diverted|\n",
      "+---+---------+----------------+--------+\n",
      "|  0|      0.0|            null|     0.0|\n",
      "|  1|      0.0|            null|     0.0|\n",
      "|  2|      0.0|            null|     0.0|\n",
      "|  3|      0.0|            null|     0.0|\n",
      "|  4|      0.0|            null|     0.0|\n",
      "+---+---------+----------------+--------+\n",
      "only showing top 5 rows\n",
      "\n"
     ]
    }
   ],
   "source": [
    "AirlineCanDivInfo.show(5)"
   ]
  },
  {
   "cell_type": "code",
   "execution_count": 38,
   "id": "912d3707",
   "metadata": {},
   "outputs": [
    {
     "data": {
      "text/plain": [
       "878"
      ]
     },
     "execution_count": 38,
     "metadata": {},
     "output_type": "execute_result"
    }
   ],
   "source": [
    "#Calculate total number of cancelled flights \n",
    "AirlineCanDivInfo.select('Cancelled').filter('Cancelled == 1 ').count()"
   ]
  },
  {
   "cell_type": "code",
   "execution_count": 39,
   "id": "e45ea08b",
   "metadata": {},
   "outputs": [
    {
     "data": {
      "text/plain": [
       "133"
      ]
     },
     "execution_count": 39,
     "metadata": {},
     "output_type": "execute_result"
    }
   ],
   "source": [
    "#Calculate total number of diverted flights \n",
    "AirlineCanDivInfo.select('Diverted').filter('Diverted == 1').count()"
   ]
  },
  {
   "cell_type": "code",
   "execution_count": 40,
   "id": "10d9fae9",
   "metadata": {},
   "outputs": [
    {
     "name": "stdout",
     "output_type": "stream",
     "text": [
      "+---+--------------+-----------------+-------+-------+--------+-------------+\n",
      "|_c0|CRSElapsedTime|ActualElapsedTime|AirTime|Flights|Distance|DistanceGroup|\n",
      "+---+--------------+-----------------+-------+-------+--------+-------------+\n",
      "|  0|         176.0|            180.0|  153.0|    1.0|   991.0|            4|\n",
      "|  1|         157.0|            159.0|  141.0|    1.0|  1066.0|            5|\n",
      "|  2|         135.0|            118.0|  103.0|    1.0|   773.0|            4|\n",
      "|  3|         270.0|            250.0|  220.0|    1.0|  1979.0|            8|\n",
      "|  4|         126.0|            107.0|   80.0|    1.0|   529.0|            3|\n",
      "+---+--------------+-----------------+-------+-------+--------+-------------+\n",
      "only showing top 5 rows\n",
      "\n"
     ]
    }
   ],
   "source": [
    "AirlineSummry.show(5)"
   ]
  },
  {
   "cell_type": "code",
   "execution_count": 41,
   "id": "9762dc95",
   "metadata": {},
   "outputs": [
    {
     "name": "stdout",
     "output_type": "stream",
     "text": [
      "+---+------------+------------+--------+-------------+-----------------+\n",
      "|_c0|CarrierDelay|WeatherDelay|NASDelay|SecurityDelay|LateAircraftDelay|\n",
      "+---+------------+------------+--------+-------------+-----------------+\n",
      "|  0|        null|        null|    null|         null|             null|\n",
      "|  1|        null|        null|    null|         null|             null|\n",
      "|  2|        null|        null|    null|         null|             null|\n",
      "|  3|        null|        null|    null|         null|             null|\n",
      "|  4|         0.0|         0.0|     0.0|          0.0|             32.0|\n",
      "+---+------------+------------+--------+-------------+-----------------+\n",
      "only showing top 5 rows\n",
      "\n"
     ]
    }
   ],
   "source": [
    "AirlineDelayInfo.show(5)"
   ]
  },
  {
   "cell_type": "code",
   "execution_count": 42,
   "id": "1047ddf2",
   "metadata": {},
   "outputs": [
    {
     "data": {
      "text/plain": [
       "2663"
      ]
     },
     "execution_count": 42,
     "metadata": {},
     "output_type": "execute_result"
    }
   ],
   "source": [
    "#Calculate total no of CarrierDelay\n",
    "AirlineDelayInfo.select('CarrierDelay').filter('CarrierDelay > 0').count()"
   ]
  },
  {
   "cell_type": "code",
   "execution_count": 43,
   "id": "f5f8f026",
   "metadata": {},
   "outputs": [
    {
     "data": {
      "text/plain": [
       "360"
      ]
     },
     "execution_count": 43,
     "metadata": {},
     "output_type": "execute_result"
    }
   ],
   "source": [
    "#Calculate total no of WeatherDelay\n",
    "AirlineDelayInfo.select('WeatherDelay').filter('WeatherDelay > 0').count()"
   ]
  },
  {
   "cell_type": "code",
   "execution_count": 44,
   "id": "1119c7fe",
   "metadata": {},
   "outputs": [
    {
     "data": {
      "text/plain": [
       "3202"
      ]
     },
     "execution_count": 44,
     "metadata": {},
     "output_type": "execute_result"
    }
   ],
   "source": [
    "#Calculate total no of NASDelay\n",
    "AirlineDelayInfo.select(\"NASDelay\").filter(\"NASDelay > 0\").count()"
   ]
  },
  {
   "cell_type": "code",
   "execution_count": 45,
   "id": "de6e06e4",
   "metadata": {},
   "outputs": [
    {
     "data": {
      "text/plain": [
       "2685"
      ]
     },
     "execution_count": 45,
     "metadata": {},
     "output_type": "execute_result"
    }
   ],
   "source": [
    "#Calculate total no of LateAircraftDelay\n",
    "AirlineDelayInfo.select('LateAircraftDelay').filter('LateAircraftDelay > 0').count()"
   ]
  },
  {
   "cell_type": "code",
   "execution_count": 46,
   "id": "608041e4",
   "metadata": {},
   "outputs": [
    {
     "data": {
      "text/plain": [
       "21"
      ]
     },
     "execution_count": 46,
     "metadata": {},
     "output_type": "execute_result"
    }
   ],
   "source": [
    "#Calculate total no of SecurityDelay\n",
    "AirlineDelayInfo.select('SecurityDelay').filter('SecurityDelay > 0').count()"
   ]
  },
  {
   "cell_type": "markdown",
   "id": "f1c6dbcf",
   "metadata": {},
   "source": [
    "<h1> Joins </h1>"
   ]
  },
  {
   "cell_type": "code",
   "execution_count": 47,
   "id": "3c277d65",
   "metadata": {},
   "outputs": [
    {
     "name": "stdout",
     "output_type": "stream",
     "text": [
      "+---+----+-------+-----+----------+---------+----------+---+-----------------+------------------------+---------------------------+-----------+-------------------------------+\n",
      "|_c0|Year|Quarter|Month|DayofMonth|DayofWeek|FlightDate|_c0|Reporting_Airline|DOT_ID_Reporting_Airline|IATA_CODE_Reporting_Airline|Tail_Number|Flight_Number_Reporting_Airline|\n",
      "+---+----+-------+-----+----------+---------+----------+---+-----------------+------------------------+---------------------------+-----------+-------------------------------+\n",
      "|  0|1998|      1|    1|         2|        5|1998-01-02|  0|               NW|                   19386|                         NW|     N297US|                            675|\n",
      "|  1|2009|      2|    5|        28|        4|2009-05-28|  1|               FL|                   20437|                         FL|     N946AT|                            671|\n",
      "+---+----+-------+-----+----------+---------+----------+---+-----------------+------------------------+---------------------------+-----------+-------------------------------+\n",
      "only showing top 2 rows\n",
      "\n"
     ]
    }
   ],
   "source": [
    "# Join two dataframe\n",
    "AirlineTimeInfo.join(AirlineInfo, AirlineTimeInfo._c0 == AirlineInfo._c0).show(2)"
   ]
  },
  {
   "cell_type": "code",
   "execution_count": 48,
   "id": "8e493331",
   "metadata": {},
   "outputs": [
    {
     "name": "stdout",
     "output_type": "stream",
     "text": [
      "+---+----+-------+-----+----------+---------+----------+-----------------+------------------------+---------------------------+-----------+-------------------------------+---+---------+----------------+--------+\n",
      "|_c0|Year|Quarter|Month|DayofMonth|DayofWeek|FlightDate|Reporting_Airline|DOT_ID_Reporting_Airline|IATA_CODE_Reporting_Airline|Tail_Number|Flight_Number_Reporting_Airline|_c0|Cancelled|CancellationCode|Diverted|\n",
      "+---+----+-------+-----+----------+---------+----------+-----------------+------------------------+---------------------------+-----------+-------------------------------+---+---------+----------------+--------+\n",
      "|  0|1998|      1|    1|         2|        5|1998-01-02|               NW|                   19386|                         NW|     N297US|                            675|  0|      0.0|            null|     0.0|\n",
      "|  1|2009|      2|    5|        28|        4|2009-05-28|               FL|                   20437|                         FL|     N946AT|                            671|  1|      0.0|            null|     0.0|\n",
      "+---+----+-------+-----+----------+---------+----------+-----------------+------------------------+---------------------------+-----------+-------------------------------+---+---------+----------------+--------+\n",
      "only showing top 2 rows\n",
      "\n"
     ]
    }
   ],
   "source": [
    "# Join three dataframe\n",
    "AirlineTimeInfo.join(AirlineInfo,[\"_c0\"]).join(AirlineCanDivInfo,AirlineTimeInfo[\"_c0\"] == AirlineCanDivInfo[\"_c0\"]).show(2)"
   ]
  },
  {
   "cell_type": "code",
   "execution_count": 49,
   "id": "91b224c8",
   "metadata": {},
   "outputs": [],
   "source": [
    "#Join two dataframe query \n",
    "DelayDF1 = AirlineTimeInfo.select('_c0','Year').filter((AirlineTimeInfo.Year >= 2015) & (AirlineTimeInfo.Year <= 2020)).join(AirlineInfo.select('_c0','Reporting_Airline').groupBy('Reporting_Airline').count(), AirlineTimeInfo._c0 == AirlineInfo._c0, \"inner\").withColumnRenamed(\"count\",\"Total Flights\")"
   ]
  },
  {
   "cell_type": "code",
   "execution_count": 50,
   "id": "f36fc38b",
   "metadata": {},
   "outputs": [
    {
     "name": "stdout",
     "output_type": "stream",
     "text": [
      "+---+----+-----------------+-------------+\n",
      "|_c0|Year|Reporting_Airline|Total Flights|\n",
      "+---+----+-----------------+-------------+\n",
      "|  7|2019|               UA|         4830|\n",
      "|  7|2019|               EA|          237|\n",
      "|  7|2019|               PI|          238|\n",
      "|  7|2019|               NK|          213|\n",
      "|  7|2019|               PS|           16|\n",
      "|  7|2019|               AA|         5834|\n",
      "|  7|2019|               NW|         2792|\n",
      "|  7|2019|               EV|         1749|\n",
      "|  7|2019|               B6|          905|\n",
      "|  7|2019|               HP|          899|\n",
      "|  7|2019|               TW|          949|\n",
      "|  7|2019|               DL|         6691|\n",
      "|  7|2019|               OO|         2719|\n",
      "|  7|2019|               F9|          372|\n",
      "|  7|2019|               YV|          562|\n",
      "|  7|2019|               TZ|           54|\n",
      "|  7|2019|               US|         4230|\n",
      "|  7|2019|               MQ|         2015|\n",
      "|  7|2019|               OH|          607|\n",
      "|  7|2019|               HA|          304|\n",
      "+---+----+-----------------+-------------+\n",
      "only showing top 20 rows\n",
      "\n"
     ]
    }
   ],
   "source": [
    "DelayDF1.show()"
   ]
  },
  {
   "cell_type": "code",
   "execution_count": 51,
   "id": "c9b1a790",
   "metadata": {},
   "outputs": [
    {
     "name": "stdout",
     "output_type": "stream",
     "text": [
      "+-----------------+\n",
      "|Reporting_Airline|\n",
      "+-----------------+\n",
      "|               UA|\n",
      "|               EA|\n",
      "|               PI|\n",
      "|               NK|\n",
      "|               PS|\n",
      "|               AA|\n",
      "|               NW|\n",
      "|               EV|\n",
      "|               B6|\n",
      "|               HP|\n",
      "|               TW|\n",
      "|               DL|\n",
      "|               OO|\n",
      "|               F9|\n",
      "|               YV|\n",
      "|               TZ|\n",
      "|               US|\n",
      "|               MQ|\n",
      "|               OH|\n",
      "|               HA|\n",
      "+-----------------+\n",
      "only showing top 20 rows\n",
      "\n"
     ]
    }
   ],
   "source": [
    "AirlineInfo.select('Reporting_Airline').distinct().show()"
   ]
  },
  {
   "cell_type": "markdown",
   "id": "98d6d3ef",
   "metadata": {},
   "source": [
    "<h1> Create DataFrame </h1>"
   ]
  },
  {
   "cell_type": "code",
   "execution_count": 52,
   "id": "9aaf5683",
   "metadata": {},
   "outputs": [],
   "source": [
    "AirlineDF5 = AirlineDF.select(\"_c0\",\"Year\",\"Quarter\", \"Month\", \"DayofMonth\", \"DayofWeek\" , \\\n",
    "                              \"FlightDate\",\"Reporting_Airline\",\"DOT_ID_Reporting_Airline\", \\\n",
    "                              \"IATA_CODE_Reporting_Airline\", \"Tail_Number\", \"Flight_Number_Reporting_Airline\", \\\n",
    "                              \"OriginAirportID\",\"OriginAirportSeqID\", \"OriginCityMarketID\", \"Origin\", \\\n",
    "                              \"OriginCityName\" , \"OriginState\", \"OriginStateFips\", \"OriginStateName\", \\\n",
    "                              \"OriginWac\",\"DestAirportID\",\"DestAirportSeqID\", \"DestCityMarketID\", \\\n",
    "                              \"Dest\", \"DestCityName\" , \"DestState\", \"DestStateFips\", \"DestStateName\", \\\n",
    "                              \"DestWac\",\"CRSDepTime\",\"DepTime\", \"DepDelay\", \"DepDelayMinutes\", \"DepDel15\" , \\\n",
    "                              \"DepartureDelayGroups\", \"DepTimeBlk\", \"TaxiOut\", \"WheelsOff\",\"WheelsOn\",\"TaxiIn\", \\\n",
    "                              \"CRSArrTime\", \"ArrTime\", \"ArrDelay\" , \"ArrDelayMinutes\", \"ArrDel15\", \\\n",
    "                              \"ArrivalDelayGroups\", \"ArrTimeBlk\",\"Cancelled\",\"CancellationCode\", \\\n",
    "                              \"Diverted\",\"CRSElapsedTime\",\"ActualElapsedTime\", \"AirTime\", \"Flights\", \\\n",
    "                              \"Distance\" , \"DistanceGroup\",\"CarrierDelay\",\"WeatherDelay\", \"NASDelay\", \\\n",
    "                              \"SecurityDelay\", \"LateAircraftDelay\" )"
   ]
  },
  {
   "cell_type": "code",
   "execution_count": 53,
   "id": "c748fbab",
   "metadata": {},
   "outputs": [],
   "source": [
    "#group by carrier and count number of flights in each group \n",
    "#Airline DF5.select('Year','Reporting_Airline').filter((AirlineDF5.Year >= 2000) & (AirlineDF5.Year<=2020)\n",
    "#.groupBy('Reporting_Airline').count().show()"
   ]
  },
  {
   "cell_type": "code",
   "execution_count": 54,
   "id": "2ce8d8a0",
   "metadata": {},
   "outputs": [],
   "source": [
    "#AirlineDF5.selet('Year','Reporting_Airline').filter((AirlineDF5.Year >= 2000) & (AirlineDF5.Year <= 2020)).filter('Cancelled == 1 ').groupBy('Reporting_Airline').count().show()"
   ]
  },
  {
   "cell_type": "markdown",
   "id": "195807c1",
   "metadata": {},
   "source": [
    "<h1> Case study 1 </h1>\n",
    "\n",
    "Departure Delay report for all flights year 2015 to 2020 by carrier"
   ]
  },
  {
   "cell_type": "code",
   "execution_count": 55,
   "id": "116a0496",
   "metadata": {},
   "outputs": [],
   "source": [
    "#Calculate total no of flights and group data by carrier \n",
    "df1 = AirlineDF5.select('Year','Reporting_Airline').filter((AirlineDF5.Year >= 2015) & (AirlineDF5.Year <= 2020)).groupBy('Reporting_Airline').count().withColumnRenamed(\"count\",\"Total Flights\").orderBy(\"Reporting_Airline\")"
   ]
  },
  {
   "cell_type": "code",
   "execution_count": 56,
   "id": "9cf002ea",
   "metadata": {},
   "outputs": [
    {
     "name": "stdout",
     "output_type": "stream",
     "text": [
      "+-----------------+-------------+\n",
      "|Reporting_Airline|Total Flights|\n",
      "+-----------------+-------------+\n",
      "|               9E|          160|\n",
      "|               AA|         1166|\n",
      "|               AS|          297|\n",
      "|               B6|          370|\n",
      "|               DL|         1332|\n",
      "|               EV|          449|\n",
      "|               F9|          155|\n",
      "|               G4|           55|\n",
      "|               HA|          106|\n",
      "|               MQ|          250|\n",
      "|               NK|          213|\n",
      "|               OH|          171|\n",
      "|               OO|          972|\n",
      "|               UA|          731|\n",
      "|               US|           50|\n",
      "|               VX|           51|\n",
      "|               WN|         1783|\n",
      "|               YV|          129|\n",
      "|               YX|          206|\n",
      "+-----------------+-------------+\n",
      "\n"
     ]
    }
   ],
   "source": [
    "df1.show()"
   ]
  },
  {
   "cell_type": "code",
   "execution_count": 57,
   "id": "b978cb2d",
   "metadata": {},
   "outputs": [],
   "source": [
    "#Calculate total no of Departure Delay flights\n",
    "df2 = AirlineDF5.select('Reporting_Airline','DepDelayMinutes').filter((AirlineDF5.Year >= 2015) & (AirlineDF5.Year <= 2020)).filter('DepDelayMinutes >= 10').groupBy('Reporting_Airline').count().withColumnRenamed(\"count\",\"Total Departure Delay Flights\").orderBy('Reporting_Airline')"
   ]
  },
  {
   "cell_type": "code",
   "execution_count": 58,
   "id": "8e82d8ca",
   "metadata": {},
   "outputs": [
    {
     "name": "stdout",
     "output_type": "stream",
     "text": [
      "+-----------------+-----------------------------+\n",
      "|Reporting_Airline|Total Departure Delay Flights|\n",
      "+-----------------+-----------------------------+\n",
      "|               9E|                           37|\n",
      "|               AA|                          250|\n",
      "|               AS|                           41|\n",
      "|               B6|                           98|\n",
      "|               DL|                          240|\n",
      "|               EV|                           88|\n",
      "|               F9|                           36|\n",
      "|               G4|                           15|\n",
      "|               HA|                           16|\n",
      "|               MQ|                           61|\n",
      "|               NK|                           50|\n",
      "|               OH|                           43|\n",
      "|               OO|                          199|\n",
      "|               UA|                          163|\n",
      "|               US|                            8|\n",
      "|               VX|                           10|\n",
      "|               WN|                          476|\n",
      "|               YV|                           34|\n",
      "|               YX|                           30|\n",
      "+-----------------+-----------------------------+\n",
      "\n"
     ]
    }
   ],
   "source": [
    "df2.show()"
   ]
  },
  {
   "cell_type": "code",
   "execution_count": 59,
   "id": "48e68b8c",
   "metadata": {},
   "outputs": [],
   "source": [
    "#Calculate total no of arrival delay Flights \n",
    "df3 = AirlineDF5.select('Reporting_Airline', 'ArrDelayMinutes')\\\n",
    ".filter((AirlineDF5.Year>= 2015) & (AirlineDF5.Year <= 2020)) \\\n",
    ".filter('ArrDelayMinutes >= 10').groupBy('Reporting_Airline') \\\n",
    ".count().withColumnRenamed(\"count\",\"Total ArrivalDelay Flights\").orderBy(\"Reporting_Airline\")"
   ]
  },
  {
   "cell_type": "code",
   "execution_count": 60,
   "id": "ad1f24fb",
   "metadata": {},
   "outputs": [
    {
     "name": "stdout",
     "output_type": "stream",
     "text": [
      "+-----------------+--------------------------+\n",
      "|Reporting_Airline|Total ArrivalDelay Flights|\n",
      "+-----------------+--------------------------+\n",
      "|               9E|                        33|\n",
      "|               AA|                       289|\n",
      "|               AS|                        53|\n",
      "|               B6|                        97|\n",
      "|               DL|                       232|\n",
      "|               EV|                       100|\n",
      "|               F9|                        52|\n",
      "|               G4|                        16|\n",
      "|               HA|                        19|\n",
      "|               MQ|                        79|\n",
      "|               NK|                        58|\n",
      "|               OH|                        51|\n",
      "|               OO|                       220|\n",
      "|               UA|                       170|\n",
      "|               US|                        12|\n",
      "|               VX|                        13|\n",
      "|               WN|                       405|\n",
      "|               YV|                        33|\n",
      "|               YX|                        40|\n",
      "+-----------------+--------------------------+\n",
      "\n"
     ]
    }
   ],
   "source": [
    "df3.show()"
   ]
  },
  {
   "cell_type": "code",
   "execution_count": 61,
   "id": "c9e2088a",
   "metadata": {},
   "outputs": [],
   "source": [
    "#Calculate total no. of cancelled flights \n",
    "df4 = AirlineDF5.select('Reporting_Airline','Cancelled') \\\n",
    ".filter((AirlineDF5.Year >= 2015) & (AirlineDF5.Year <= 2020)) \\\n",
    ".filter(\"Cancelled == 1\").groupBy(\"Reporting_Airline\") \\\n",
    ".count().withColumnRenamed(\"count\", \"Total Cancelled Flights\").orderBy(\"Reporting_Airline\")"
   ]
  },
  {
   "cell_type": "code",
   "execution_count": 62,
   "id": "2ee34c9a",
   "metadata": {},
   "outputs": [
    {
     "name": "stdout",
     "output_type": "stream",
     "text": [
      "+-----------------+-----------------------+\n",
      "|Reporting_Airline|Total Cancelled Flights|\n",
      "+-----------------+-----------------------+\n",
      "|               9E|                      3|\n",
      "|               AA|                     23|\n",
      "|               B6|                      4|\n",
      "|               DL|                      9|\n",
      "|               EV|                     10|\n",
      "|               F9|                      1|\n",
      "|               MQ|                     13|\n",
      "|               NK|                      3|\n",
      "|               OH|                      2|\n",
      "|               OO|                     17|\n",
      "|               UA|                      7|\n",
      "|               VX|                      1|\n",
      "|               WN|                     33|\n",
      "|               YV|                      8|\n",
      "|               YX|                      6|\n",
      "+-----------------+-----------------------+\n",
      "\n"
     ]
    }
   ],
   "source": [
    "df4.show()"
   ]
  },
  {
   "cell_type": "code",
   "execution_count": 63,
   "id": "913c2dd0",
   "metadata": {},
   "outputs": [],
   "source": [
    "# Calculate total no . of diverted flights \n",
    "df5 = AirlineDF5.select('Reporting_Airline','Diverted') \\\n",
    ".filter((AirlineDF5.Year >= 2015) & (AirlineDF5.Year <= 2020)) \\\n",
    ".filter(\"CarrierDelay > 0 \").groupBy(\"Reporting_Airline\") \\\n",
    ".count().withColumnRenamed(\"count\",\"Total CarrierDelay Flights \").orderBy(\"Reporting_Airline\")"
   ]
  },
  {
   "cell_type": "code",
   "execution_count": 64,
   "id": "0f1d1801",
   "metadata": {},
   "outputs": [
    {
     "name": "stdout",
     "output_type": "stream",
     "text": [
      "+-----------------+---------------------------+\n",
      "|Reporting_Airline|Total CarrierDelay Flights |\n",
      "+-----------------+---------------------------+\n",
      "|               9E|                         10|\n",
      "|               AA|                        123|\n",
      "|               AS|                         14|\n",
      "|               B6|                         61|\n",
      "|               DL|                         99|\n",
      "|               EV|                         44|\n",
      "|               F9|                         16|\n",
      "|               G4|                          8|\n",
      "|               HA|                         11|\n",
      "|               MQ|                         22|\n",
      "|               NK|                         17|\n",
      "|               OH|                         20|\n",
      "|               OO|                         70|\n",
      "|               UA|                         69|\n",
      "|               US|                          4|\n",
      "|               VX|                          2|\n",
      "|               WN|                        220|\n",
      "|               YV|                         15|\n",
      "|               YX|                         14|\n",
      "+-----------------+---------------------------+\n",
      "\n"
     ]
    }
   ],
   "source": [
    "df5.show()"
   ]
  },
  {
   "cell_type": "code",
   "execution_count": 65,
   "id": "9efc1e32",
   "metadata": {},
   "outputs": [],
   "source": [
    "#Calculate total no of carrier delay flights\n",
    "df6 = AirlineDF5.select('Reporting_Airline','CarrierDelay') \\\n",
    ".filter((AirlineDF5.Year >= 2015) & (AirlineDF5.Year<=2020)) \\\n",
    ".filter(\"CarrierDelay > 0\").groupBy('Reporting_Airline') \\\n",
    ".count().withColumnRenamed(\"count\",\"Total CarrierDelay Flights\").orderBy(\"Reporting_Airline\")"
   ]
  },
  {
   "cell_type": "code",
   "execution_count": 66,
   "id": "976db7e9",
   "metadata": {},
   "outputs": [
    {
     "name": "stdout",
     "output_type": "stream",
     "text": [
      "+-----------------+--------------------------+\n",
      "|Reporting_Airline|Total CarrierDelay Flights|\n",
      "+-----------------+--------------------------+\n",
      "|               9E|                        10|\n",
      "|               AA|                       123|\n",
      "|               AS|                        14|\n",
      "|               B6|                        61|\n",
      "|               DL|                        99|\n",
      "|               EV|                        44|\n",
      "|               F9|                        16|\n",
      "|               G4|                         8|\n",
      "|               HA|                        11|\n",
      "|               MQ|                        22|\n",
      "|               NK|                        17|\n",
      "|               OH|                        20|\n",
      "|               OO|                        70|\n",
      "|               UA|                        69|\n",
      "|               US|                         4|\n",
      "|               VX|                         2|\n",
      "|               WN|                       220|\n",
      "|               YV|                        15|\n",
      "|               YX|                        14|\n",
      "+-----------------+--------------------------+\n",
      "\n"
     ]
    }
   ],
   "source": [
    "df6.show()"
   ]
  },
  {
   "cell_type": "code",
   "execution_count": 67,
   "id": "d8c2620a",
   "metadata": {},
   "outputs": [],
   "source": [
    "df7  = AirlineDF5.select('Reporting_Airline','WeatherDelay') \\\n",
    ".filter((AirlineDF5.Year >= 2015) & (AirlineDF5.Year<=2020)) \\\n",
    ".filter(\"WeatherDelay > 0\").groupBy('Reporting_Airline') \\\n",
    ".count().withColumnRenamed(\"count\",\"Total WeatherDelay Flights\").orderBy(\"Reporting_Airline\")"
   ]
  },
  {
   "cell_type": "code",
   "execution_count": 68,
   "id": "5bcd7242",
   "metadata": {
    "scrolled": true
   },
   "outputs": [
    {
     "name": "stdout",
     "output_type": "stream",
     "text": [
      "+-----------------+--------------------------+\n",
      "|Reporting_Airline|Total WeatherDelay Flights|\n",
      "+-----------------+--------------------------+\n",
      "|               9E|                         2|\n",
      "|               AA|                        23|\n",
      "|               AS|                         1|\n",
      "|               B6|                         5|\n",
      "|               DL|                        16|\n",
      "|               F9|                         1|\n",
      "|               G4|                         4|\n",
      "|               HA|                         2|\n",
      "|               MQ|                        12|\n",
      "|               NK|                         2|\n",
      "|               OH|                         3|\n",
      "|               OO|                        13|\n",
      "|               UA|                         7|\n",
      "|               US|                         1|\n",
      "|               VX|                         3|\n",
      "|               WN|                        11|\n",
      "|               YV|                         2|\n",
      "|               YX|                         3|\n",
      "+-----------------+--------------------------+\n",
      "\n"
     ]
    }
   ],
   "source": [
    "df7.show()"
   ]
  },
  {
   "cell_type": "code",
   "execution_count": 69,
   "id": "ce3e7a90",
   "metadata": {},
   "outputs": [],
   "source": [
    "df8  = AirlineDF5.select('Reporting_Airline','NASDelay') \\\n",
    ".filter((AirlineDF5.Year >= 2015) & (AirlineDF5.Year<=2020)) \\\n",
    ".filter(\"NASDelay > 0\").groupBy('Reporting_Airline') \\\n",
    ".count().withColumnRenamed(\"count\",\"Total NASDelay Flights\").orderBy(\"Reporting_Airline\")"
   ]
  },
  {
   "cell_type": "code",
   "execution_count": 70,
   "id": "fd30353f",
   "metadata": {},
   "outputs": [
    {
     "name": "stdout",
     "output_type": "stream",
     "text": [
      "+-----------------+----------------------+\n",
      "|Reporting_Airline|Total NASDelay Flights|\n",
      "+-----------------+----------------------+\n",
      "|               9E|                    18|\n",
      "|               AA|                   134|\n",
      "|               AS|                    20|\n",
      "|               B6|                    47|\n",
      "|               DL|                   104|\n",
      "|               EV|                    44|\n",
      "|               F9|                    23|\n",
      "|               G4|                     3|\n",
      "|               MQ|                    40|\n",
      "|               NK|                    44|\n",
      "|               OH|                    21|\n",
      "|               OO|                   102|\n",
      "|               UA|                    78|\n",
      "|               US|                     5|\n",
      "|               VX|                     8|\n",
      "|               WN|                   151|\n",
      "|               YV|                     9|\n",
      "|               YX|                    25|\n",
      "+-----------------+----------------------+\n",
      "\n"
     ]
    }
   ],
   "source": [
    "df8.show()"
   ]
  },
  {
   "cell_type": "code",
   "execution_count": 71,
   "id": "0f6cdfe0",
   "metadata": {},
   "outputs": [],
   "source": [
    "#Calculate total no. of security delay flights\n",
    "df9  = AirlineDF5.select('Reporting_Airline','SecurityDelay') \\\n",
    ".filter((AirlineDF5.Year >= 2015) & (AirlineDF5.Year<=2020)) \\\n",
    ".filter(\"SecurityDelay > 0\").groupBy('Reporting_Airline') \\\n",
    ".count().withColumnRenamed(\"count\",\"TotalSecurityDelay Flights\").orderBy(\"Reporting_Airline\")"
   ]
  },
  {
   "cell_type": "code",
   "execution_count": 72,
   "id": "9849b9ed",
   "metadata": {},
   "outputs": [
    {
     "name": "stdout",
     "output_type": "stream",
     "text": [
      "+-----------------+--------------------------+\n",
      "|Reporting_Airline|TotalSecurityDelay Flights|\n",
      "+-----------------+--------------------------+\n",
      "|               AA|                         1|\n",
      "|               AS|                         1|\n",
      "|               VX|                         1|\n",
      "|               WN|                         1|\n",
      "|               YV|                         1|\n",
      "+-----------------+--------------------------+\n",
      "\n"
     ]
    }
   ],
   "source": [
    "df9.show()"
   ]
  },
  {
   "cell_type": "code",
   "execution_count": 73,
   "id": "49d8d453",
   "metadata": {},
   "outputs": [],
   "source": [
    "#Calculate total no. of late aircraft delay flights\n",
    "df10  = AirlineDF5.select('Reporting_Airline','LateAircraftDelay') \\\n",
    ".filter((AirlineDF5.Year >= 2015) & (AirlineDF5.Year<=2020)) \\\n",
    ".filter(\"LateAircraftDelay > 0\").groupBy('Reporting_Airline') \\\n",
    ".count().withColumnRenamed(\"count\",\"LateAircraftDelay Flights\").orderBy(\"Reporting_Airline\")"
   ]
  },
  {
   "cell_type": "code",
   "execution_count": 74,
   "id": "2c204e6d",
   "metadata": {},
   "outputs": [
    {
     "name": "stdout",
     "output_type": "stream",
     "text": [
      "+-----------------+-------------------------+\n",
      "|Reporting_Airline|LateAircraftDelay Flights|\n",
      "+-----------------+-------------------------+\n",
      "|               9E|                       17|\n",
      "|               AA|                      114|\n",
      "|               AS|                       14|\n",
      "|               B6|                       44|\n",
      "|               DL|                       76|\n",
      "|               EV|                       43|\n",
      "|               F9|                       20|\n",
      "|               G4|                        8|\n",
      "|               HA|                        7|\n",
      "|               MQ|                       35|\n",
      "|               NK|                       11|\n",
      "|               OH|                       28|\n",
      "|               OO|                       94|\n",
      "|               UA|                       57|\n",
      "|               US|                        4|\n",
      "|               VX|                        3|\n",
      "|               WN|                      214|\n",
      "|               YV|                       10|\n",
      "|               YX|                       13|\n",
      "+-----------------+-------------------------+\n",
      "\n"
     ]
    }
   ],
   "source": [
    "df10.show()"
   ]
  },
  {
   "cell_type": "code",
   "execution_count": 75,
   "id": "6eccebbd",
   "metadata": {},
   "outputs": [],
   "source": [
    "#df1.join(df2,df1.Reporting_Airline == df2.Reporting_Airline, \"inner\" ).show(2)"
   ]
  },
  {
   "cell_type": "code",
   "execution_count": 76,
   "id": "aca89097",
   "metadata": {},
   "outputs": [],
   "source": [
    "#df1.join(df2.[\"Reporting_Airline\"])\\\n",
    "#.join(df3,df1[\"Reporting_Airline\"] == df3[\"Reporting_Airline\"])\\\n",
    "#.show(2)"
   ]
  },
  {
   "cell_type": "code",
   "execution_count": 77,
   "id": "2ef11e42",
   "metadata": {},
   "outputs": [],
   "source": [
    "#joining multiple dataframe \n",
    "DelayReport = df1.alias(\"df1\")\\\n",
    ".join(df2.alias(\"df2\"),[\"Reporting_Airline\"])\\\n",
    ".join(df3.alias(\"df3\"),[\"Reporting_Airline\"])\\\n",
    ".join(df4.alias(\"df4\"),[\"Reporting_Airline\"])\\\n",
    ".join(df5.alias(\"df5\"),[\"Reporting_Airline\"])\\\n",
    ".join(df6.alias(\"df6\"),[\"Reporting_Airline\"])\\\n",
    ".join(df7.alias(\"df7\"),[\"Reporting_Airline\"])\\\n",
    ".join(df8.alias(\"df8\"),[\"Reporting_Airline\"])\\\n",
    ".join(df9.alias(\"df9\"),[\"Reporting_Airline\"])\\\n",
    ".join(df10.alias(\"df10\"),[\"Reporting_Airline\"])"
   ]
  },
  {
   "cell_type": "code",
   "execution_count": 78,
   "id": "8c0bec30",
   "metadata": {},
   "outputs": [
    {
     "name": "stdout",
     "output_type": "stream",
     "text": [
      "+-----------------+-------------+-----------------------------+--------------------------+-----------------------+---------------------------+--------------------------+--------------------------+----------------------+--------------------------+-------------------------+\n",
      "|Reporting_Airline|Total Flights|Total Departure Delay Flights|Total ArrivalDelay Flights|Total Cancelled Flights|Total CarrierDelay Flights |Total CarrierDelay Flights|Total WeatherDelay Flights|Total NASDelay Flights|TotalSecurityDelay Flights|LateAircraftDelay Flights|\n",
      "+-----------------+-------------+-----------------------------+--------------------------+-----------------------+---------------------------+--------------------------+--------------------------+----------------------+--------------------------+-------------------------+\n",
      "|               AA|         1166|                          250|                       289|                     23|                        123|                       123|                        23|                   134|                         1|                      114|\n",
      "|               YV|          129|                           34|                        33|                      8|                         15|                        15|                         2|                     9|                         1|                       10|\n",
      "|               VX|           51|                           10|                        13|                      1|                          2|                         2|                         3|                     8|                         1|                        3|\n",
      "|               WN|         1783|                          476|                       405|                     33|                        220|                       220|                        11|                   151|                         1|                      214|\n",
      "+-----------------+-------------+-----------------------------+--------------------------+-----------------------+---------------------------+--------------------------+--------------------------+----------------------+--------------------------+-------------------------+\n",
      "\n"
     ]
    }
   ],
   "source": [
    "#complete delay report\n",
    "DelayReport.show(5)"
   ]
  },
  {
   "cell_type": "code",
   "execution_count": 80,
   "id": "b722ab41",
   "metadata": {},
   "outputs": [
    {
     "name": "stdout",
     "output_type": "stream",
     "text": [
      "+-------+-----------------+-----------------+-----------------------------+--------------------------+-----------------------+---------------------------+--------------------------+--------------------------+----------------------+--------------------------+-------------------------+\n",
      "|summary|Reporting_Airline|    Total Flights|Total Departure Delay Flights|Total ArrivalDelay Flights|Total Cancelled Flights|Total CarrierDelay Flights |Total CarrierDelay Flights|Total WeatherDelay Flights|Total NASDelay Flights|TotalSecurityDelay Flights|LateAircraftDelay Flights|\n",
      "+-------+-----------------+-----------------+-----------------------------+--------------------------+-----------------------+---------------------------+--------------------------+--------------------------+----------------------+--------------------------+-------------------------+\n",
      "|  count|                4|                4|                            4|                         4|                      4|                          4|                         4|                         4|                     4|                         4|                        4|\n",
      "|   mean|             null|           782.25|                        192.5|                     185.0|                  16.25|                       90.0|                      90.0|                      9.75|                  75.5|                       1.0|                    85.25|\n",
      "| stddev|             null|838.6947696669313|            217.6442050687314|        193.13553099658628|     14.453949863849212|         102.23828376232979|        102.23828376232979|           9.7082439194738|     77.67668032728142|                       0.0|         99.7175176853763|\n",
      "|    min|               AA|               51|                           10|                        13|                      1|                          2|                         2|                         2|                     8|                         1|                        3|\n",
      "|    max|               YV|             1783|                          476|                       405|                     33|                        220|                       220|                        23|                   151|                         1|                      214|\n",
      "+-------+-----------------+-----------------+-----------------------------+--------------------------+-----------------------+---------------------------+--------------------------+--------------------------+----------------------+--------------------------+-------------------------+\n",
      "\n"
     ]
    }
   ],
   "source": [
    "#statistics of DelayReport\n",
    "DelayReport.describe().show()"
   ]
  },
  {
   "cell_type": "code",
   "execution_count": 88,
   "id": "b5bca284",
   "metadata": {},
   "outputs": [],
   "source": [
    "#import windows library\n",
    "import pyspark.sql.functions as f\n",
    "from pyspark.sql.window import Window"
   ]
  },
  {
   "cell_type": "code",
   "execution_count": 92,
   "id": "7f7d174c",
   "metadata": {},
   "outputs": [],
   "source": [
    "#Calculate result in percentage\n",
    "df123 = DelayReport\\\n",
    ".withColumn('depdelaypercent', f.col('Total Departure Delay Flights')/f.col('Total Flights')*100)\\\n",
    ".withColumn('arrdelaypercent', f.col('Total ArrivalDelay Flights')/f.col('Total Flights')*100)\\\n",
    ".withColumn('cancelledpercent', f.col('Total Cancelled Flights')/f.col('Total Flights')*100)"
   ]
  },
  {
   "cell_type": "code",
   "execution_count": 93,
   "id": "3e3a231c",
   "metadata": {},
   "outputs": [],
   "source": [
    "#DelayReport.groupBy().max('Total Departure Delay Flights').show()"
   ]
  },
  {
   "cell_type": "code",
   "execution_count": 94,
   "id": "437edc18",
   "metadata": {},
   "outputs": [
    {
     "name": "stdout",
     "output_type": "stream",
     "text": [
      "+-----------------+-------------+------------------+------------------+------------------+\n",
      "|Reporting_Airline|Total Flights|   depdelaypercent|   arrdelaypercent|  cancelledpercent|\n",
      "+-----------------+-------------+------------------+------------------+------------------+\n",
      "|               AA|         1166|21.440823327615778| 24.78559176672384|1.9725557461406518|\n",
      "|               YV|          129|26.356589147286826|25.581395348837212|   6.2015503875969|\n",
      "|               VX|           51|19.607843137254903| 25.49019607843137|1.9607843137254901|\n",
      "|               WN|         1783| 26.69657879977566|22.714526079641054|1.8508132361189005|\n",
      "+-----------------+-------------+------------------+------------------+------------------+\n",
      "\n"
     ]
    }
   ],
   "source": [
    "df123.select('Reporting_Airline','Total Flights', 'depdelaypercent', 'arrdelaypercent','cancelledpercent').show()"
   ]
  },
  {
   "cell_type": "code",
   "execution_count": 96,
   "id": "fbbfe158",
   "metadata": {},
   "outputs": [],
   "source": [
    "#use dense rank for find top rankers by any columns\n",
    "from pyspark.sql import Window\n",
    "import pyspark.sql.functions as psf\n",
    "\n",
    "wT_Flights = Window.orderBy(psf.desc(\"Total Flights\"))\n",
    "testdf1 = DelayReport.withColumn(\"Total Flights_rank\", psf.dense_rank().over(wT_Flights))\n"
   ]
  },
  {
   "cell_type": "code",
   "execution_count": 97,
   "id": "285394f8",
   "metadata": {},
   "outputs": [
    {
     "name": "stdout",
     "output_type": "stream",
     "text": [
      "+-----------------+-------------+-----------------------------+--------------------------+-----------------------+---------------------------+--------------------------+--------------------------+----------------------+--------------------------+-------------------------+------------------+\n",
      "|Reporting_Airline|Total Flights|Total Departure Delay Flights|Total ArrivalDelay Flights|Total Cancelled Flights|Total CarrierDelay Flights |Total CarrierDelay Flights|Total WeatherDelay Flights|Total NASDelay Flights|TotalSecurityDelay Flights|LateAircraftDelay Flights|Total Flights_rank|\n",
      "+-----------------+-------------+-----------------------------+--------------------------+-----------------------+---------------------------+--------------------------+--------------------------+----------------------+--------------------------+-------------------------+------------------+\n",
      "|               WN|         1783|                          476|                       405|                     33|                        220|                       220|                        11|                   151|                         1|                      214|                 1|\n",
      "|               AA|         1166|                          250|                       289|                     23|                        123|                       123|                        23|                   134|                         1|                      114|                 2|\n",
      "|               YV|          129|                           34|                        33|                      8|                         15|                        15|                         2|                     9|                         1|                       10|                 3|\n",
      "|               VX|           51|                           10|                        13|                      1|                          2|                         2|                         3|                     8|                         1|                        3|                 4|\n",
      "+-----------------+-------------+-----------------------------+--------------------------+-----------------------+---------------------------+--------------------------+--------------------------+----------------------+--------------------------+-------------------------+------------------+\n",
      "\n"
     ]
    }
   ],
   "source": [
    "#top 10 Carrier by number of flights \n",
    "testdf1.show()"
   ]
  },
  {
   "cell_type": "code",
   "execution_count": 98,
   "id": "b8e19375",
   "metadata": {},
   "outputs": [
    {
     "data": {
      "text/plain": [
       "['Reporting_Airline',\n",
       " 'Total Flights',\n",
       " 'Total Departure Delay Flights',\n",
       " 'Total ArrivalDelay Flights',\n",
       " 'Total Cancelled Flights',\n",
       " 'Total CarrierDelay Flights ',\n",
       " 'Total CarrierDelay Flights',\n",
       " 'Total WeatherDelay Flights',\n",
       " 'Total NASDelay Flights',\n",
       " 'TotalSecurityDelay Flights',\n",
       " 'LateAircraftDelay Flights',\n",
       " 'Total Flights_rank']"
      ]
     },
     "execution_count": 98,
     "metadata": {},
     "output_type": "execute_result"
    }
   ],
   "source": [
    "testdf1.columns "
   ]
  },
  {
   "cell_type": "code",
   "execution_count": 99,
   "id": "2ccc9232",
   "metadata": {},
   "outputs": [
    {
     "name": "stdout",
     "output_type": "stream",
     "text": [
      "+-----------------+-------------+------------------+\n",
      "|Reporting_Airline|Total Flights|Total Flights_rank|\n",
      "+-----------------+-------------+------------------+\n",
      "|               WN|         1783|                 1|\n",
      "|               AA|         1166|                 2|\n",
      "|               YV|          129|                 3|\n",
      "|               VX|           51|                 4|\n",
      "+-----------------+-------------+------------------+\n",
      "\n"
     ]
    }
   ],
   "source": [
    "testdf1.select('Reporting_Airline', 'Total Flights', 'Total Flights_rank').show()"
   ]
  },
  {
   "cell_type": "code",
   "execution_count": null,
   "id": "ebec5a15",
   "metadata": {},
   "outputs": [],
   "source": []
  }
 ],
 "metadata": {
  "kernelspec": {
   "display_name": "Python 3 (ipykernel)",
   "language": "python",
   "name": "python3"
  },
  "language_info": {
   "codemirror_mode": {
    "name": "ipython",
    "version": 3
   },
   "file_extension": ".py",
   "mimetype": "text/x-python",
   "name": "python",
   "nbconvert_exporter": "python",
   "pygments_lexer": "ipython3",
   "version": "3.9.7"
  }
 },
 "nbformat": 4,
 "nbformat_minor": 5
}
