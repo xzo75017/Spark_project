{
 "cells": [
  {
   "cell_type": "code",
   "execution_count": 5,
   "id": "1612bba2",
   "metadata": {},
   "outputs": [],
   "source": [
    "import pyspark\n",
    "import os\n",
    "import sys\n",
    "from pyspark import SparkContext\n",
    "os.environ['PYSPARK_PYTHON'] = sys.executable\n",
    "os.environ['PYSPARK_DRIVER_PYTHON'] = sys.executable"
   ]
  },
  {
   "cell_type": "code",
   "execution_count": 2,
   "id": "8bbcee01",
   "metadata": {},
   "outputs": [],
   "source": [
    "sc = SparkContext()"
   ]
  },
  {
   "cell_type": "code",
   "execution_count": 24,
   "id": "c3b00460",
   "metadata": {},
   "outputs": [],
   "source": [
    "text_file = sc.textFile(\"sample.txt\")"
   ]
  },
  {
   "cell_type": "code",
   "execution_count": 25,
   "id": "dd4f614d",
   "metadata": {},
   "outputs": [
    {
     "data": {
      "text/plain": [
       "[\"Sunset, also known as sundown, is the daily disappearance of the Sunbelow the horizon due to Earth's rotation. @Ad viewed from everywhere on Earth (except the North and South poles), @the equinow sun sets due west at the moment of both the Spring and Autumn equinox.@As viewed from the Northern Hemisphere, the sun sets to the northwest (or not at all) in the Northern hemisphere's spring and summer, and to the southwest in the autumn and winter. @these seasons are revered for the Souther Hemisphere.\"]"
      ]
     },
     "execution_count": 25,
     "metadata": {},
     "output_type": "execute_result"
    }
   ],
   "source": [
    "text_file.collect()"
   ]
  },
  {
   "cell_type": "code",
   "execution_count": 26,
   "id": "5156fd3f",
   "metadata": {},
   "outputs": [],
   "source": [
    "new1 = text_file.flatMap(lambda line: line.split('@'))"
   ]
  },
  {
   "cell_type": "code",
   "execution_count": 27,
   "id": "baa34d3f",
   "metadata": {},
   "outputs": [
    {
     "data": {
      "text/plain": [
       "[\"Sunset, also known as sundown, is the daily disappearance of the Sunbelow the horizon due to Earth's rotation. \",\n",
       " 'Ad viewed from everywhere on Earth (except the North and South poles), ',\n",
       " 'the equinow sun sets due west at the moment of both the Spring and Autumn equinox.',\n",
       " \"As viewed from the Northern Hemisphere, the sun sets to the northwest (or not at all) in the Northern hemisphere's spring and summer, and to the southwest in the autumn and winter. \",\n",
       " 'these seasons are revered for the Souther Hemisphere.']"
      ]
     },
     "execution_count": 27,
     "metadata": {},
     "output_type": "execute_result"
    }
   ],
   "source": [
    "new1.collect()"
   ]
  },
  {
   "cell_type": "code",
   "execution_count": 31,
   "id": "67a032af",
   "metadata": {},
   "outputs": [],
   "source": [
    "text_file = sc.textFile(\"sample.txt\")"
   ]
  },
  {
   "cell_type": "code",
   "execution_count": 32,
   "id": "dd3b55f3",
   "metadata": {},
   "outputs": [],
   "source": [
    "counts = text_file.flatMap(lambda line: line.split(\" \"))"
   ]
  },
  {
   "cell_type": "code",
   "execution_count": 33,
   "id": "28b9ce4b",
   "metadata": {},
   "outputs": [
    {
     "data": {
      "text/plain": [
       "['Sunset,',\n",
       " 'also',\n",
       " 'known',\n",
       " 'as',\n",
       " 'sundown,',\n",
       " 'is',\n",
       " 'the',\n",
       " 'daily',\n",
       " 'disappearance',\n",
       " 'of',\n",
       " 'the',\n",
       " 'Sunbelow',\n",
       " 'the',\n",
       " 'horizon',\n",
       " 'due',\n",
       " 'to',\n",
       " \"Earth's\",\n",
       " 'rotation.',\n",
       " '@Ad',\n",
       " 'viewed',\n",
       " 'from',\n",
       " 'everywhere',\n",
       " 'on',\n",
       " 'Earth',\n",
       " '(except',\n",
       " 'the',\n",
       " 'North',\n",
       " 'and',\n",
       " 'South',\n",
       " 'poles),',\n",
       " '@the',\n",
       " 'equinow',\n",
       " 'sun',\n",
       " 'sets',\n",
       " 'due',\n",
       " 'west',\n",
       " 'at',\n",
       " 'the',\n",
       " 'moment',\n",
       " 'of',\n",
       " 'both',\n",
       " 'the',\n",
       " 'Spring',\n",
       " 'and',\n",
       " 'Autumn',\n",
       " 'equinox.@As',\n",
       " 'viewed',\n",
       " 'from',\n",
       " 'the',\n",
       " 'Northern',\n",
       " 'Hemisphere,',\n",
       " 'the',\n",
       " 'sun',\n",
       " 'sets',\n",
       " 'to',\n",
       " 'the',\n",
       " 'northwest',\n",
       " '(or',\n",
       " 'not',\n",
       " 'at',\n",
       " 'all)',\n",
       " 'in',\n",
       " 'the',\n",
       " 'Northern',\n",
       " \"hemisphere's\",\n",
       " 'spring',\n",
       " 'and',\n",
       " 'summer,',\n",
       " 'and',\n",
       " 'to',\n",
       " 'the',\n",
       " 'southwest',\n",
       " 'in',\n",
       " 'the',\n",
       " 'autumn',\n",
       " 'and',\n",
       " 'winter.',\n",
       " '@these',\n",
       " 'seasons',\n",
       " 'are',\n",
       " 'revered',\n",
       " 'for',\n",
       " 'the',\n",
       " 'Souther',\n",
       " 'Hemisphere.']"
      ]
     },
     "execution_count": 33,
     "metadata": {},
     "output_type": "execute_result"
    }
   ],
   "source": [
    "counts.collect()"
   ]
  },
  {
   "cell_type": "code",
   "execution_count": 34,
   "id": "8764e6b6",
   "metadata": {},
   "outputs": [],
   "source": [
    "counts1 = counts.map(lambda word: (word, 1))"
   ]
  },
  {
   "cell_type": "code",
   "execution_count": 37,
   "id": "bf683a66",
   "metadata": {},
   "outputs": [
    {
     "data": {
      "text/plain": [
       "[('Sunset,', 1),\n",
       " ('also', 1),\n",
       " ('known', 1),\n",
       " ('as', 1),\n",
       " ('sundown,', 1),\n",
       " ('is', 1),\n",
       " ('the', 1),\n",
       " ('daily', 1),\n",
       " ('disappearance', 1),\n",
       " ('of', 1),\n",
       " ('the', 1),\n",
       " ('Sunbelow', 1),\n",
       " ('the', 1),\n",
       " ('horizon', 1),\n",
       " ('due', 1),\n",
       " ('to', 1),\n",
       " (\"Earth's\", 1),\n",
       " ('rotation.', 1),\n",
       " ('@Ad', 1),\n",
       " ('viewed', 1),\n",
       " ('from', 1),\n",
       " ('everywhere', 1),\n",
       " ('on', 1),\n",
       " ('Earth', 1),\n",
       " ('(except', 1),\n",
       " ('the', 1),\n",
       " ('North', 1),\n",
       " ('and', 1),\n",
       " ('South', 1),\n",
       " ('poles),', 1),\n",
       " ('@the', 1),\n",
       " ('equinow', 1),\n",
       " ('sun', 1),\n",
       " ('sets', 1),\n",
       " ('due', 1),\n",
       " ('west', 1),\n",
       " ('at', 1),\n",
       " ('the', 1),\n",
       " ('moment', 1),\n",
       " ('of', 1),\n",
       " ('both', 1),\n",
       " ('the', 1),\n",
       " ('Spring', 1),\n",
       " ('and', 1),\n",
       " ('Autumn', 1),\n",
       " ('equinox.@As', 1),\n",
       " ('viewed', 1),\n",
       " ('from', 1),\n",
       " ('the', 1),\n",
       " ('Northern', 1),\n",
       " ('Hemisphere,', 1),\n",
       " ('the', 1),\n",
       " ('sun', 1),\n",
       " ('sets', 1),\n",
       " ('to', 1),\n",
       " ('the', 1),\n",
       " ('northwest', 1),\n",
       " ('(or', 1),\n",
       " ('not', 1),\n",
       " ('at', 1),\n",
       " ('all)', 1),\n",
       " ('in', 1),\n",
       " ('the', 1),\n",
       " ('Northern', 1),\n",
       " (\"hemisphere's\", 1),\n",
       " ('spring', 1),\n",
       " ('and', 1),\n",
       " ('summer,', 1),\n",
       " ('and', 1),\n",
       " ('to', 1),\n",
       " ('the', 1),\n",
       " ('southwest', 1),\n",
       " ('in', 1),\n",
       " ('the', 1),\n",
       " ('autumn', 1),\n",
       " ('and', 1),\n",
       " ('winter.', 1),\n",
       " ('@these', 1),\n",
       " ('seasons', 1),\n",
       " ('are', 1),\n",
       " ('revered', 1),\n",
       " ('for', 1),\n",
       " ('the', 1),\n",
       " ('Souther', 1),\n",
       " ('Hemisphere.', 1)]"
      ]
     },
     "execution_count": 37,
     "metadata": {},
     "output_type": "execute_result"
    }
   ],
   "source": [
    "counts1.collect()"
   ]
  },
  {
   "cell_type": "code",
   "execution_count": 35,
   "id": "2ee408e9",
   "metadata": {},
   "outputs": [],
   "source": [
    "counts3 = counts1.reduceByKey(lambda x, y: x + y)"
   ]
  },
  {
   "cell_type": "code",
   "execution_count": 36,
   "id": "21b2acd7",
   "metadata": {},
   "outputs": [
    {
     "data": {
      "text/plain": [
       "[('known', 1),\n",
       " ('as', 1),\n",
       " ('is', 1),\n",
       " ('of', 2),\n",
       " ('Sunbelow', 1),\n",
       " ('due', 2),\n",
       " ('@Ad', 1),\n",
       " ('everywhere', 1),\n",
       " ('(except', 1),\n",
       " ('North', 1),\n",
       " ('poles),', 1),\n",
       " ('equinow', 1),\n",
       " ('sun', 2),\n",
       " ('sets', 2),\n",
       " ('at', 2),\n",
       " ('both', 1),\n",
       " ('Spring', 1),\n",
       " ('equinox.@As', 1),\n",
       " ('northwest', 1),\n",
       " ('all)', 1),\n",
       " ('in', 2),\n",
       " (\"hemisphere's\", 1),\n",
       " ('are', 1),\n",
       " ('Souther', 1),\n",
       " ('Hemisphere.', 1),\n",
       " ('Sunset,', 1),\n",
       " ('also', 1),\n",
       " ('sundown,', 1),\n",
       " ('the', 13),\n",
       " ('daily', 1),\n",
       " ('disappearance', 1),\n",
       " ('horizon', 1),\n",
       " ('to', 3),\n",
       " (\"Earth's\", 1),\n",
       " ('rotation.', 1),\n",
       " ('viewed', 2),\n",
       " ('from', 2),\n",
       " ('on', 1),\n",
       " ('Earth', 1),\n",
       " ('and', 5),\n",
       " ('South', 1),\n",
       " ('@the', 1),\n",
       " ('west', 1),\n",
       " ('moment', 1),\n",
       " ('Autumn', 1),\n",
       " ('Northern', 2),\n",
       " ('Hemisphere,', 1),\n",
       " ('(or', 1),\n",
       " ('not', 1),\n",
       " ('spring', 1),\n",
       " ('summer,', 1),\n",
       " ('southwest', 1),\n",
       " ('autumn', 1),\n",
       " ('winter.', 1),\n",
       " ('@these', 1),\n",
       " ('seasons', 1),\n",
       " ('revered', 1),\n",
       " ('for', 1)]"
      ]
     },
     "execution_count": 36,
     "metadata": {},
     "output_type": "execute_result"
    }
   ],
   "source": [
    "counts3.collect()"
   ]
  },
  {
   "cell_type": "code",
   "execution_count": 41,
   "id": "c3a95932",
   "metadata": {},
   "outputs": [
    {
     "data": {
      "text/plain": [
       "[('known', 1),\n",
       " ('Sunbelow', 1),\n",
       " ('due', 2),\n",
       " ('@Ad', 1),\n",
       " ('everywhere', 1),\n",
       " ('(except', 1),\n",
       " ('North', 1),\n",
       " ('poles),', 1),\n",
       " ('equinow', 1),\n",
       " ('sun', 2),\n",
       " ('sets', 2),\n",
       " ('at', 2),\n",
       " ('both', 1),\n",
       " ('Spring', 1),\n",
       " ('equinox.@As', 1),\n",
       " ('northwest', 1),\n",
       " ('all)', 1),\n",
       " ('in', 2),\n",
       " (\"hemisphere's\", 1),\n",
       " ('are', 1),\n",
       " ('Souther', 1),\n",
       " ('Hemisphere.', 1),\n",
       " ('Sunset,', 1),\n",
       " ('also', 1),\n",
       " ('sundown,', 1),\n",
       " ('daily', 1),\n",
       " ('disappearance', 1),\n",
       " ('horizon', 1),\n",
       " ('to', 3),\n",
       " (\"Earth's\", 1),\n",
       " ('rotation.', 1),\n",
       " ('viewed', 2),\n",
       " ('from', 2),\n",
       " ('Earth', 1),\n",
       " ('South', 1),\n",
       " ('@the', 1),\n",
       " ('west', 1),\n",
       " ('moment', 1),\n",
       " ('Autumn', 1),\n",
       " ('Northern', 2),\n",
       " ('Hemisphere,', 1),\n",
       " ('(or', 1),\n",
       " ('spring', 1),\n",
       " ('summer,', 1),\n",
       " ('southwest', 1),\n",
       " ('autumn', 1),\n",
       " ('winter.', 1),\n",
       " ('@these', 1),\n",
       " ('seasons', 1),\n",
       " ('revered', 1)]"
      ]
     },
     "execution_count": 41,
     "metadata": {},
     "output_type": "execute_result"
    }
   ],
   "source": [
    "counts3.filter(lambda x: x[0] not in [\"for\", \"and\", \"not\", \"on\", \"the\", \"as\", \"of\", \"is\"]).collect()"
   ]
  },
  {
   "cell_type": "code",
   "execution_count": 42,
   "id": "771be846",
   "metadata": {},
   "outputs": [],
   "source": [
    "sc.stop()"
   ]
  },
  {
   "cell_type": "code",
   "execution_count": null,
   "id": "863f3adc",
   "metadata": {},
   "outputs": [],
   "source": []
  }
 ],
 "metadata": {
  "kernelspec": {
   "display_name": "Python 3 (ipykernel)",
   "language": "python",
   "name": "python3"
  },
  "language_info": {
   "codemirror_mode": {
    "name": "ipython",
    "version": 3
   },
   "file_extension": ".py",
   "mimetype": "text/x-python",
   "name": "python",
   "nbconvert_exporter": "python",
   "pygments_lexer": "ipython3",
   "version": "3.9.7"
  }
 },
 "nbformat": 4,
 "nbformat_minor": 5
}
