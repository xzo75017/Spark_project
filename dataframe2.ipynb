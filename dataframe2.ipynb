{
 "cells": [
  {
   "cell_type": "code",
   "execution_count": 3,
   "id": "eb75cb40",
   "metadata": {},
   "outputs": [],
   "source": [
    "#importing pyspark\n",
    "import pyspark\n",
    "import os\n",
    "import sys\n",
    "os.environ['PYSPARK_PYTHON'] = sys.executable\n",
    "os.environ['PYSPARK_DRIVER_PYTHON'] = sys.executable"
   ]
  },
  {
   "cell_type": "code",
   "execution_count": 4,
   "id": "7edda0ec",
   "metadata": {},
   "outputs": [],
   "source": [
    "#importing sparksession\n",
    "from pyspark.sql import SparkSession"
   ]
  },
  {
   "cell_type": "code",
   "execution_count": 5,
   "id": "3d2975ad",
   "metadata": {},
   "outputs": [],
   "source": [
    "#creating a sparkSession object and providing appName\n",
    "spark=SparkSession.builder.appName(\"airline\").getOrCreate()"
   ]
  },
  {
   "cell_type": "code",
   "execution_count": null,
   "id": "70e3801b",
   "metadata": {},
   "outputs": [],
   "source": [
    "spark.stop()"
   ]
  },
  {
   "cell_type": "code",
   "execution_count": 6,
   "id": "8f367173",
   "metadata": {},
   "outputs": [],
   "source": [
    "#To create dataframe form External datasets\n",
    "df=spark.read.option(\"header\",\"true\").csv(\"airlines1.csv\")"
   ]
  },
  {
   "cell_type": "code",
   "execution_count": 7,
   "id": "ca9a172c",
   "metadata": {},
   "outputs": [
    {
     "data": {
      "text/plain": [
       "['_c0', 'Year', 'Quarter', 'Month', 'DayofMonth']"
      ]
     },
     "execution_count": 7,
     "metadata": {},
     "output_type": "execute_result"
    }
   ],
   "source": [
    "#for few columns \n",
    "df.columns[:5]"
   ]
  },
  {
   "cell_type": "code",
   "execution_count": 8,
   "id": "05986612",
   "metadata": {},
   "outputs": [
    {
     "data": {
      "text/plain": [
       "['_c0',\n",
       " 'Year',\n",
       " 'Quarter',\n",
       " 'Month',\n",
       " 'DayofMonth',\n",
       " 'DayOfWeek',\n",
       " 'FlightDate',\n",
       " 'Reporting_Airline',\n",
       " 'DOT_ID_Reporting_Airline',\n",
       " 'IATA_CODE_Reporting_Airline',\n",
       " 'Tail_Number',\n",
       " 'Flight_Number_Reporting_Airline',\n",
       " 'OriginAirportID',\n",
       " 'OriginAirportSeqID',\n",
       " 'OriginCityMarketID',\n",
       " 'Origin',\n",
       " 'OriginCityName',\n",
       " 'OriginState',\n",
       " 'OriginStateFips',\n",
       " 'OriginStateName',\n",
       " 'OriginWac',\n",
       " 'DestAirportID',\n",
       " 'DestAirportSeqID',\n",
       " 'DestCityMarketID',\n",
       " 'Dest',\n",
       " 'DestCityName',\n",
       " 'DestState',\n",
       " 'DestStateFips',\n",
       " 'DestStateName',\n",
       " 'DestWac',\n",
       " 'CRSDepTime',\n",
       " 'DepTime',\n",
       " 'DepDelay',\n",
       " 'DepDelayMinutes',\n",
       " 'DepDel15',\n",
       " 'DepartureDelayGroups',\n",
       " 'DepTimeBlk',\n",
       " 'TaxiOut',\n",
       " 'WheelsOff',\n",
       " 'WheelsOn',\n",
       " 'TaxiIn',\n",
       " 'CRSArrTime',\n",
       " 'ArrTime',\n",
       " 'ArrDelay',\n",
       " 'ArrDelayMinutes',\n",
       " 'ArrDel15',\n",
       " 'ArrivalDelayGroups',\n",
       " 'ArrTimeBlk',\n",
       " 'Cancelled',\n",
       " 'CancellationCode',\n",
       " 'Diverted',\n",
       " 'CRSElapsedTime',\n",
       " 'ActualElapsedTime',\n",
       " 'AirTime',\n",
       " 'Flights',\n",
       " 'Distance',\n",
       " 'DistanceGroup',\n",
       " 'CarrierDelay',\n",
       " 'WeatherDelay',\n",
       " 'NASDelay',\n",
       " 'SecurityDelay',\n",
       " 'LateAircraftDelay',\n",
       " 'FirstDepTime',\n",
       " 'TotalAddGTime',\n",
       " 'LongestAddGTime',\n",
       " 'DivAirportLandings',\n",
       " 'DivReachedDest',\n",
       " 'DivActualElapsedTime',\n",
       " 'DivArrDelay',\n",
       " 'DivDistance',\n",
       " 'Div1Airport',\n",
       " 'Div1AirportID',\n",
       " 'Div1AirportSeqID',\n",
       " 'Div1WheelsOn',\n",
       " 'Div1TotalGTime',\n",
       " 'Div1LongestGTime',\n",
       " 'Div1WheelsOff',\n",
       " 'Div1TailNum',\n",
       " 'Div2Airport',\n",
       " 'Div2AirportID',\n",
       " 'Div2AirportSeqID',\n",
       " 'Div2WheelsOn',\n",
       " 'Div2TotalGTime',\n",
       " 'Div2LongestGTime',\n",
       " 'Div2WheelsOff',\n",
       " 'Div2TailNum',\n",
       " 'Div3Airport',\n",
       " 'Div3AirportID',\n",
       " 'Div3AirportSeqID',\n",
       " 'Div3WheelsOn',\n",
       " 'Div3TotalGTime',\n",
       " 'Div3LongestGTime',\n",
       " 'Div3WheelsOff',\n",
       " 'Div3TailNum',\n",
       " 'Div4Airport',\n",
       " 'Div4AirportID',\n",
       " 'Div4AirportSeqID',\n",
       " 'Div4WheelsOn',\n",
       " 'Div4TotalGTime',\n",
       " 'Div4LongestGTime',\n",
       " 'Div4WheelsOff',\n",
       " 'Div4TailNum',\n",
       " 'Div5Airport',\n",
       " 'Div5AirportID',\n",
       " 'Div5AirportSeqID',\n",
       " 'Div5WheelsOn',\n",
       " 'Div5TotalGTime',\n",
       " 'Div5LongestGTime',\n",
       " 'Div5WheelsOff',\n",
       " 'Div5TailNum']"
      ]
     },
     "execution_count": 8,
     "metadata": {},
     "output_type": "execute_result"
    }
   ],
   "source": [
    "#for all columns\n",
    "df.columns"
   ]
  },
  {
   "cell_type": "code",
   "execution_count": 9,
   "id": "3d45742f",
   "metadata": {},
   "outputs": [
    {
     "data": {
      "text/plain": [
       "DataFrame[_c0: string, Year: string, Quarter: string, Month: string, DayofMonth: string, DayOfWeek: string, FlightDate: string, Reporting_Airline: string, DOT_ID_Reporting_Airline: string, IATA_CODE_Reporting_Airline: string, Tail_Number: string, Flight_Number_Reporting_Airline: string, OriginAirportID: string, OriginAirportSeqID: string, OriginCityMarketID: string, Origin: string, OriginCityName: string, OriginState: string, OriginStateFips: string, OriginStateName: string, OriginWac: string, DestAirportID: string, DestAirportSeqID: string, DestCityMarketID: string, Dest: string, DestCityName: string, DestState: string, DestStateFips: string, DestStateName: string, DestWac: string, CRSDepTime: string, DepTime: string, DepDelay: string, DepDelayMinutes: string, DepDel15: string, DepartureDelayGroups: string, DepTimeBlk: string, TaxiOut: string, WheelsOff: string, WheelsOn: string, TaxiIn: string, CRSArrTime: string, ArrTime: string, ArrDelay: string, ArrDelayMinutes: string, ArrDel15: string, ArrivalDelayGroups: string, ArrTimeBlk: string, Cancelled: string, CancellationCode: string, Diverted: string, CRSElapsedTime: string, ActualElapsedTime: string, AirTime: string, Flights: string, Distance: string, DistanceGroup: string, CarrierDelay: string, WeatherDelay: string, NASDelay: string, SecurityDelay: string, LateAircraftDelay: string, FirstDepTime: string, TotalAddGTime: string, LongestAddGTime: string, DivAirportLandings: string, DivReachedDest: string, DivActualElapsedTime: string, DivArrDelay: string, DivDistance: string, Div1Airport: string, Div1AirportID: string, Div1AirportSeqID: string, Div1WheelsOn: string, Div1TotalGTime: string, Div1LongestGTime: string, Div1WheelsOff: string, Div1TailNum: string, Div2Airport: string, Div2AirportID: string, Div2AirportSeqID: string, Div2WheelsOn: string, Div2TotalGTime: string, Div2LongestGTime: string, Div2WheelsOff: string, Div2TailNum: string, Div3Airport: string, Div3AirportID: string, Div3AirportSeqID: string, Div3WheelsOn: string, Div3TotalGTime: string, Div3LongestGTime: string, Div3WheelsOff: string, Div3TailNum: string, Div4Airport: string, Div4AirportID: string, Div4AirportSeqID: string, Div4WheelsOn: string, Div4TotalGTime: string, Div4LongestGTime: string, Div4WheelsOff: string, Div4TailNum: string, Div5Airport: string, Div5AirportID: string, Div5AirportSeqID: string, Div5WheelsOn: string, Div5TotalGTime: string, Div5LongestGTime: string, Div5WheelsOff: string, Div5TailNum: string]"
      ]
     },
     "metadata": {},
     "output_type": "display_data"
    }
   ],
   "source": [
    "display(df)"
   ]
  },
  {
   "cell_type": "markdown",
   "id": "81099106",
   "metadata": {},
   "source": [
    "<h1> Create multiple dataframes as per need </h1>"
   ]
  },
  {
   "cell_type": "code",
   "execution_count": 10,
   "id": "cadf2d4c",
   "metadata": {},
   "outputs": [],
   "source": [
    "Flight_Details = df.select(\"_c0\", \"Year\", \"Month\", \"DayofMonth\", \"FlightDate\", \"Tail_Number\", \"Flight_Number_Reporting_Airline\")"
   ]
  },
  {
   "cell_type": "code",
   "execution_count": 11,
   "id": "b8a4df07",
   "metadata": {},
   "outputs": [
    {
     "name": "stdout",
     "output_type": "stream",
     "text": [
      "+----+-----+\n",
      "|Year|count|\n",
      "+----+-----+\n",
      "|1987|  339|\n",
      "|2016| 1502|\n",
      "|2020|  462|\n",
      "|2012| 1519|\n",
      "|1988| 1310|\n",
      "|2019| 1900|\n",
      "|2017| 1449|\n",
      "|2014| 1513|\n",
      "|2013| 1690|\n",
      "|2005| 1812|\n",
      "|2000| 1477|\n",
      "|2002| 1371|\n",
      "|2009| 1604|\n",
      "|2018| 1862|\n",
      "|1995| 1377|\n",
      "|2006| 1900|\n",
      "|2004| 1847|\n",
      "|2011| 1551|\n",
      "|1989| 1288|\n",
      "|1992| 1335|\n",
      "+----+-----+\n",
      "only showing top 20 rows\n",
      "\n"
     ]
    }
   ],
   "source": [
    "#count total no of flights in each years \n",
    "Flight_Details.select('Year').groupBy('Year').count().show()"
   ]
  },
  {
   "cell_type": "code",
   "execution_count": 12,
   "id": "c427f880",
   "metadata": {},
   "outputs": [
    {
     "name": "stdout",
     "output_type": "stream",
     "text": [
      "+-----+-----+\n",
      "|Month|count|\n",
      "+-----+-----+\n",
      "|    7| 4267|\n",
      "|   11| 3997|\n",
      "|    3| 4396|\n",
      "|    8| 4414|\n",
      "|    5| 4167|\n",
      "|    6| 4078|\n",
      "|    9| 3954|\n",
      "|    1| 4362|\n",
      "|   10| 4264|\n",
      "|    4| 3969|\n",
      "|   12| 4232|\n",
      "|    2| 3901|\n",
      "+-----+-----+\n",
      "\n"
     ]
    }
   ],
   "source": [
    "#count total no of flights in each months\n",
    "Flight_Details.select('Month').groupBy('Month').count().show()"
   ]
  },
  {
   "cell_type": "code",
   "execution_count": 13,
   "id": "dbc011f6",
   "metadata": {},
   "outputs": [
    {
     "name": "stdout",
     "output_type": "stream",
     "text": [
      "+----+-----+\n",
      "|Year|count|\n",
      "+----+-----+\n",
      "|1987|    3|\n",
      "|2016|   17|\n",
      "|2012|   20|\n",
      "|2020|   24|\n",
      "|1988|   15|\n",
      "|2019|   34|\n",
      "|2017|   22|\n",
      "|2014|   31|\n",
      "|2013|   22|\n",
      "|2005|   33|\n",
      "|2000|   42|\n",
      "|2002|   11|\n",
      "|2018|   24|\n",
      "|2009|   19|\n",
      "|1995|   22|\n",
      "|2006|   30|\n",
      "|2004|   29|\n",
      "|2011|   29|\n",
      "|1989|   26|\n",
      "|1992|   14|\n",
      "+----+-----+\n",
      "only showing top 20 rows\n",
      "\n"
     ]
    }
   ],
   "source": [
    "#count total no of cancelled flights in each years \n",
    "df.select('Year').filter(\"Cancelled = 1\").groupBy('Year').count().show()"
   ]
  },
  {
   "cell_type": "code",
   "execution_count": 14,
   "id": "f877d339",
   "metadata": {},
   "outputs": [
    {
     "name": "stdout",
     "output_type": "stream",
     "text": [
      "+-----+-----+\n",
      "|Month|count|\n",
      "+-----+-----+\n",
      "|    7|   60|\n",
      "|   11|   46|\n",
      "|    3|  106|\n",
      "|    8|   75|\n",
      "|    5|   39|\n",
      "|    6|   60|\n",
      "|    9|  101|\n",
      "|    1|  132|\n",
      "|   10|   57|\n",
      "|    4|   44|\n",
      "|   12|   68|\n",
      "|    2|   90|\n",
      "+-----+-----+\n",
      "\n"
     ]
    }
   ],
   "source": [
    "# count total no cancelled flights in each month\n",
    "df.select('Month').filter('Cancelled = 1').groupBy('Month').count().show()"
   ]
  },
  {
   "cell_type": "code",
   "execution_count": 15,
   "id": "fbe8a081",
   "metadata": {},
   "outputs": [
    {
     "name": "stdout",
     "output_type": "stream",
     "text": [
      "+------+-----+\n",
      "|Origin|count|\n",
      "+------+-----+\n",
      "|   BGM|   11|\n",
      "|   INL|    1|\n",
      "|   MSY|  383|\n",
      "|   GEG|  118|\n",
      "|   BUR|  222|\n",
      "|   SNA|  339|\n",
      "|   GRB|   42|\n",
      "|   GTF|   27|\n",
      "|   IDA|   17|\n",
      "|   GRR|  106|\n",
      "|   EUG|   34|\n",
      "|   PSG|   11|\n",
      "|   GSO|  124|\n",
      "|   PVD|  141|\n",
      "|   MYR|   41|\n",
      "|   OAK|  435|\n",
      "|   MSN|   81|\n",
      "|   FAR|   29|\n",
      "|   COD|    3|\n",
      "|   FSM|    5|\n",
      "+------+-----+\n",
      "only showing top 20 rows\n",
      "\n"
     ]
    }
   ],
   "source": [
    "#count total no of flights By departure airports\n",
    "df.select('Origin').groupBy('Origin').count().show()"
   ]
  },
  {
   "cell_type": "code",
   "execution_count": 16,
   "id": "e167c843",
   "metadata": {},
   "outputs": [
    {
     "name": "stdout",
     "output_type": "stream",
     "text": [
      "+----+-----+\n",
      "|Year|count|\n",
      "+----+-----+\n",
      "|1987|  187|\n",
      "|2016|  978|\n",
      "|2012|  949|\n",
      "|2020|  320|\n",
      "|1988|  775|\n",
      "|2019| 1171|\n",
      "|2017|  911|\n",
      "|2014|  885|\n",
      "|2013| 1011|\n",
      "|2005| 1122|\n",
      "|2000|  812|\n",
      "|2002|  891|\n",
      "|2009|  996|\n",
      "|2018| 1214|\n",
      "|1995|  648|\n",
      "|2006| 1116|\n",
      "|2004| 1226|\n",
      "|2011|  955|\n",
      "|1989|  705|\n",
      "|1992|  721|\n",
      "+----+-----+\n",
      "only showing top 20 rows\n",
      "\n"
     ]
    }
   ],
   "source": [
    "#Calculate years wise on time departure flights\n",
    "df.select('Year').filter('DepDelay <= 0').groupBy('Year').count().show()"
   ]
  },
  {
   "cell_type": "code",
   "execution_count": 17,
   "id": "21846c64",
   "metadata": {},
   "outputs": [
    {
     "name": "stdout",
     "output_type": "stream",
     "text": [
      "+----+-----+\n",
      "|Year|count|\n",
      "+----+-----+\n",
      "|1987|  149|\n",
      "|2016|  507|\n",
      "|2020|  118|\n",
      "|2012|  551|\n",
      "|1988|  520|\n",
      "|2019|  695|\n",
      "|2017|  516|\n",
      "|2014|  597|\n",
      "|2013|  659|\n",
      "|2005|  657|\n",
      "|2000|  623|\n",
      "|2002|  469|\n",
      "|2018|  622|\n",
      "|2009|  590|\n",
      "|1995|  707|\n",
      "|2006|  754|\n",
      "|2004|  592|\n",
      "|2011|  569|\n",
      "|1989|  557|\n",
      "|1992|  600|\n",
      "+----+-----+\n",
      "only showing top 20 rows\n",
      "\n"
     ]
    }
   ],
   "source": [
    "#calculate years wise departure delay flights\n",
    "df.select('Year').filter('DepDelay > 0').groupBy('Year').count().show()"
   ]
  },
  {
   "cell_type": "code",
   "execution_count": 18,
   "id": "f2c43907",
   "metadata": {},
   "outputs": [
    {
     "name": "stdout",
     "output_type": "stream",
     "text": [
      "+----+-----+\n",
      "|Year|count|\n",
      "+----+-----+\n",
      "|1987|   96|\n",
      "|2016|  840|\n",
      "|2012|  782|\n",
      "|2020|  280|\n",
      "|1988|  474|\n",
      "|2019|  982|\n",
      "|2017|  739|\n",
      "|2014|  726|\n",
      "|2013|  829|\n",
      "|2005|  845|\n",
      "|2000|  579|\n",
      "|2002|  695|\n",
      "|2009|  793|\n",
      "|2018| 1032|\n",
      "|1995|  444|\n",
      "|2006|  821|\n",
      "|2004|  921|\n",
      "|1989|  453|\n",
      "|2011|  757|\n",
      "|1992|  501|\n",
      "+----+-----+\n",
      "only showing top 20 rows\n",
      "\n"
     ]
    }
   ],
   "source": [
    "#Caclulate years wise performance of flight like on-time departure, on-time arrival\n",
    "df.select('Year').filter((df.DepDelay <=0) & (df.ArrDelay <=0)).groupBy('Year').count().show()"
   ]
  },
  {
   "cell_type": "code",
   "execution_count": 34,
   "id": "02a351fe",
   "metadata": {},
   "outputs": [],
   "source": [
    "Flight_Origin = df.select(\"_c0\",\"OriginAirportID\", \"OriginAirportSeqID\", \"OriginCityMarketID\", \"Origin\", \"OriginCityMarketID\",\"OriginState\")"
   ]
  },
  {
   "cell_type": "code",
   "execution_count": 22,
   "id": "b4909fb2",
   "metadata": {},
   "outputs": [],
   "source": [
    "Flight_Destination = df.select(\"_c0\", \"DestAirportID\", \"DestAirportSeqID\", \"Dest\", \"DestCityName\", \"DestState\")"
   ]
  },
  {
   "cell_type": "code",
   "execution_count": 23,
   "id": "3967063e",
   "metadata": {},
   "outputs": [],
   "source": [
    "Flight_arr_dep = df.select(\"_c0\", \"CRSArrTime\", \"ArrTime\", \"CRSDepTime\", \"DepTime\")"
   ]
  },
  {
   "cell_type": "code",
   "execution_count": 24,
   "id": "a6f6e337",
   "metadata": {},
   "outputs": [],
   "source": [
    "DelayDF=df.select(\"_c0\",\"CarrierDelay\",\"WeatherDelay\", \"NASDelay\", \"SecurityDelay\", \"LateAircraftDelay\")"
   ]
  },
  {
   "cell_type": "code",
   "execution_count": 25,
   "id": "5ac58774",
   "metadata": {},
   "outputs": [],
   "source": [
    "Flight_cancel = df.select(\"_c0\", \"Cancelled\", \"CancellationCode\", \"Diverted\", \"Flights\")"
   ]
  },
  {
   "cell_type": "code",
   "execution_count": 26,
   "id": "9553eb54",
   "metadata": {},
   "outputs": [],
   "source": [
    "#modify column name\n",
    "#to modify multiple column name\n",
    "#Flight_cancel.withColumnRenamed(\"_c0\",\"ID\").withColumnRenamed(\"CancellationCode\",\"Code\")"
   ]
  },
  {
   "cell_type": "code",
   "execution_count": 27,
   "id": "4b86521f",
   "metadata": {},
   "outputs": [],
   "source": [
    "Flight_cancel = Flight_cancel.withColumnRenamed(\"_c0\",\"ID\")"
   ]
  },
  {
   "cell_type": "markdown",
   "id": "65bc7798",
   "metadata": {},
   "source": [
    "<h1> Data Cleaning </h1>\n",
    "\n",
    "<h1> handling null values </h1>"
   ]
  },
  {
   "cell_type": "code",
   "execution_count": 28,
   "id": "3d985bb3",
   "metadata": {},
   "outputs": [
    {
     "name": "stdout",
     "output_type": "stream",
     "text": [
      "+---+---------+----------------+--------+-------+\n",
      "| ID|Cancelled|CancellationCode|Diverted|Flights|\n",
      "+---+---------+----------------+--------+-------+\n",
      "|  0|      0.0|            null|     0.0|    1.0|\n",
      "|  1|      0.0|            null|     0.0|    1.0|\n",
      "|  2|      0.0|            null|     0.0|    1.0|\n",
      "|  3|      0.0|            null|     0.0|    1.0|\n",
      "|  4|      0.0|            null|     0.0|    1.0|\n",
      "|  5|      0.0|            null|     0.0|    1.0|\n",
      "|  6|      0.0|            null|     0.0|    1.0|\n",
      "|  7|      0.0|            null|     0.0|    1.0|\n",
      "|  8|      0.0|            null|     0.0|    1.0|\n",
      "|  9|      0.0|            null|     0.0|    1.0|\n",
      "| 10|      0.0|            null|     0.0|    1.0|\n",
      "| 11|      0.0|            null|     0.0|    1.0|\n",
      "| 12|      0.0|            null|     0.0|    1.0|\n",
      "| 13|      0.0|            null|     0.0|    1.0|\n",
      "| 14|      0.0|            null|     0.0|    1.0|\n",
      "| 15|      0.0|            null|     0.0|    1.0|\n",
      "| 16|      0.0|            null|     0.0|    1.0|\n",
      "| 17|      0.0|            null|     0.0|    1.0|\n",
      "| 18|      0.0|            null|     0.0|    1.0|\n",
      "| 19|      1.0|               A|     0.0|    1.0|\n",
      "+---+---------+----------------+--------+-------+\n",
      "only showing top 20 rows\n",
      "\n"
     ]
    }
   ],
   "source": [
    "Flight_cancel.show()"
   ]
  },
  {
   "cell_type": "code",
   "execution_count": 29,
   "id": "ecd6bf96",
   "metadata": {},
   "outputs": [
    {
     "name": "stdout",
     "output_type": "stream",
     "text": [
      "+----+---------+----------------+--------+-------+\n",
      "|  ID|Cancelled|CancellationCode|Diverted|Flights|\n",
      "+----+---------+----------------+--------+-------+\n",
      "|  19|      1.0|               A|     0.0|    1.0|\n",
      "| 146|      1.0|               B|     0.0|    1.0|\n",
      "| 197|      1.0|               C|     0.0|    1.0|\n",
      "| 554|      1.0|               A|     0.0|    1.0|\n",
      "| 680|      1.0|               A|     0.0|    1.0|\n",
      "| 841|      1.0|               A|     0.0|    1.0|\n",
      "| 905|      1.0|               B|     0.0|    1.0|\n",
      "| 911|      1.0|               B|     0.0|    1.0|\n",
      "| 965|      1.0|               B|     0.0|    1.0|\n",
      "|1082|      1.0|               C|     0.0|    1.0|\n",
      "|1246|      1.0|               A|     0.0|    1.0|\n",
      "|1443|      1.0|               B|     0.0|    1.0|\n",
      "|1450|      1.0|               A|     0.0|    1.0|\n",
      "|1633|      1.0|               A|     0.0|    1.0|\n",
      "|1730|      1.0|               B|     0.0|    1.0|\n",
      "|1773|      1.0|               C|     0.0|    1.0|\n",
      "|1904|      1.0|               B|     0.0|    1.0|\n",
      "|1908|      1.0|               B|     0.0|    1.0|\n",
      "|1913|      1.0|               A|     0.0|    1.0|\n",
      "|2450|      1.0|               A|     0.0|    1.0|\n",
      "+----+---------+----------------+--------+-------+\n",
      "only showing top 20 rows\n",
      "\n"
     ]
    }
   ],
   "source": [
    "Flight_cancel.na.drop().show()"
   ]
  },
  {
   "cell_type": "code",
   "execution_count": 30,
   "id": "f95a98ec",
   "metadata": {},
   "outputs": [
    {
     "name": "stdout",
     "output_type": "stream",
     "text": [
      "+----+---------+----------------+--------+-------+\n",
      "|  ID|Cancelled|CancellationCode|Diverted|Flights|\n",
      "+----+---------+----------------+--------+-------+\n",
      "|  19|      1.0|               A|     0.0|    1.0|\n",
      "| 146|      1.0|               B|     0.0|    1.0|\n",
      "| 197|      1.0|               C|     0.0|    1.0|\n",
      "| 554|      1.0|               A|     0.0|    1.0|\n",
      "| 680|      1.0|               A|     0.0|    1.0|\n",
      "| 841|      1.0|               A|     0.0|    1.0|\n",
      "| 905|      1.0|               B|     0.0|    1.0|\n",
      "| 911|      1.0|               B|     0.0|    1.0|\n",
      "| 965|      1.0|               B|     0.0|    1.0|\n",
      "|1082|      1.0|               C|     0.0|    1.0|\n",
      "|1246|      1.0|               A|     0.0|    1.0|\n",
      "|1443|      1.0|               B|     0.0|    1.0|\n",
      "|1450|      1.0|               A|     0.0|    1.0|\n",
      "|1633|      1.0|               A|     0.0|    1.0|\n",
      "|1730|      1.0|               B|     0.0|    1.0|\n",
      "|1773|      1.0|               C|     0.0|    1.0|\n",
      "|1904|      1.0|               B|     0.0|    1.0|\n",
      "|1908|      1.0|               B|     0.0|    1.0|\n",
      "|1913|      1.0|               A|     0.0|    1.0|\n",
      "|2450|      1.0|               A|     0.0|    1.0|\n",
      "+----+---------+----------------+--------+-------+\n",
      "only showing top 20 rows\n",
      "\n"
     ]
    }
   ],
   "source": [
    "Flight_cancel.na.drop(how='any').show()"
   ]
  },
  {
   "cell_type": "code",
   "execution_count": 31,
   "id": "6412ff8d",
   "metadata": {},
   "outputs": [
    {
     "name": "stdout",
     "output_type": "stream",
     "text": [
      "+---+---------+----------------+--------+-------+\n",
      "| ID|Cancelled|CancellationCode|Diverted|Flights|\n",
      "+---+---------+----------------+--------+-------+\n",
      "|  0|      0.0|             yes|     0.0|    1.0|\n",
      "|  1|      0.0|             yes|     0.0|    1.0|\n",
      "|  2|      0.0|             yes|     0.0|    1.0|\n",
      "|  3|      0.0|             yes|     0.0|    1.0|\n",
      "|  4|      0.0|             yes|     0.0|    1.0|\n",
      "|  5|      0.0|             yes|     0.0|    1.0|\n",
      "|  6|      0.0|             yes|     0.0|    1.0|\n",
      "|  7|      0.0|             yes|     0.0|    1.0|\n",
      "|  8|      0.0|             yes|     0.0|    1.0|\n",
      "|  9|      0.0|             yes|     0.0|    1.0|\n",
      "| 10|      0.0|             yes|     0.0|    1.0|\n",
      "| 11|      0.0|             yes|     0.0|    1.0|\n",
      "| 12|      0.0|             yes|     0.0|    1.0|\n",
      "| 13|      0.0|             yes|     0.0|    1.0|\n",
      "| 14|      0.0|             yes|     0.0|    1.0|\n",
      "| 15|      0.0|             yes|     0.0|    1.0|\n",
      "| 16|      0.0|             yes|     0.0|    1.0|\n",
      "| 17|      0.0|             yes|     0.0|    1.0|\n",
      "| 18|      0.0|             yes|     0.0|    1.0|\n",
      "| 19|      1.0|               A|     0.0|    1.0|\n",
      "+---+---------+----------------+--------+-------+\n",
      "only showing top 20 rows\n",
      "\n"
     ]
    }
   ],
   "source": [
    "Flight_cancel.na.fill('yes').show()"
   ]
  },
  {
   "cell_type": "markdown",
   "id": "0c0d3519",
   "metadata": {},
   "source": [
    "<h1> apply pyspark windows function </h1>"
   ]
  },
  {
   "cell_type": "code",
   "execution_count": 32,
   "id": "01705ccb",
   "metadata": {},
   "outputs": [],
   "source": [
    "from pyspark.sql.window import Window\n",
    "from pyspark.sql.functions import row_number"
   ]
  },
  {
   "cell_type": "code",
   "execution_count": 35,
   "id": "664892f8",
   "metadata": {},
   "outputs": [
    {
     "name": "stdout",
     "output_type": "stream",
     "text": [
      "+-----+---------------+------------------+------------------+------+------------------+-----------+----------+\n",
      "|  _c0|OriginAirportID|OriginAirportSeqID|OriginCityMarketID|Origin|OriginCityMarketID|OriginState|row_number|\n",
      "+-----+---------------+------------------+------------------+------+------------------+-----------+----------+\n",
      "|22201|          12016|           1201601|             32016|   GUM|             32016|       null|         1|\n",
      "|32252|          12016|           1201601|             32016|   GUM|             32016|       null|         2|\n",
      "|47945|          14583|           1458301|             34583|   ROR|             34583|       null|         3|\n",
      "| 4406|          14843|           1484301|             34819|   SJU|             34819|       null|         4|\n",
      "|11056|          14843|           1484301|             34819|   SJU|             34819|       null|         5|\n",
      "|11127|          14843|           1484301|             34819|   SJU|             34819|       null|         6|\n",
      "|17268|          14843|           1484301|             34819|   SJU|             34819|       null|         7|\n",
      "|19012|          14843|           1484301|             34819|   SJU|             34819|       null|         8|\n",
      "|20504|          14843|           1484301|             34819|   SJU|             34819|       null|         9|\n",
      "|21724|          14843|           1484301|             34819|   SJU|             34819|       null|        10|\n",
      "|27784|          14843|           1484301|             34819|   SJU|             34819|       null|        11|\n",
      "|31525|          14843|           1484301|             34819|   SJU|             34819|       null|        12|\n",
      "|39618|          14843|           1484301|             34819|   SJU|             34819|       null|        13|\n",
      "|18173|          14955|           1495501|             34955|   SPN|             34955|       null|        14|\n",
      "|22928|          15024|           1502402|             34945|   STT|             34945|       null|        15|\n",
      "|27212|          15024|           1502402|             34945|   STT|             34945|       null|        16|\n",
      "|29420|          15024|           1502402|             34945|   STT|             34945|       null|        17|\n",
      "|37516|          15024|           1502402|             34945|   STT|             34945|       null|        18|\n",
      "|40192|          15024|           1502402|             34945|   STT|             34945|       null|        19|\n",
      "|45635|          15027|           1502701|             34992|   STX|             34992|       null|        20|\n",
      "+-----+---------------+------------------+------------------+------+------------------+-----------+----------+\n",
      "only showing top 20 rows\n",
      "\n"
     ]
    }
   ],
   "source": [
    "ndf = Window.partitionBy('OriginState').orderBy('OriginAirportID')\n",
    "Flight_Origin.withColumn('row_number',row_number().over(ndf)).show()"
   ]
  },
  {
   "cell_type": "code",
   "execution_count": 36,
   "id": "c0140aba",
   "metadata": {},
   "outputs": [
    {
     "name": "stdout",
     "output_type": "stream",
     "text": [
      "+-----+---------------+------------------+------------------+------+------------------+-----------+----+\n",
      "|  _c0|OriginAirportID|OriginAirportSeqID|OriginCityMarketID|Origin|OriginCityMarketID|OriginState|rank|\n",
      "+-----+---------------+------------------+------------------+------+------------------+-----------+----+\n",
      "|22201|          12016|           1201601|             32016|   GUM|             32016|       null|   1|\n",
      "|32252|          12016|           1201601|             32016|   GUM|             32016|       null|   1|\n",
      "|47945|          14583|           1458301|             34583|   ROR|             34583|       null|   3|\n",
      "| 4406|          14843|           1484301|             34819|   SJU|             34819|       null|   4|\n",
      "|11056|          14843|           1484301|             34819|   SJU|             34819|       null|   4|\n",
      "|11127|          14843|           1484301|             34819|   SJU|             34819|       null|   4|\n",
      "|17268|          14843|           1484301|             34819|   SJU|             34819|       null|   4|\n",
      "|19012|          14843|           1484301|             34819|   SJU|             34819|       null|   4|\n",
      "|20504|          14843|           1484301|             34819|   SJU|             34819|       null|   4|\n",
      "|21724|          14843|           1484301|             34819|   SJU|             34819|       null|   4|\n",
      "|27784|          14843|           1484301|             34819|   SJU|             34819|       null|   4|\n",
      "|31525|          14843|           1484301|             34819|   SJU|             34819|       null|   4|\n",
      "|39618|          14843|           1484301|             34819|   SJU|             34819|       null|   4|\n",
      "|18173|          14955|           1495501|             34955|   SPN|             34955|       null|  14|\n",
      "|22928|          15024|           1502402|             34945|   STT|             34945|       null|  15|\n",
      "|27212|          15024|           1502402|             34945|   STT|             34945|       null|  15|\n",
      "|29420|          15024|           1502402|             34945|   STT|             34945|       null|  15|\n",
      "|37516|          15024|           1502402|             34945|   STT|             34945|       null|  15|\n",
      "|40192|          15024|           1502402|             34945|   STT|             34945|       null|  15|\n",
      "|45635|          15027|           1502701|             34992|   STX|             34992|       null|  20|\n",
      "+-----+---------------+------------------+------------------+------+------------------+-----------+----+\n",
      "only showing top 20 rows\n",
      "\n"
     ]
    }
   ],
   "source": [
    "#Use rank function\n",
    "from pyspark.sql.functions import rank \n",
    "Flight_Origin.withColumn(\"rank\", rank().over(ndf)).show()"
   ]
  },
  {
   "cell_type": "code",
   "execution_count": 38,
   "id": "48e2b7a3",
   "metadata": {},
   "outputs": [
    {
     "name": "stdout",
     "output_type": "stream",
     "text": [
      "+-----+---------------+------------------+------------------+------+------------------+-----------+\n",
      "|  _c0|OriginAirportID|OriginAirportSeqID|OriginCityMarketID|Origin|OriginCityMarketID|OriginState|\n",
      "+-----+---------------+------------------+------------------+------+------------------+-----------+\n",
      "|39459|          10135|           1013501|             30135|   ABE|             30135|         PA|\n",
      "|42080|          10135|           1013501|             30135|   ABE|             30135|         PA|\n",
      "|38459|          10135|           1013501|             30135|   ABE|             30135|         PA|\n",
      "|44533|          10135|           1013501|             30135|   ABE|             30135|         PA|\n",
      "|45933|          10135|           1013501|             30135|   ABE|             30135|         PA|\n",
      "| 8808|          10135|           1013503|             30135|   ABE|             30135|         PA|\n",
      "| 6444|          10135|           1013501|             30135|   ABE|             30135|         PA|\n",
      "| 7069|          10135|           1013501|             30135|   ABE|             30135|         PA|\n",
      "| 6277|          10135|           1013501|             30135|   ABE|             30135|         PA|\n",
      "|40523|          10135|           1013501|             30135|   ABE|             30135|         PA|\n",
      "|11414|          10135|           1013501|             30135|   ABE|             30135|         PA|\n",
      "|46502|          10135|           1013501|             30135|   ABE|             30135|         PA|\n",
      "| 1590|          10135|           1013501|             30135|   ABE|             30135|         PA|\n",
      "| 8828|          10135|           1013501|             30135|   ABE|             30135|         PA|\n",
      "| 5819|          10135|           1013501|             30135|   ABE|             30135|         PA|\n",
      "|46998|          10135|           1013501|             30135|   ABE|             30135|         PA|\n",
      "| 5403|          10135|           1013505|             30135|   ABE|             30135|         PA|\n",
      "| 5113|          10135|           1013502|             30135|   ABE|             30135|         PA|\n",
      "|10257|          10135|           1013501|             30135|   ABE|             30135|         PA|\n",
      "|10893|          10135|           1013501|             30135|   ABE|             30135|         PA|\n",
      "+-----+---------------+------------------+------------------+------+------------------+-----------+\n",
      "only showing top 20 rows\n",
      "\n"
     ]
    }
   ],
   "source": [
    "#sorting dataframe by using sort \n",
    "Flight_Origin.sort(\"Origin\", \"OriginState\").show()"
   ]
  },
  {
   "cell_type": "code",
   "execution_count": 40,
   "id": "646b5a54",
   "metadata": {},
   "outputs": [
    {
     "name": "stdout",
     "output_type": "stream",
     "text": [
      "+-----+---------------+------------------+------------------+------+------------------+-----------+\n",
      "|  _c0|OriginAirportID|OriginAirportSeqID|OriginCityMarketID|Origin|OriginCityMarketID|OriginState|\n",
      "+-----+---------------+------------------+------------------+------+------------------+-----------+\n",
      "|10257|          10135|           1013501|             30135|   ABE|             30135|         PA|\n",
      "| 1590|          10135|           1013501|             30135|   ABE|             30135|         PA|\n",
      "| 8828|          10135|           1013501|             30135|   ABE|             30135|         PA|\n",
      "|11414|          10135|           1013501|             30135|   ABE|             30135|         PA|\n",
      "| 7069|          10135|           1013501|             30135|   ABE|             30135|         PA|\n",
      "|10893|          10135|           1013501|             30135|   ABE|             30135|         PA|\n",
      "| 5819|          10135|           1013501|             30135|   ABE|             30135|         PA|\n",
      "|42080|          10135|           1013501|             30135|   ABE|             30135|         PA|\n",
      "|42910|          10135|           1013501|             30135|   ABE|             30135|         PA|\n",
      "| 6444|          10135|           1013501|             30135|   ABE|             30135|         PA|\n",
      "|39459|          10135|           1013501|             30135|   ABE|             30135|         PA|\n",
      "|46502|          10135|           1013501|             30135|   ABE|             30135|         PA|\n",
      "| 5403|          10135|           1013505|             30135|   ABE|             30135|         PA|\n",
      "| 8808|          10135|           1013503|             30135|   ABE|             30135|         PA|\n",
      "| 5113|          10135|           1013502|             30135|   ABE|             30135|         PA|\n",
      "|46998|          10135|           1013501|             30135|   ABE|             30135|         PA|\n",
      "|44533|          10135|           1013501|             30135|   ABE|             30135|         PA|\n",
      "|45933|          10135|           1013501|             30135|   ABE|             30135|         PA|\n",
      "|40523|          10135|           1013501|             30135|   ABE|             30135|         PA|\n",
      "|38459|          10135|           1013501|             30135|   ABE|             30135|         PA|\n",
      "+-----+---------------+------------------+------------------+------+------------------+-----------+\n",
      "only showing top 20 rows\n",
      "\n"
     ]
    }
   ],
   "source": [
    "#sorting dataframe by orderby\n",
    "Flight_Origin.orderBy('Origin','OriginState').show()"
   ]
  },
  {
   "cell_type": "code",
   "execution_count": 41,
   "id": "baae4eb4",
   "metadata": {},
   "outputs": [],
   "source": [
    "#sort by ascending \n",
    "#Flight Origin.sort(Flight_Origin, Origin.asc(),df.OriginState.asc()).show()\n",
    "#Flight_Origin.orderBy(col(\"Origin\").asc(), col(\"OriginState\").asc()).show()"
   ]
  },
  {
   "cell_type": "code",
   "execution_count": 42,
   "id": "512b870e",
   "metadata": {},
   "outputs": [],
   "source": [
    "#sort by descending \n",
    "#Flight_Origin.sort(Flight_Origin.Origin.asc(), df.OriginSate.asc().show())\n",
    "#Flight_Origin.orderBy(col(\"Origin\").desc(),col(\"OriginState\").desc().show())"
   ]
  },
  {
   "cell_type": "code",
   "execution_count": 45,
   "id": "0ff947af",
   "metadata": {},
   "outputs": [],
   "source": [
    "from pyspark.sql.types import StructType, StructField, StringType, IntegerType\n",
    "from pyspark.sql.types import ArrayType, DoubleType, BooleanType\n",
    "from pyspark.sql.functions import col, array_contains"
   ]
  },
  {
   "cell_type": "code",
   "execution_count": 48,
   "id": "17b02ece",
   "metadata": {},
   "outputs": [
    {
     "name": "stdout",
     "output_type": "stream",
     "text": [
      "+---+-------------+----------------+----+--------------------+---------+\n",
      "|_c0|DestAirportID|DestAirportSeqID|Dest|        DestCityName|DestState|\n",
      "+---+-------------+----------------+----+--------------------+---------+\n",
      "|  0|        14869|         1486902| SLC|  Salt Lake City, UT|       UT|\n",
      "|  1|        13204|         1320401| MCO|         Orlando, FL|       FL|\n",
      "|  2|        11298|         1129803| DFW|Dallas/Fort Worth...|       TX|\n",
      "|  3|        11433|         1143301| DTW|         Detroit, MI|       MI|\n",
      "|  4|        11057|         1105702| CLT|       Charlotte, NC|       NC|\n",
      "|  5|        14814|         1481401| SHV|      Shreveport, LA|       LA|\n",
      "|  6|        11042|         1104201| CLE|       Cleveland, OH|       OH|\n",
      "|  7|        10868|         1086803| CAE|        Columbia, SC|       SC|\n",
      "|  8|        11042|         1104201| CLE|       Cleveland, OH|       OH|\n",
      "|  9|        11259|         1125903| DAL|          Dallas, TX|       TX|\n",
      "| 10|        12892|         1289201| LAX|     Los Angeles, CA|       CA|\n",
      "| 11|        11259|         1125903| DAL|          Dallas, TX|       TX|\n",
      "| 12|        13303|         1330302| MIA|           Miami, FL|       FL|\n",
      "| 13|        12892|         1289203| LAX|     Los Angeles, CA|       CA|\n",
      "| 14|        12953|         1295301| LGA|        New York, NY|       NY|\n",
      "| 15|        10821|         1082102| BWI|       Baltimore, MD|       MD|\n",
      "| 16|        13184|         1318402| MBS|Saginaw/Bay City/...|       MI|\n",
      "| 17|        14747|         1474703| SEA|         Seattle, WA|       WA|\n",
      "| 18|        12264|         1226401| IAD|      Washington, DC|       VA|\n",
      "| 19|        12892|         1289205| LAX|     Los Angeles, CA|       CA|\n",
      "+---+-------------+----------------+----+--------------------+---------+\n",
      "only showing top 20 rows\n",
      "\n"
     ]
    }
   ],
   "source": [
    "Flight_Destination.show()"
   ]
  },
  {
   "cell_type": "markdown",
   "id": "439f3de1",
   "metadata": {},
   "source": [
    "<h1> how to use UDF in pyspark DataFrame </h1>"
   ]
  },
  {
   "cell_type": "code",
   "execution_count": 47,
   "id": "aa889184",
   "metadata": {},
   "outputs": [],
   "source": [
    "from pyspark.sql.functions import udf "
   ]
  },
  {
   "cell_type": "code",
   "execution_count": 49,
   "id": "da71c1b4",
   "metadata": {},
   "outputs": [],
   "source": [
    "from pyspark.sql.functions import col"
   ]
  },
  {
   "cell_type": "code",
   "execution_count": 50,
   "id": "f11534d7",
   "metadata": {},
   "outputs": [],
   "source": [
    "#from pyspark.sql.types import StructType, IntegerType, StringType\n",
    "#as per datatype StructType, IntegerType, StringType in columns we need to import these library\n",
    "#otherwise bydefault it will take StringType"
   ]
  },
  {
   "cell_type": "code",
   "execution_count": 51,
   "id": "92efff45",
   "metadata": {},
   "outputs": [],
   "source": [
    "#create function in Python"
   ]
  },
  {
   "cell_type": "code",
   "execution_count": 55,
   "id": "15751cd0",
   "metadata": {},
   "outputs": [],
   "source": [
    "def destination(strl):\n",
    "    resStr=\"\"\n",
    "    arr = strl.split(\",\")\n",
    "    for x in arr:\n",
    "        resStr=arr[0]\n",
    "    return resStr"
   ]
  },
  {
   "cell_type": "code",
   "execution_count": 53,
   "id": "e0a0afdc",
   "metadata": {},
   "outputs": [],
   "source": [
    "#Converting python function to UDF\n",
    "destinationUDF = udf(lambda z: destination(z))"
   ]
  },
  {
   "cell_type": "code",
   "execution_count": 54,
   "id": "6feee62b",
   "metadata": {},
   "outputs": [
    {
     "name": "stdout",
     "output_type": "stream",
     "text": [
      "+----+------------------------+\n",
      "|Dest|DestCityName            |\n",
      "+----+------------------------+\n",
      "|SLC |Salt Lake City          |\n",
      "|MCO |Orlando                 |\n",
      "|DFW |Dallas/Fort Worth       |\n",
      "|DTW |Detroit                 |\n",
      "|CLT |Charlotte               |\n",
      "|SHV |Shreveport              |\n",
      "|CLE |Cleveland               |\n",
      "|CAE |Columbia                |\n",
      "|CLE |Cleveland               |\n",
      "|DAL |Dallas                  |\n",
      "|LAX |Los Angeles             |\n",
      "|DAL |Dallas                  |\n",
      "|MIA |Miami                   |\n",
      "|LAX |Los Angeles             |\n",
      "|LGA |New York                |\n",
      "|BWI |Baltimore               |\n",
      "|MBS |Saginaw/Bay City/Midland|\n",
      "|SEA |Seattle                 |\n",
      "|IAD |Washington              |\n",
      "|LAX |Los Angeles             |\n",
      "+----+------------------------+\n",
      "only showing top 20 rows\n",
      "\n"
     ]
    }
   ],
   "source": [
    "df.select(col(\"Dest\"),destinationUDF(col(\"DestCityName\")).alias(\"DestCityName\")).show(truncate=False)"
   ]
  },
  {
   "cell_type": "code",
   "execution_count": 56,
   "id": "e4b3497f",
   "metadata": {},
   "outputs": [
    {
     "name": "stdout",
     "output_type": "stream",
     "text": [
      "+---+-------------+----------------+----+--------------------+---------+\n",
      "|_c0|DestAirportID|DestAirportSeqID|Dest|        DestCityName|DestState|\n",
      "+---+-------------+----------------+----+--------------------+---------+\n",
      "|  0|        14869|         1486902| SLC|  Salt Lake City, UT|       UT|\n",
      "|  1|        13204|         1320401| MCO|         Orlando, FL|       FL|\n",
      "|  2|        11298|         1129803| DFW|Dallas/Fort Worth...|       TX|\n",
      "|  3|        11433|         1143301| DTW|         Detroit, MI|       MI|\n",
      "|  4|        11057|         1105702| CLT|       Charlotte, NC|       NC|\n",
      "|  5|        14814|         1481401| SHV|      Shreveport, LA|       LA|\n",
      "|  6|        11042|         1104201| CLE|       Cleveland, OH|       OH|\n",
      "|  7|        10868|         1086803| CAE|        Columbia, SC|       SC|\n",
      "|  8|        11042|         1104201| CLE|       Cleveland, OH|       OH|\n",
      "|  9|        11259|         1125903| DAL|          Dallas, TX|       TX|\n",
      "| 10|        12892|         1289201| LAX|     Los Angeles, CA|       CA|\n",
      "| 11|        11259|         1125903| DAL|          Dallas, TX|       TX|\n",
      "| 12|        13303|         1330302| MIA|           Miami, FL|       FL|\n",
      "| 13|        12892|         1289203| LAX|     Los Angeles, CA|       CA|\n",
      "| 14|        12953|         1295301| LGA|        New York, NY|       NY|\n",
      "| 15|        10821|         1082102| BWI|       Baltimore, MD|       MD|\n",
      "| 16|        13184|         1318402| MBS|Saginaw/Bay City/...|       MI|\n",
      "| 17|        14747|         1474703| SEA|         Seattle, WA|       WA|\n",
      "| 18|        12264|         1226401| IAD|      Washington, DC|       VA|\n",
      "| 19|        12892|         1289205| LAX|     Los Angeles, CA|       CA|\n",
      "+---+-------------+----------------+----+--------------------+---------+\n",
      "only showing top 20 rows\n",
      "\n"
     ]
    }
   ],
   "source": [
    "Flight_Destination.show()"
   ]
  },
  {
   "cell_type": "code",
   "execution_count": null,
   "id": "23a48e95",
   "metadata": {},
   "outputs": [],
   "source": []
  }
 ],
 "metadata": {
  "kernelspec": {
   "display_name": "Python 3 (ipykernel)",
   "language": "python",
   "name": "python3"
  },
  "language_info": {
   "codemirror_mode": {
    "name": "ipython",
    "version": 3
   },
   "file_extension": ".py",
   "mimetype": "text/x-python",
   "name": "python",
   "nbconvert_exporter": "python",
   "pygments_lexer": "ipython3",
   "version": "3.9.7"
  }
 },
 "nbformat": 4,
 "nbformat_minor": 5
}
