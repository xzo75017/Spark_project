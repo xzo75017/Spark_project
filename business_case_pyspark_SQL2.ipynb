{
 "cells": [
  {
   "cell_type": "code",
   "execution_count": 2,
   "id": "8b73e482",
   "metadata": {},
   "outputs": [],
   "source": [
    "#importing pyspark\n",
    "import pyspark"
   ]
  },
  {
   "cell_type": "code",
   "execution_count": 3,
   "id": "2ae48f0f",
   "metadata": {},
   "outputs": [],
   "source": [
    "#importing sparksession\n",
    "from pyspark.sql import SparkSession"
   ]
  },
  {
   "cell_type": "code",
   "execution_count": 4,
   "id": "3fab344a",
   "metadata": {},
   "outputs": [],
   "source": [
    "#creating a sparksession object and providing appName\n",
    "spark = SparkSession.builder.appName(\"business_case_sql\").getOrCreate()"
   ]
  },
  {
   "cell_type": "code",
   "execution_count": 5,
   "id": "bc698f15",
   "metadata": {},
   "outputs": [],
   "source": [
    "#To create dataframe form external datasets\n",
    "AirlineDF = spark.read.option(\"header\",\"true\").csv(\"airlines1.csv\")"
   ]
  },
  {
   "cell_type": "markdown",
   "id": "9ca9723b",
   "metadata": {},
   "source": [
    "To register Dataframe as a table "
   ]
  },
  {
   "cell_type": "code",
   "execution_count": 6,
   "id": "634895f7",
   "metadata": {},
   "outputs": [
    {
     "name": "stderr",
     "output_type": "stream",
     "text": [
      "C:\\Users\\User\\anaconda3\\lib\\site-packages\\pyspark\\sql\\dataframe.py:229: FutureWarning: Deprecated in 2.0, use createOrReplaceTempView instead.\n",
      "  warnings.warn(\"Deprecated in 2.0, use createOrReplaceTempView instead.\", FutureWarning)\n"
     ]
    }
   ],
   "source": [
    "AirlineDF.registerTempTable(\"AirlineTable\")"
   ]
  },
  {
   "cell_type": "code",
   "execution_count": 7,
   "id": "47ba7eaf",
   "metadata": {},
   "outputs": [
    {
     "name": "stdout",
     "output_type": "stream",
     "text": [
      "+---+----+-------+-----+----------+---------+----------+-----------------+------------------------+---------------------------+-----------+-------------------------------+---------------+------------------+------------------+------+------------------+-----------+---------------+---------------+---------+-------------+----------------+----------------+----+--------------------+---------+-------------+--------------+-------+----------+-------+--------+---------------+--------+--------------------+----------+-------+---------+--------+------+----------+-------+--------+---------------+--------+------------------+----------+---------+----------------+--------+--------------+-----------------+-------+-------+--------+-------------+------------+------------+--------+-------------+-----------------+------------+-------------+---------------+------------------+--------------+--------------------+-----------+-----------+-----------+-------------+----------------+------------+--------------+----------------+-------------+-----------+-----------+-------------+----------------+------------+--------------+----------------+-------------+-----------+-----------+-------------+----------------+------------+--------------+----------------+-------------+-----------+-----------+-------------+----------------+------------+--------------+----------------+-------------+-----------+-----------+-------------+----------------+------------+--------------+----------------+-------------+-----------+\n",
      "|_c0|Year|Quarter|Month|DayofMonth|DayOfWeek|FlightDate|Reporting_Airline|DOT_ID_Reporting_Airline|IATA_CODE_Reporting_Airline|Tail_Number|Flight_Number_Reporting_Airline|OriginAirportID|OriginAirportSeqID|OriginCityMarketID|Origin|    OriginCityName|OriginState|OriginStateFips|OriginStateName|OriginWac|DestAirportID|DestAirportSeqID|DestCityMarketID|Dest|        DestCityName|DestState|DestStateFips| DestStateName|DestWac|CRSDepTime|DepTime|DepDelay|DepDelayMinutes|DepDel15|DepartureDelayGroups|DepTimeBlk|TaxiOut|WheelsOff|WheelsOn|TaxiIn|CRSArrTime|ArrTime|ArrDelay|ArrDelayMinutes|ArrDel15|ArrivalDelayGroups|ArrTimeBlk|Cancelled|CancellationCode|Diverted|CRSElapsedTime|ActualElapsedTime|AirTime|Flights|Distance|DistanceGroup|CarrierDelay|WeatherDelay|NASDelay|SecurityDelay|LateAircraftDelay|FirstDepTime|TotalAddGTime|LongestAddGTime|DivAirportLandings|DivReachedDest|DivActualElapsedTime|DivArrDelay|DivDistance|Div1Airport|Div1AirportID|Div1AirportSeqID|Div1WheelsOn|Div1TotalGTime|Div1LongestGTime|Div1WheelsOff|Div1TailNum|Div2Airport|Div2AirportID|Div2AirportSeqID|Div2WheelsOn|Div2TotalGTime|Div2LongestGTime|Div2WheelsOff|Div2TailNum|Div3Airport|Div3AirportID|Div3AirportSeqID|Div3WheelsOn|Div3TotalGTime|Div3LongestGTime|Div3WheelsOff|Div3TailNum|Div4Airport|Div4AirportID|Div4AirportSeqID|Div4WheelsOn|Div4TotalGTime|Div4LongestGTime|Div4WheelsOff|Div4TailNum|Div5Airport|Div5AirportID|Div5AirportSeqID|Div5WheelsOn|Div5TotalGTime|Div5LongestGTime|Div5WheelsOff|Div5TailNum|\n",
      "+---+----+-------+-----+----------+---------+----------+-----------------+------------------------+---------------------------+-----------+-------------------------------+---------------+------------------+------------------+------+------------------+-----------+---------------+---------------+---------+-------------+----------------+----------------+----+--------------------+---------+-------------+--------------+-------+----------+-------+--------+---------------+--------+--------------------+----------+-------+---------+--------+------+----------+-------+--------+---------------+--------+------------------+----------+---------+----------------+--------+--------------+-----------------+-------+-------+--------+-------------+------------+------------+--------+-------------+-----------------+------------+-------------+---------------+------------------+--------------+--------------------+-----------+-----------+-----------+-------------+----------------+------------+--------------+----------------+-------------+-----------+-----------+-------------+----------------+------------+--------------+----------------+-------------+-----------+-----------+-------------+----------------+------------+--------------+----------------+-------------+-----------+-----------+-------------+----------------+------------+--------------+----------------+-------------+-----------+-----------+-------------+----------------+------------+--------------+----------------+-------------+-----------+\n",
      "|  0|1998|      1|    1|         2|        5|1998-01-02|               NW|                   19386|                         NW|     N297US|                            675|          13487|           1348701|             31650|   MSP|   Minneapolis, MN|         MN|           27.0|      Minnesota|       63|        14869|         1486902|           34614| SLC|  Salt Lake City, UT|       UT|         49.0|          Utah|     87|      1640| 1659.0|    19.0|           19.0|     1.0|                 1.0| 1600-1659|   24.0|   1723.0|  1856.0|   3.0|      1836| 1859.0|    23.0|           23.0|     1.0|               1.0| 1800-1859|      0.0|            null|     0.0|         176.0|            180.0|  153.0|    1.0|   991.0|            4|        null|        null|    null|         null|             null|        null|         null|           null|              null|          null|                null|       null|       null|       null|         null|            null|        null|          null|            null|         null|       null|       null|         null|            null|        null|          null|            null|         null|       null|       null|         null|            null|        null|          null|            null|         null|       null|       null|         null|            null|        null|          null|            null|         null|       null|       null|         null|            null|        null|          null|            null|         null|       null|\n",
      "|  1|2009|      2|    5|        28|        4|2009-05-28|               FL|                   20437|                         FL|     N946AT|                            671|          13342|           1334202|             33342|   MKE|     Milwaukee, WI|         WI|           55.0|      Wisconsin|       45|        13204|         1320401|           31454| MCO|         Orlando, FL|       FL|         12.0|       Florida|     33|      1204| 1202.0|    -2.0|            0.0|     0.0|                -1.0| 1200-1259|   10.0|   1212.0|  1533.0|   8.0|      1541| 1541.0|     0.0|            0.0|     0.0|               0.0| 1500-1559|      0.0|            null|     0.0|         157.0|            159.0|  141.0|    1.0|  1066.0|            5|        null|        null|    null|         null|             null|        null|         null|           null|               0.0|          null|                null|       null|       null|       null|         null|            null|        null|          null|            null|         null|       null|       null|         null|            null|        null|          null|            null|         null|       null|       null|         null|            null|        null|          null|            null|         null|       null|       null|         null|            null|        null|          null|            null|         null|       null|       null|         null|            null|        null|          null|            null|         null|       null|\n",
      "|  2|2013|      2|    6|        29|        6|2013-06-29|               MQ|                   20398|                         MQ|     N665MQ|                           3297|          11921|           1192102|             31921|   GJT|Grand Junction, CO|         CO|            8.0|       Colorado|       82|        11298|         1129803|           30194| DFW|Dallas/Fort Worth...|       TX|         48.0|         Texas|     74|      1630| 1644.0|    14.0|           14.0|     0.0|                 0.0| 1600-1659|    9.0|   1653.0|  1936.0|   6.0|      1945| 1942.0|    -3.0|            0.0|     0.0|              -1.0| 1900-1959|      0.0|            null|     0.0|         135.0|            118.0|  103.0|    1.0|   773.0|            4|        null|        null|    null|         null|             null|        null|         null|           null|               0.0|          null|                null|       null|       null|       null|         null|            null|        null|          null|            null|         null|       null|       null|         null|            null|        null|          null|            null|         null|       null|       null|         null|            null|        null|          null|            null|         null|       null|       null|         null|            null|        null|          null|            null|         null|       null|       null|         null|            null|        null|          null|            null|         null|       null|\n",
      "|  3|2010|      3|    8|        31|        2|2010-08-31|               DL|                   19790|                         DL|     N6705Y|                           1806|          12892|           1289201|             32575|   LAX|   Los Angeles, CA|         CA|            6.0|     California|       91|        11433|         1143301|           31295| DTW|         Detroit, MI|       MI|         26.0|      Michigan|     43|      1305| 1305.0|     0.0|            0.0|     0.0|                 0.0| 1300-1359|   23.0|   1328.0|  2008.0|   7.0|      2035| 2015.0|   -20.0|            0.0|     0.0|              -2.0| 2000-2059|      0.0|            null|     0.0|         270.0|            250.0|  220.0|    1.0|  1979.0|            8|        null|        null|    null|         null|             null|        null|         null|           null|               0.0|          null|                null|       null|       null|       null|         null|            null|        null|          null|            null|         null|       null|       null|         null|            null|        null|          null|            null|         null|       null|       null|         null|            null|        null|          null|            null|         null|       null|       null|         null|            null|        null|          null|            null|         null|       null|       null|         null|            null|        null|          null|            null|         null|       null|\n",
      "|  4|2006|      1|    1|        15|        7|2006-01-15|               US|                   20355|                         US|     N504AU|                            465|          11618|           1161801|             31703|   EWR|        Newark, NJ|         NJ|           34.0|     New Jersey|       21|        11057|         1105702|           31057| CLT|       Charlotte, NC|       NC|         37.0|North Carolina|     36|      1820| 1911.0|    51.0|           51.0|     1.0|                 3.0| 1800-1859|   19.0|   1930.0|  2050.0|   8.0|      2026| 2058.0|    32.0|           32.0|     1.0|               2.0| 2000-2059|      0.0|            null|     0.0|         126.0|            107.0|   80.0|    1.0|   529.0|            3|         0.0|         0.0|     0.0|          0.0|             32.0|        null|         null|           null|              null|          null|                null|       null|       null|       null|         null|            null|        null|          null|            null|         null|       null|       null|         null|            null|        null|          null|            null|         null|       null|       null|         null|            null|        null|          null|            null|         null|       null|       null|         null|            null|        null|          null|            null|         null|       null|       null|         null|            null|        null|          null|            null|         null|       null|\n",
      "+---+----+-------+-----+----------+---------+----------+-----------------+------------------------+---------------------------+-----------+-------------------------------+---------------+------------------+------------------+------+------------------+-----------+---------------+---------------+---------+-------------+----------------+----------------+----+--------------------+---------+-------------+--------------+-------+----------+-------+--------+---------------+--------+--------------------+----------+-------+---------+--------+------+----------+-------+--------+---------------+--------+------------------+----------+---------+----------------+--------+--------------+-----------------+-------+-------+--------+-------------+------------+------------+--------+-------------+-----------------+------------+-------------+---------------+------------------+--------------+--------------------+-----------+-----------+-----------+-------------+----------------+------------+--------------+----------------+-------------+-----------+-----------+-------------+----------------+------------+--------------+----------------+-------------+-----------+-----------+-------------+----------------+------------+--------------+----------------+-------------+-----------+-----------+-------------+----------------+------------+--------------+----------------+-------------+-----------+-----------+-------------+----------------+------------+--------------+----------------+-------------+-----------+\n",
      "only showing top 5 rows\n",
      "\n"
     ]
    }
   ],
   "source": [
    "#How to read the register table\n",
    "spark.sql(\"SELECT * FROM AirlineTable\").show(5)"
   ]
  },
  {
   "cell_type": "code",
   "execution_count": 8,
   "id": "d433c6c2",
   "metadata": {},
   "outputs": [
    {
     "name": "stdout",
     "output_type": "stream",
     "text": [
      "+--------+\n",
      "|count(1)|\n",
      "+--------+\n",
      "|   50001|\n",
      "+--------+\n",
      "\n"
     ]
    }
   ],
   "source": [
    "#count number of rows\n",
    "spark.sql(\"SELECT count(*) FROM AirlineTable\").show()"
   ]
  },
  {
   "cell_type": "code",
   "execution_count": 9,
   "id": "998ce86b",
   "metadata": {},
   "outputs": [
    {
     "name": "stdout",
     "output_type": "stream",
     "text": [
      "+--------------------+---------+-------+\n",
      "|            col_name|data_type|comment|\n",
      "+--------------------+---------+-------+\n",
      "|                 _c0|   string|   null|\n",
      "|                Year|   string|   null|\n",
      "|             Quarter|   string|   null|\n",
      "|               Month|   string|   null|\n",
      "|          DayofMonth|   string|   null|\n",
      "|           DayOfWeek|   string|   null|\n",
      "|          FlightDate|   string|   null|\n",
      "|   Reporting_Airline|   string|   null|\n",
      "|DOT_ID_Reporting_...|   string|   null|\n",
      "|IATA_CODE_Reporti...|   string|   null|\n",
      "|         Tail_Number|   string|   null|\n",
      "|Flight_Number_Rep...|   string|   null|\n",
      "|     OriginAirportID|   string|   null|\n",
      "|  OriginAirportSeqID|   string|   null|\n",
      "|  OriginCityMarketID|   string|   null|\n",
      "|              Origin|   string|   null|\n",
      "|      OriginCityName|   string|   null|\n",
      "|         OriginState|   string|   null|\n",
      "|     OriginStateFips|   string|   null|\n",
      "|     OriginStateName|   string|   null|\n",
      "|           OriginWac|   string|   null|\n",
      "|       DestAirportID|   string|   null|\n",
      "|    DestAirportSeqID|   string|   null|\n",
      "|    DestCityMarketID|   string|   null|\n",
      "|                Dest|   string|   null|\n",
      "|        DestCityName|   string|   null|\n",
      "|           DestState|   string|   null|\n",
      "|       DestStateFips|   string|   null|\n",
      "|       DestStateName|   string|   null|\n",
      "|             DestWac|   string|   null|\n",
      "|          CRSDepTime|   string|   null|\n",
      "|             DepTime|   string|   null|\n",
      "|            DepDelay|   string|   null|\n",
      "|     DepDelayMinutes|   string|   null|\n",
      "|            DepDel15|   string|   null|\n",
      "|DepartureDelayGroups|   string|   null|\n",
      "|          DepTimeBlk|   string|   null|\n",
      "|             TaxiOut|   string|   null|\n",
      "|           WheelsOff|   string|   null|\n",
      "|            WheelsOn|   string|   null|\n",
      "|              TaxiIn|   string|   null|\n",
      "|          CRSArrTime|   string|   null|\n",
      "|             ArrTime|   string|   null|\n",
      "|            ArrDelay|   string|   null|\n",
      "|     ArrDelayMinutes|   string|   null|\n",
      "|            ArrDel15|   string|   null|\n",
      "|  ArrivalDelayGroups|   string|   null|\n",
      "|          ArrTimeBlk|   string|   null|\n",
      "|           Cancelled|   string|   null|\n",
      "|    CancellationCode|   string|   null|\n",
      "+--------------------+---------+-------+\n",
      "only showing top 50 rows\n",
      "\n"
     ]
    }
   ],
   "source": [
    "#How to see all the columns with the datatype\n",
    "spark.sql(\"describe AirlineTable\").show(50)"
   ]
  },
  {
   "cell_type": "code",
   "execution_count": 10,
   "id": "a4291dbc",
   "metadata": {},
   "outputs": [
    {
     "name": "stdout",
     "output_type": "stream",
     "text": [
      "+------+--------------------+\n",
      "|origin|        destcityname|\n",
      "+------+--------------------+\n",
      "|   MSP|  Salt Lake City, UT|\n",
      "|   MKE|         Orlando, FL|\n",
      "|   GJT|Dallas/Fort Worth...|\n",
      "|   LAX|         Detroit, MI|\n",
      "|   EWR|       Charlotte, NC|\n",
      "+------+--------------------+\n",
      "only showing top 5 rows\n",
      "\n"
     ]
    }
   ],
   "source": [
    "#Select some columns form table \n",
    "spark.sql(\"SELECT origin, destcityname FROM AirlineTable\").show(5)"
   ]
  },
  {
   "cell_type": "code",
   "execution_count": 11,
   "id": "057374d3",
   "metadata": {},
   "outputs": [
    {
     "name": "stdout",
     "output_type": "stream",
     "text": [
      "+------------------+\n",
      "|    Avg_Delay_Time|\n",
      "+------------------+\n",
      "|10.851455322613475|\n",
      "+------------------+\n",
      "\n"
     ]
    }
   ],
   "source": [
    "#Average departure delay\n",
    "spark.sql(\"SELECT avg(DepDelayMinutes) as Avg_Delay_Time FROM AirlineTable\").show()"
   ]
  },
  {
   "cell_type": "code",
   "execution_count": 12,
   "id": "712425e0",
   "metadata": {},
   "outputs": [
    {
     "name": "stdout",
     "output_type": "stream",
     "text": [
      "+-------------------------------+-----------+\n",
      "|Flight_Number_Reporting_Airline|Total_delay|\n",
      "+-------------------------------+-----------+\n",
      "|                            675|       42.0|\n",
      "|                            671|       -2.0|\n",
      "|                           3297|       11.0|\n",
      "|                           1806|      -20.0|\n",
      "|                            465|       83.0|\n",
      "|                           1198|       11.0|\n",
      "|                           1431|       -2.0|\n",
      "|                           3459|      435.0|\n",
      "|                           7233|       12.0|\n",
      "|                           5932|       45.0|\n",
      "|                           2135|        8.0|\n",
      "|                           1463|       -5.0|\n",
      "|                            830|      -13.0|\n",
      "|                           6474|      -23.0|\n",
      "|                            674|      -21.0|\n",
      "|                            362|       10.0|\n",
      "|                           1678|      -18.0|\n",
      "|                            413|      -35.0|\n",
      "|                            210|      -17.0|\n",
      "|                            995|       null|\n",
      "+-------------------------------+-----------+\n",
      "only showing top 20 rows\n",
      "\n"
     ]
    }
   ],
   "source": [
    "#Calculate overall flights delay \n",
    "spark.sql(\"SELECT Flight_Number_Reporting_Airline, DepDelay+ArrDelay as Total_delay FROM AirlineTable\").show()"
   ]
  },
  {
   "cell_type": "code",
   "execution_count": 13,
   "id": "24530edf",
   "metadata": {},
   "outputs": [
    {
     "name": "stdout",
     "output_type": "stream",
     "text": [
      "+------+--------+--------------------+--------------------+\n",
      "|origin|count(1)|avg(DepDelayMinutes)|max(DepDelayMinutes)|\n",
      "+------+--------+--------------------+--------------------+\n",
      "|   ABE|      49|   6.659574468085107|                44.0|\n",
      "|   ABI|      11|  0.5555555555555556|                 4.0|\n",
      "|   ABQ|     290|   9.041958041958042|                 9.0|\n",
      "|   ABR|       3|               284.0|               852.0|\n",
      "|   ABY|       3|                20.0|                30.0|\n",
      "|   ACK|       1|                 0.0|                 0.0|\n",
      "|   ACT|      16|              3.1875|                33.0|\n",
      "|   ACV|      14|   7.071428571428571|                 7.0|\n",
      "|   ACY|       5|                 7.6|                38.0|\n",
      "|   ADK|       2|                 6.5|                13.0|\n",
      "|   ADQ|       4|   4.666666666666667|                14.0|\n",
      "|   AEX|      11|   8.090909090909092|                34.0|\n",
      "|   AGS|      27|  23.814814814814813|                64.0|\n",
      "|   AKN|       2|                 9.5|                 4.0|\n",
      "|   ALB|     111|  7.5504587155963305|                 9.0|\n",
      "|   ALO|       3|                 0.0|                 0.0|\n",
      "|   AMA|      47|   9.065217391304348|                72.0|\n",
      "|   ANC|     146|  11.282758620689656|                 9.0|\n",
      "|   APN|       2|                 0.0|                 0.0|\n",
      "|   ART|       1|                 0.0|                 0.0|\n",
      "+------+--------+--------------------+--------------------+\n",
      "only showing top 20 rows\n",
      "\n"
     ]
    }
   ],
   "source": [
    "#Count total number of flights by origin airport and toal avg and maximum DepDelay time in each airport\n",
    "spark.sql(\"SELECT origin, COUNT(*), avg(DepDelayMinutes), max(DepDelayMinutes) FROM AirlineTable GROUP BY origin \").show()"
   ]
  },
  {
   "cell_type": "code",
   "execution_count": 14,
   "id": "c426dbba",
   "metadata": {},
   "outputs": [
    {
     "name": "stdout",
     "output_type": "stream",
     "text": [
      "+-----------+----------------+\n",
      "|OriginState|count(Cancelled)|\n",
      "+-----------+----------------+\n",
      "|         SC|               8|\n",
      "|         AZ|              12|\n",
      "|         MN|              26|\n",
      "|         NJ|              27|\n",
      "|         OR|               5|\n",
      "+-----------+----------------+\n",
      "only showing top 5 rows\n",
      "\n"
     ]
    }
   ],
   "source": [
    "#calculate origin state wise cancelled flights\n",
    "spark.sql(\"SELECT OriginState, count(Cancelled) FROM AirlineTable WHERE Cancelled = 1 GROUP BY originState \").show(5)"
   ]
  },
  {
   "cell_type": "code",
   "execution_count": 15,
   "id": "aa387209",
   "metadata": {},
   "outputs": [
    {
     "name": "stdout",
     "output_type": "stream",
     "text": [
      "+------+--------+\n",
      "|origin|count(1)|\n",
      "+------+--------+\n",
      "|   ATL|       8|\n",
      "|   ORD|       7|\n",
      "|   DFW|       6|\n",
      "|   MCO|       6|\n",
      "|   PHX|       6|\n",
      "|   LAX|       5|\n",
      "|   IAH|       5|\n",
      "|   CLE|       4|\n",
      "|   SFO|       3|\n",
      "|   LAS|       3|\n",
      "|   MEM|       3|\n",
      "|   BOS|       3|\n",
      "|   CMH|       3|\n",
      "|   IAD|       3|\n",
      "|   CLT|       3|\n",
      "|   TPA|       3|\n",
      "|   MIA|       3|\n",
      "|   EWR|       2|\n",
      "|   DEN|       2|\n",
      "|   SMF|       2|\n",
      "+------+--------+\n",
      "only showing top 20 rows\n",
      "\n"
     ]
    }
   ],
   "source": [
    "#pass condition one two columns\n",
    "spark.sql(\"SELECT origin, COUNT(*) FROM AirlineTable WHERE year = 2010 and month = 6 GROUP BY origin ORDER BY COUNT(*) DESC\").show()"
   ]
  },
  {
   "cell_type": "code",
   "execution_count": 16,
   "id": "9561b06d",
   "metadata": {},
   "outputs": [
    {
     "name": "stdout",
     "output_type": "stream",
     "text": [
      "+------------------------+\n",
      "|DOT_ID_Reporting_Airline|\n",
      "+------------------------+\n",
      "|                   20409|\n",
      "|                   19805|\n",
      "+------------------------+\n",
      "\n"
     ]
    }
   ],
   "source": [
    "#pass more than two onditions on different columns \n",
    "spark.sql(\"SELECT DOT_ID_Reporting_Airline FROM AirlineTable WHERE year = 2015 and month = 12 AND origin = 'JFK'\").show()"
   ]
  },
  {
   "cell_type": "code",
   "execution_count": 17,
   "id": "94852c3b",
   "metadata": {},
   "outputs": [
    {
     "name": "stdout",
     "output_type": "stream",
     "text": [
      "+------+-------------+-------+\n",
      "|origin|sum(diverted)|RANKING|\n",
      "+------+-------------+-------+\n",
      "|   DEN|          6.0|      1|\n",
      "|   ATL|          6.0|      1|\n",
      "|   ORD|          6.0|      1|\n",
      "|   MSP|          6.0|      1|\n",
      "|   DFW|          5.0|      5|\n",
      "|   FLL|          5.0|      5|\n",
      "|   CVG|          4.0|      7|\n",
      "|   CLT|          4.0|      7|\n",
      "|   LAX|          4.0|      7|\n",
      "|   MCO|          4.0|      7|\n",
      "|   CMH|          3.0|     11|\n",
      "|   SEA|          3.0|     11|\n",
      "|   PDX|          3.0|     11|\n",
      "|   BWI|          3.0|     11|\n",
      "|   STL|          3.0|     11|\n",
      "|   PIT|          3.0|     11|\n",
      "|   DCA|          2.0|     17|\n",
      "|   PSG|          2.0|     17|\n",
      "|   BNA|          2.0|     17|\n",
      "|   IAH|          2.0|     17|\n",
      "+------+-------------+-------+\n",
      "only showing top 20 rows\n",
      "\n"
     ]
    }
   ],
   "source": [
    "#Rank and number of diverted flight by origin\n",
    "spark.sql(\"SELECT origin, sum(diverted), RANK() OVER(ORDER BY sum(diverted) DESC) AS RANKING FROM AirlineTable GROUP BY origin\").show()"
   ]
  },
  {
   "cell_type": "markdown",
   "id": "85564169",
   "metadata": {},
   "source": [
    "<h1> Case Study 1 </h1>\n",
    "\n",
    "To calculate year wise on time flight performance"
   ]
  },
  {
   "cell_type": "code",
   "execution_count": 18,
   "id": "d63a50b9",
   "metadata": {},
   "outputs": [],
   "source": [
    "df1 = spark.sql(\"SELECT year, COUNT(*) AS TOTAL_FLIGHT, COUNT(arrdelay==0) AS TOTAL_ON_TIME, sum(cancelled) AS TOTAL_CANCELLED, sum(diverted) AS TOTAL_DIVERTED FROM AirlineTable WHERE GROUP BY YEAR; \")"
   ]
  },
  {
   "cell_type": "code",
   "execution_count": 19,
   "id": "27f20c40",
   "metadata": {},
   "outputs": [],
   "source": [
    "df1.registerTempTable(\"AirlineTable1\")"
   ]
  },
  {
   "cell_type": "code",
   "execution_count": 20,
   "id": "48e44040",
   "metadata": {},
   "outputs": [
    {
     "name": "stdout",
     "output_type": "stream",
     "text": [
      "+----+------------+-------------+---------------+--------------+\n",
      "|year|TOTAL_FLIGHT|TOTAL_ON_TIME|TOTAL_CANCELLED|TOTAL_DIVERTED|\n",
      "+----+------------+-------------+---------------+--------------+\n",
      "|1987|         339|          336|            3.0|           0.0|\n",
      "|2016|        1502|         1484|           17.0|           1.0|\n",
      "|2020|         462|          438|           24.0|           0.0|\n",
      "|2012|        1519|         1497|           20.0|           2.0|\n",
      "|1988|        1310|         1293|           15.0|           2.0|\n",
      "|2019|        1900|         1862|           34.0|           4.0|\n",
      "|2017|        1449|         1421|           22.0|           6.0|\n",
      "|2014|        1513|         1476|           31.0|           6.0|\n",
      "|2013|        1690|         1663|           22.0|           5.0|\n",
      "|2005|        1812|         1776|           33.0|           3.0|\n",
      "|2000|        1477|         1432|           42.0|           3.0|\n",
      "|2002|        1371|         1360|           11.0|           0.0|\n",
      "|2009|        1604|         1578|           19.0|           7.0|\n",
      "|2018|        1862|         1833|           24.0|           5.0|\n",
      "|1995|        1377|         1352|           22.0|           3.0|\n",
      "|2006|        1900|         1862|           30.0|           8.0|\n",
      "|2004|        1847|         1815|           29.0|           3.0|\n",
      "|2011|        1551|         1516|           29.0|           6.0|\n",
      "|1989|        1288|         1259|           26.0|           3.0|\n",
      "|1992|        1335|         1318|           14.0|           3.0|\n",
      "+----+------------+-------------+---------------+--------------+\n",
      "only showing top 20 rows\n",
      "\n"
     ]
    }
   ],
   "source": [
    "#performance in percentage\n",
    "spark.sql(\"SELECT * FROM AirlineTable1\").show()"
   ]
  },
  {
   "cell_type": "code",
   "execution_count": 21,
   "id": "9afdc095",
   "metadata": {},
   "outputs": [
    {
     "name": "stdout",
     "output_type": "stream",
     "text": [
      "+----+------------+-------------+-----------------+---------------+------------------+--------------+-------------------+\n",
      "|year|TOTAL_FLIGHT|TOTAL_ON_TIME|      ON_TIME_PER|TOTAL_CANCELLED|     CANCELLED_PER|TOTAL_DIVERTED|       DIVERTED_PER|\n",
      "+----+------------+-------------+-----------------+---------------+------------------+--------------+-------------------+\n",
      "|1987|         339|          336|99.11504424778761|            3.0|0.8849557522123894|           0.0|                0.0|\n",
      "|2016|        1502|         1484|98.80159786950732|           17.0|1.1318242343541944|           1.0|0.06657789613848203|\n",
      "|2020|         462|          438| 94.8051948051948|           24.0| 5.194805194805195|           0.0|                0.0|\n",
      "|2012|        1519|         1497|98.55167873601053|           20.0| 1.316655694535879|           2.0| 0.1316655694535879|\n",
      "|1988|        1310|         1293|98.70229007633588|           15.0|1.1450381679389312|           2.0|0.15267175572519084|\n",
      "|2019|        1900|         1862|             98.0|           34.0|1.7894736842105263|           4.0|0.21052631578947367|\n",
      "|2017|        1449|         1421|98.06763285024155|           22.0| 1.518288474810214|           6.0| 0.4140786749482402|\n",
      "|2014|        1513|         1476|97.55452742894911|           31.0| 2.048909451421018|           6.0| 0.3965631196298744|\n",
      "|2013|        1690|         1663|98.40236686390533|           22.0| 1.301775147928994|           5.0| 0.2958579881656805|\n",
      "|2005|        1812|         1776|98.01324503311258|           33.0|1.8211920529801324|           3.0|0.16556291390728478|\n",
      "|2000|        1477|         1432| 96.9532836831415|           42.0| 2.843601895734597|           3.0| 0.2031144211238998|\n",
      "|2002|        1371|         1360|99.19766593727206|           11.0|0.8023340627279358|           0.0|                0.0|\n",
      "|2009|        1604|         1578| 98.3790523690773|           19.0|1.1845386533665836|           7.0|0.43640897755610975|\n",
      "|2018|        1862|         1833|98.44253490870032|           24.0| 1.288936627282492|           5.0|0.26852846401718583|\n",
      "|1995|        1377|         1352|98.18445896877269|           22.0| 1.597676107480029|           3.0| 0.2178649237472767|\n",
      "|2006|        1900|         1862|             98.0|           30.0|1.5789473684210527|           8.0|0.42105263157894735|\n",
      "|2004|        1847|         1815|98.26746074715756|           29.0|1.5701136978884678|           3.0|0.16242555495397942|\n",
      "|2011|        1551|         1516|97.74339136041263|           29.0|1.8697614442295294|           6.0|0.38684719535783363|\n",
      "|1989|        1288|         1259|97.74844720496894|           26.0| 2.018633540372671|           3.0| 0.2329192546583851|\n",
      "|1992|        1335|         1318|98.72659176029963|           14.0| 1.048689138576779|           3.0| 0.2247191011235955|\n",
      "+----+------------+-------------+-----------------+---------------+------------------+--------------+-------------------+\n",
      "only showing top 20 rows\n",
      "\n"
     ]
    }
   ],
   "source": [
    "#performance in percentage\n",
    "spark.sql(\"SELECT year, TOTAL_FLIGHT, TOTAL_ON_TIME, TOTAL_ON_TIME*100/TOTAL_FLIGHT AS ON_TIME_PER, TOTAL_CANCELLED,TOTAL_CANCELLED*100/TOTAL_FLIGHT AS CANCELLED_PER, TOTAL_DIVERTED, TOTAL_DIVERTED*100/TOTAL_FLIGHT AS DIVERTED_PER FROM AirlineTable1;\").show()"
   ]
  },
  {
   "cell_type": "code",
   "execution_count": 24,
   "id": "79b28332",
   "metadata": {},
   "outputs": [
    {
     "name": "stdout",
     "output_type": "stream",
     "text": [
      "+--------------------+------------+-------------+--------------+\n",
      "|      origincityname|TOTAL_FLIGHT|TOTAL_ON_TIME|TOTAL_DIVERTED|\n",
      "+--------------------+------------+-------------+--------------+\n",
      "|Colorado Springs, CO|         100|          100|           0.0|\n",
      "|      Louisville, KY|         175|          170|           4.0|\n",
      "|College Station/B...|          10|           10|           0.0|\n",
      "|          Pierre, SD|           1|            1|           0.0|\n",
      "|         Madison, WI|          81|           80|           1.0|\n",
      "|      Evansville, IN|          18|           18|           0.0|\n",
      "|Champaign/Urbana, IL|          10|           10|           0.0|\n",
      "|        Columbus, MS|           2|            2|           0.0|\n",
      "|        Richmond, VA|         146|          141|           5.0|\n",
      "|   Christiansted, VI|          11|           11|           0.0|\n",
      "|        Florence, SC|           4|            4|           0.0|\n",
      "|      Washington, DC|         704|          683|          19.0|\n",
      "|       El Centro, CA|           1|            1|           0.0|\n",
      "|            Hilo, HI|          26|           26|           0.0|\n",
      "|     Minneapolis, MN|        1128|         1098|          24.0|\n",
      "|       Asheville, NC|          29|           28|           1.0|\n",
      "|      Charleston, SC|         109|          107|           2.0|\n",
      "|      Pittsburgh, PA|         641|          629|           9.0|\n",
      "|    Myrtle Beach, SC|          41|           40|           1.0|\n",
      "|  Salt Lake City, UT|         830|          821|           7.0|\n",
      "+--------------------+------------+-------------+--------------+\n",
      "only showing top 20 rows\n",
      "\n"
     ]
    }
   ],
   "source": [
    "#To calculate origincityname wise on time flight performance\n",
    "df2 = spark.sql(\"SELECT origincityname, COUNT(*) AS TOTAL_FLIGHT, COUNT(arrdelay == 0) AS TOTAL_ON_TIME, sum(cancelled) AS TOTAL_DIVERTED FROM AirlineTable where GROUP BY origin, origincityname\").show();"
   ]
  },
  {
   "cell_type": "code",
   "execution_count": 28,
   "id": "8ae17124",
   "metadata": {},
   "outputs": [],
   "source": [
    "#speed of flights in miles/hour\n",
    "\n",
    "df3 = spark.sql(\"SELECT AirTime/60 As AirTime_Hour, Distance FROM AirlineTable\")"
   ]
  },
  {
   "cell_type": "code",
   "execution_count": 29,
   "id": "608ec6da",
   "metadata": {},
   "outputs": [],
   "source": [
    "df3.registerTempTable(\"AirlineTable3\")"
   ]
  },
  {
   "cell_type": "code",
   "execution_count": 30,
   "id": "52a797b5",
   "metadata": {},
   "outputs": [
    {
     "name": "stdout",
     "output_type": "stream",
     "text": [
      "+------------------+--------+------------------+\n",
      "|      AirTime_Hour|Distance|              nmph|\n",
      "+------------------+--------+------------------+\n",
      "|              2.55|   991.0| 388.6274509803922|\n",
      "|              2.35|  1066.0| 453.6170212765957|\n",
      "|1.7166666666666666|   773.0|450.29126213592235|\n",
      "|3.6666666666666665|  1979.0| 539.7272727272727|\n",
      "|1.3333333333333333|   529.0|            396.75|\n",
      "|0.4666666666666667|   190.0| 407.1428571428571|\n",
      "|1.5666666666666667|   563.0|359.36170212765956|\n",
      "|0.5833333333333334|   192.0| 329.1428571428571|\n",
      "|0.9833333333333333|   316.0|321.35593220338984|\n",
      "|               1.9|   793.0| 417.3684210526316|\n",
      "|              null|   109.0|              null|\n",
      "|1.2833333333333334|   562.0| 437.9220779220779|\n",
      "|              null|  1045.0|              null|\n",
      "|1.5833333333333333|   677.0| 427.5789473684211|\n",
      "|              1.65|   733.0|444.24242424242425|\n",
      "|              null|   278.0|              null|\n",
      "|               0.4|    98.0|             245.0|\n",
      "|               1.7|   689.0|405.29411764705884|\n",
      "|              4.25|  2288.0| 538.3529411764706|\n",
      "|              null|   373.0|              null|\n",
      "+------------------+--------+------------------+\n",
      "only showing top 20 rows\n",
      "\n"
     ]
    }
   ],
   "source": [
    "spark.sql(\"SELECT AirTime_Hour, Distance, Distance/AirTime_Hour as nmph FROM AirlineTable3\").show()"
   ]
  },
  {
   "cell_type": "code",
   "execution_count": 35,
   "id": "ab4c499c",
   "metadata": {},
   "outputs": [],
   "source": [
    "df4 = spark.sql(\"SELECT AirTime_Hour, Distance, Distance/AirTime_Hour as nmph FROM AirlineTable3\")\n",
    "df4.registerTempTable(\"AirlineTable4\")"
   ]
  },
  {
   "cell_type": "code",
   "execution_count": 36,
   "id": "5f919de4",
   "metadata": {},
   "outputs": [
    {
     "name": "stdout",
     "output_type": "stream",
     "text": [
      "+---------+\n",
      "|max(nmph)|\n",
      "+---------+\n",
      "|  17520.0|\n",
      "+---------+\n",
      "\n"
     ]
    }
   ],
   "source": [
    "spark.sql(\"SELECT max(nmph) FROM AirlineTable4\").show()"
   ]
  },
  {
   "cell_type": "code",
   "execution_count": null,
   "id": "d017e4bb",
   "metadata": {},
   "outputs": [],
   "source": []
  }
 ],
 "metadata": {
  "kernelspec": {
   "display_name": "Python 3 (ipykernel)",
   "language": "python",
   "name": "python3"
  },
  "language_info": {
   "codemirror_mode": {
    "name": "ipython",
    "version": 3
   },
   "file_extension": ".py",
   "mimetype": "text/x-python",
   "name": "python",
   "nbconvert_exporter": "python",
   "pygments_lexer": "ipython3",
   "version": "3.9.7"
  }
 },
 "nbformat": 4,
 "nbformat_minor": 5
}
